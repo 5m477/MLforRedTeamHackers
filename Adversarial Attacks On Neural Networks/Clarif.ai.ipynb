{
 "cells": [
  {
   "cell_type": "code",
   "execution_count": 1,
   "metadata": {},
   "outputs": [],
   "source": [
    "%load_ext nb_black"
   ]
  },
  {
   "cell_type": "code",
   "execution_count": null,
   "metadata": {},
   "outputs": [],
   "source": [
    "from clarifai.rest import ClarifaiApp\n",
    "API_KEY = \"ebd06cff13e44f708b13a9df29c6591b\"\n",
    "MODEL_ID = \"d16f390eb32cad478c7ae150069bd2c6\""
   ]
  },
  {
   "cell_type": "code",
   "execution_count": 2,
   "metadata": {},
   "outputs": [],
   "source": [
    "app = ClarifaiApp(api_key=API_KEY)"
   ]
  },
  {
   "cell_type": "code",
   "execution_count": 3,
   "metadata": {},
   "outputs": [],
   "source": [
    "model = app.models.get(model_id=MODEL_ID)"
   ]
  },
  {
   "cell_type": "code",
   "execution_count": 31,
   "metadata": {},
   "outputs": [],
   "source": [
    "response = model.predict_by_filename('coffee.jpg')"
   ]
  },
  {
   "cell_type": "code",
   "execution_count": 32,
   "metadata": {},
   "outputs": [
    {
     "data": {
      "text/plain": [
       "{'status': {'code': 10000,\n",
       "  'description': 'Ok',\n",
       "  'req_id': '552ec583b3b44185a6bc0d3aaac48dbc'},\n",
       " 'outputs': [{'id': 'b57b0b5f4c194405b86d72858275c88c',\n",
       "   'status': {'code': 10000, 'description': 'Ok'},\n",
       "   'created_at': '2019-12-03T13:34:45.798681131Z',\n",
       "   'model': {'id': 'd16f390eb32cad478c7ae150069bd2c6',\n",
       "    'name': 'moderation',\n",
       "    'created_at': '2017-05-16T19:20:38.733764Z',\n",
       "    'app_id': 'main',\n",
       "    'output_info': {'message': 'Show output_info with: GET /models/{model_id}/output_info',\n",
       "     'type': 'concept',\n",
       "     'type_ext': 'concept'},\n",
       "    'model_version': {'id': 'aa8be956dbaa4b7a858826a84253cab9',\n",
       "     'created_at': '2017-10-31T16:30:31.226185Z',\n",
       "     'status': {'code': 21100, 'description': 'Model is trained and ready'}},\n",
       "    'display_name': 'Moderation'},\n",
       "   'input': {'id': '1b12ee475407442a9a218a1329cfcce4',\n",
       "    'data': {'image': {'url': 'https://s3.amazonaws.com/clarifai-api/img3/prod/orig/f54a0cf1bdea45d1861277af0284558e/35fae8e2aef95e7560383ef8afd9ae39',\n",
       "      'base64': 'dHJ1ZQ=='}}},\n",
       "   'data': {'concepts': [{'id': 'ai_QD1zClSd',\n",
       "      'name': 'safe',\n",
       "      'value': 0.9934231042861938,\n",
       "      'app_id': 'main'},\n",
       "     {'id': 'ai_8QQwMjQR',\n",
       "      'name': 'drug',\n",
       "      'value': 0.006576436571776867,\n",
       "      'app_id': 'main'},\n",
       "     {'id': 'ai_RtXh5qkR',\n",
       "      'name': 'suggestive',\n",
       "      'value': 4.292089101909369e-07,\n",
       "      'app_id': 'main'},\n",
       "     {'id': 'ai_V76bvrtj',\n",
       "      'name': 'explicit',\n",
       "      'value': 4.423397825803477e-08,\n",
       "      'app_id': 'main'},\n",
       "     {'id': 'ai_kBBGf7r8',\n",
       "      'name': 'gore',\n",
       "      'value': 7.0157977205553834e-09,\n",
       "      'app_id': 'main'}]}}]}"
      ]
     },
     "execution_count": 32,
     "metadata": {},
     "output_type": "execute_result"
    }
   ],
   "source": [
    "response"
   ]
  },
  {
   "cell_type": "code",
   "execution_count": 4,
   "metadata": {},
   "outputs": [],
   "source": [
    "IMAGE_PATH = \"coffee.jpg\""
   ]
  },
  {
   "cell_type": "code",
   "execution_count": 4,
   "metadata": {},
   "outputs": [],
   "source": [
    "import cv2\n",
    "im = cv2.imread(IMAGE_PATH)"
   ]
  },
  {
   "cell_type": "code",
   "execution_count": 11,
   "metadata": {},
   "outputs": [],
   "source": [
    "cv2.imshow('ImageWindow', current_image)\n",
    "cv2.waitKey(0)\n",
    "cv2.destroyAllWindows()"
   ]
  },
  {
   "cell_type": "code",
   "execution_count": 1,
   "metadata": {},
   "outputs": [],
   "source": [
    "from clarifai.rest import ClarifaiApp\n",
    "API_KEY = \"ebd06cff13e44f708b13a9df29c6591b\"\n",
    "MODEL_ID = \"d16f390eb32cad478c7ae150069bd2c6\"\n",
    "app = ClarifaiApp(api_key=API_KEY)\n",
    "model = app.models.get(model_id=MODEL_ID)"
   ]
  },
  {
   "cell_type": "code",
   "execution_count": 11,
   "metadata": {},
   "outputs": [],
   "source": [
    "import cv2\n",
    "import numpy as np\n",
    "IMAGE_PATH = \"coffee.jpg\"\n",
    "im = cv2.imread(IMAGE_PATH)\n",
    "im2 = cv2.resize(im,(50,50))\n",
    "im3 = cv2.cvtColor(im2, cv2.COLOR_BGR2GRAY)\n",
    "current_image = im3.astype(np.float32) / 255"
   ]
  },
  {
   "cell_type": "code",
   "execution_count": 15,
   "metadata": {},
   "outputs": [],
   "source": [
    "def image_to_predictions(image_path):\n",
    "    \"\"\"Uses the clarifai model to give a prediction vector for image.\"\"\"\n",
    "    response = model.predict_by_filename(image_path)\n",
    "    concepts = response['outputs'][0]['data']['concepts']\n",
    "    scores_dict = {}\n",
    "    for concept in concepts:\n",
    "        scores_dict[concept['name']] = concept['value']\n",
    "    final_dict = [scores_dict['safe'], scores_dict['suggestive'],scores_dict['explicit'],scores_dict['drug'],scores_dict['gore']]\n",
    "    return np.asarray(final_dict)"
   ]
  },
  {
   "cell_type": "code",
   "execution_count": 16,
   "metadata": {},
   "outputs": [],
   "source": [
    "def save_image(image, path):\n",
    "    \"\"\"Saves the image to specified path.\"\"\"\n",
    "    cv2.imwrite(path, image)"
   ]
  },
  {
   "cell_type": "code",
   "execution_count": 17,
   "metadata": {},
   "outputs": [],
   "source": [
    "def plus_h_image(current_image, coordinate):\n",
    "    \"\"\"Perturbs the image at the specified pixel.\"\"\"\n",
    "    plus_image = current_image.copy()\n",
    "    plus_image[coordinate_numbering_rev[coordinate]] = plus_image[coordinate_numbering_rev[coordinate]]+h\n",
    "    return plus_image"
   ]
  },
  {
   "cell_type": "code",
   "execution_count": 18,
   "metadata": {},
   "outputs": [],
   "source": [
    "def pick_random_coordinate():\n",
    "    \"\"\"Selects a pixel at random.\"\"\"\n",
    "    return np.random.choice(coordinates, 1)[0]"
   ]
  },
  {
   "cell_type": "code",
   "execution_count": 19,
   "metadata": {},
   "outputs": [],
   "source": [
    "def is_better(goal_coordinate, delta):\n",
    "    \"\"\"Goal is to minimize the value of goal_coordinate.\"\"\"\n",
    "    return delta[goal_coordinate] < 0"
   ]
  },
  {
   "cell_type": "code",
   "execution_count": 20,
   "metadata": {},
   "outputs": [],
   "source": [
    "coordinate_numbering = {}\n",
    "coordinate_numbering_rev = {}\n",
    "index = 0\n",
    "for i in range(current_image.shape[1]):\n",
    "    for j in range(current_image.shape[0]):\n",
    "            coordinate_numbering[tuple((i,j))]=index\n",
    "            coordinate_numbering_rev[index]=tuple((i,j))\n",
    "            index+=1\n",
    "coordinates = list(coordinate_numbering.values())"
   ]
  },
  {
   "cell_type": "code",
   "execution_count": 21,
   "metadata": {},
   "outputs": [
    {
     "name": "stdout",
     "output_type": "stream",
     "text": [
      "Iteration 0 score:\n",
      "[9.98826861e-01 1.91611065e-07 3.88002022e-08 1.17289473e-03\n",
      " 3.01193595e-08]\n",
      "Iteration 0 delta:\n",
      "[ 0.00000000e+00 -1.08002496e-12 -2.45137244e-13 -1.17579475e-08\n",
      " -2.41584530e-13]\n",
      "Iteration 1 score:\n",
      "[9.98713017e-01 1.95503304e-07 3.92091550e-08 1.28676998e-03\n",
      " 2.96463138e-08]\n",
      "Iteration 1 delta:\n",
      "[-3.57627869e-06  8.19316881e-09  2.09722018e-09  3.44810542e-06\n",
      "  3.67004205e-10]\n",
      "Iteration 2 score:\n",
      "[9.98793185e-01 2.09130476e-07 3.99210975e-08 1.20653852e-03\n",
      " 2.99399758e-08]\n",
      "Iteration 2 delta:\n",
      "[ 1.99675560e-05 -6.06115691e-09 -4.04224210e-10 -2.00306531e-05\n",
      " -5.66162228e-10]\n",
      "Iteration 3 score:\n",
      "[9.98811483e-01 1.90833674e-07 3.63971715e-08 1.18828763e-03\n",
      " 2.87970057e-08]\n",
      "Iteration 3 delta:\n",
      "[-4.97698784e-05  1.41352956e-08  4.89388086e-09  4.97497385e-05\n",
      "  1.95761807e-09]\n",
      "Iteration 4 score:\n",
      "[9.98747885e-01 2.18077091e-07 3.71979247e-08 1.25180103e-03\n",
      " 2.84209403e-08]\n",
      "Iteration 4 delta:\n",
      "[ 2.37822533e-05 -4.11004919e-09 -3.75379727e-11 -2.37227650e-05\n",
      " -3.85337984e-10]\n",
      "Iteration 5 score:\n",
      "[9.98785377e-01 2.16870902e-07 3.73517501e-08 1.21434534e-03\n",
      " 2.85441271e-08]\n",
      "Iteration 5 delta:\n",
      "[ 1.56164169e-05 -3.66543418e-09  2.31871411e-10 -1.56807946e-05\n",
      " -3.91171540e-11]\n",
      "Iteration 6 score:\n",
      "[9.98777866e-01 2.22353520e-07 3.80436695e-08 1.22176670e-03\n",
      " 2.89126110e-08]\n",
      "Iteration 6 delta:\n",
      "[ 7.21216202e-06  1.16870069e-10 -1.38882683e-10 -7.16454815e-06\n",
      "  2.65750089e-10]\n",
      "Iteration 7 score:\n",
      "[9.98772144e-01 2.26499736e-07 3.89977508e-08 1.22749608e-03\n",
      " 2.94629316e-08]\n",
      "Iteration 7 delta:\n",
      "[-1.00135803e-05 -4.66731365e-09 -1.08138209e-09  1.00473408e-05\n",
      " -1.87699811e-09]\n",
      "Iteration 8 score:\n",
      "[9.98756051e-01 2.18528385e-07 3.90859896e-08 1.24363741e-03\n",
      " 2.79718027e-08]\n",
      "Iteration 8 delta:\n",
      "[-1.74045563e-05 -3.30813066e-09 -9.22071308e-11  1.74145680e-05\n",
      "  3.22364357e-10]\n",
      "Iteration 9 score:\n",
      "[9.98785257e-01 2.10698175e-07 3.87343881e-08 1.21444243e-03\n",
      " 2.85228232e-08]\n",
      "Iteration 9 delta:\n",
      "[ 1.29938126e-05  5.12802956e-09  1.58006230e-09 -1.30167464e-05\n",
      "  1.32356703e-09]\n"
     ]
    }
   ],
   "source": [
    "GOAL_COORDINATE = 0\n",
    "NUM_ITERS = 10\n",
    "LEARNING_RATE = 0.01\n",
    "h = 0.005\n",
    "for i in range(NUM_ITERS):\n",
    "    image_save_path = \"current_image\"+str(i)+\".jpg\"\n",
    "    save_image(current_image*255, image_save_path)\n",
    "    current_score = image_to_predictions(image_save_path)\n",
    "    print(\"Iteration \"+str(i)+\" score:\")\n",
    "    print(current_score)\n",
    "    chosen_coordinate = pick_random_coordinate()\n",
    "    plus_image = plus_h_image(current_image, chosen_coordinate)\n",
    "    save_image(plus_image*255,\"plus_image.jpg\")\n",
    "    plus_prediction = image_to_predictions(\"plus_image.jpg\")\n",
    "    delta = plus_prediction-current_score\n",
    "    print(\"Iteration \"+str(i)+\" delta:\")\n",
    "    print(delta)\n",
    "    if (is_better(GOAL_COORDINATE, delta)):\n",
    "        current_image[coordinate_numbering_rev[chosen_coordinate]]+=LEARNING_RATE \n",
    "    else:\n",
    "        current_image[coordinate_numbering_rev[chosen_coordinate]]-=LEARNING_RATE"
   ]
  },
  {
   "cell_type": "code",
   "execution_count": null,
   "metadata": {},
   "outputs": [],
   "source": []
  }
 ],
 "metadata": {
  "kernelspec": {
   "display_name": "Python 3",
   "language": "python",
   "name": "python3"
  },
  "language_info": {
   "codemirror_mode": {
    "name": "ipython",
    "version": 3
   },
   "file_extension": ".py",
   "mimetype": "text/x-python",
   "name": "python",
   "nbconvert_exporter": "python",
   "pygments_lexer": "ipython3",
   "version": "3.6.7"
  }
 },
 "nbformat": 4,
 "nbformat_minor": 2
}
