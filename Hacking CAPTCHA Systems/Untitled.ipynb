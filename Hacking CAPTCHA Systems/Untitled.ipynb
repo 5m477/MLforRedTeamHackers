{
 "cells": [
  {
   "cell_type": "code",
   "execution_count": 1,
   "metadata": {},
   "outputs": [
    {
     "data": {
      "application/javascript": [
       "\n",
       "            setTimeout(function() {\n",
       "                var nbb_cell_id = 1;\n",
       "                var nbb_formatted_code = \"%load_ext nb_black\";\n",
       "                var nbb_cells = Jupyter.notebook.get_cells();\n",
       "                for (var i = 0; i < nbb_cells.length; ++i) {\n",
       "                    if (nbb_cells[i].input_prompt_number == nbb_cell_id) {\n",
       "                        nbb_cells[i].set_text(nbb_formatted_code);\n",
       "                        break;\n",
       "                    }\n",
       "                }\n",
       "            }, 500);\n",
       "            "
      ],
      "text/plain": [
       "<IPython.core.display.Javascript object>"
      ]
     },
     "metadata": {},
     "output_type": "display_data"
    }
   ],
   "source": [
    "%load_ext nb_black"
   ]
  },
  {
   "cell_type": "code",
   "execution_count": 2,
   "metadata": {},
   "outputs": [
    {
     "data": {
      "application/javascript": [
       "\n",
       "            setTimeout(function() {\n",
       "                var nbb_cell_id = 2;\n",
       "                var nbb_formatted_code = \"import cv2\\n\\n\\ndef read_image(image_file_path):\\n    \\\"\\\"\\\"Reads in the image using openCV\\\"\\\"\\\"\\n    return cv2.imread(image_file_path)\";\n",
       "                var nbb_cells = Jupyter.notebook.get_cells();\n",
       "                for (var i = 0; i < nbb_cells.length; ++i) {\n",
       "                    if (nbb_cells[i].input_prompt_number == nbb_cell_id) {\n",
       "                        nbb_cells[i].set_text(nbb_formatted_code);\n",
       "                        break;\n",
       "                    }\n",
       "                }\n",
       "            }, 500);\n",
       "            "
      ],
      "text/plain": [
       "<IPython.core.display.Javascript object>"
      ]
     },
     "metadata": {},
     "output_type": "display_data"
    }
   ],
   "source": [
    "import cv2\n",
    "\n",
    "\n",
    "def read_image(image_file_path):\n",
    "    \"\"\"Reads in the image using openCV\"\"\"\n",
    "    return cv2.imread(image_file_path)"
   ]
  },
  {
   "cell_type": "code",
   "execution_count": 3,
   "metadata": {},
   "outputs": [
    {
     "data": {
      "application/javascript": [
       "\n",
       "            setTimeout(function() {\n",
       "                var nbb_cell_id = 3;\n",
       "                var nbb_formatted_code = \"def lets_see_it(image):\\n    \\\"\\\"\\\"Displays the image.\\\"\\\"\\\"\\n    cv2.imshow(\\\"window name\\\", image)\\n    cv2.waitKey(0)\\n    cv2.destroyAllWindows()\";\n",
       "                var nbb_cells = Jupyter.notebook.get_cells();\n",
       "                for (var i = 0; i < nbb_cells.length; ++i) {\n",
       "                    if (nbb_cells[i].input_prompt_number == nbb_cell_id) {\n",
       "                        nbb_cells[i].set_text(nbb_formatted_code);\n",
       "                        break;\n",
       "                    }\n",
       "                }\n",
       "            }, 500);\n",
       "            "
      ],
      "text/plain": [
       "<IPython.core.display.Javascript object>"
      ]
     },
     "metadata": {},
     "output_type": "display_data"
    }
   ],
   "source": [
    "def lets_see_it(image):\n",
    "    \"\"\"Displays the image.\"\"\"\n",
    "    cv2.imshow(\"window name\", image)\n",
    "    cv2.waitKey(0)\n",
    "    cv2.destroyAllWindows()"
   ]
  },
  {
   "cell_type": "code",
   "execution_count": 4,
   "metadata": {},
   "outputs": [
    {
     "data": {
      "application/javascript": [
       "\n",
       "            setTimeout(function() {\n",
       "                var nbb_cell_id = 4;\n",
       "                var nbb_formatted_code = \"def grayscale(image):\\n    \\\"\\\"\\\"Grayscales image using openCV.\\\"\\\"\\\"\\n    return cv2.cvtColor(image, cv2.COLOR_BGR2GRAY)\";\n",
       "                var nbb_cells = Jupyter.notebook.get_cells();\n",
       "                for (var i = 0; i < nbb_cells.length; ++i) {\n",
       "                    if (nbb_cells[i].input_prompt_number == nbb_cell_id) {\n",
       "                        nbb_cells[i].set_text(nbb_formatted_code);\n",
       "                        break;\n",
       "                    }\n",
       "                }\n",
       "            }, 500);\n",
       "            "
      ],
      "text/plain": [
       "<IPython.core.display.Javascript object>"
      ]
     },
     "metadata": {},
     "output_type": "display_data"
    }
   ],
   "source": [
    "def grayscale(image):\n",
    "    \"\"\"Grayscales image using openCV.\"\"\"\n",
    "    return cv2.cvtColor(image, cv2.COLOR_BGR2GRAY)"
   ]
  },
  {
   "cell_type": "code",
   "execution_count": 5,
   "metadata": {},
   "outputs": [
    {
     "data": {
      "application/javascript": [
       "\n",
       "            setTimeout(function() {\n",
       "                var nbb_cell_id = 5;\n",
       "                var nbb_formatted_code = \"import imutils\\n\\n\\ndef normalize_dimensions(image, desired_width=20, desired_height=20):\\n    \\\"\\\"\\\"Resizes image to desired dimensions using white padding and rescaling.\\\"\\\"\\\"\\n    (h, w) = image.shape[:2]\\n    if w > h:\\n        image = imutils.resize(image, width=desired_width)\\n    else:\\n        image = imutils.resize(image, height=desired_height)\\n    width_padding = int((desired_width - image.shape[1]) / 2)\\n    height_padding = int((desired_height - image.shape[0]) / 2)\\n    WHITE = [255, 255, 255]\\n    image_with_border = cv2.copyMakeBorder(\\n        image,\\n        height_padding,\\n        height_padding,\\n        width_padding,\\n        width_padding,\\n        cv2.BORDER_CONSTANT,\\n        value=WHITE,\\n    )\\n    image_with_border_resized = cv2.resize(\\n        image_with_border, (desired_width, desired_height), interpolation=cv2.INTER_AREA\\n    )\\n    return image_with_border_resized\";\n",
       "                var nbb_cells = Jupyter.notebook.get_cells();\n",
       "                for (var i = 0; i < nbb_cells.length; ++i) {\n",
       "                    if (nbb_cells[i].input_prompt_number == nbb_cell_id) {\n",
       "                        nbb_cells[i].set_text(nbb_formatted_code);\n",
       "                        break;\n",
       "                    }\n",
       "                }\n",
       "            }, 500);\n",
       "            "
      ],
      "text/plain": [
       "<IPython.core.display.Javascript object>"
      ]
     },
     "metadata": {},
     "output_type": "display_data"
    }
   ],
   "source": [
    "import imutils\n",
    "\n",
    "\n",
    "def normalize_dimensions(image, desired_width=20, desired_height=20):\n",
    "    \"\"\"Resizes image to desired dimensions using white padding and rescaling.\"\"\"\n",
    "    (h, w) = image.shape[:2]\n",
    "    if w > h:\n",
    "        image = imutils.resize(image, width=desired_width)\n",
    "    else:\n",
    "        image = imutils.resize(image, height=desired_height)\n",
    "    width_padding = int((desired_width - image.shape[1]) / 2)\n",
    "    height_padding = int((desired_height - image.shape[0]) / 2)\n",
    "    WHITE = [255, 255, 255]\n",
    "    image_with_border = cv2.copyMakeBorder(\n",
    "        image,\n",
    "        height_padding,\n",
    "        height_padding,\n",
    "        width_padding,\n",
    "        width_padding,\n",
    "        cv2.BORDER_CONSTANT,\n",
    "        value=WHITE,\n",
    "    )\n",
    "    image_with_border_resized = cv2.resize(\n",
    "        image_with_border, (desired_width, desired_height), interpolation=cv2.INTER_AREA\n",
    "    )\n",
    "    return image_with_border_resized"
   ]
  },
  {
   "cell_type": "code",
   "execution_count": 6,
   "metadata": {},
   "outputs": [
    {
     "data": {
      "application/javascript": [
       "\n",
       "            setTimeout(function() {\n",
       "                var nbb_cell_id = 6;\n",
       "                var nbb_formatted_code = \"import numpy as np\\n\\n\\ndef reshape_for_keras(image):\\n    \\\"\\\"\\\"Adds a dummy dimension to fit keras's input requirements.\\\"\\\"\\\"\\n    return np.expand_dims(image, axis=2)\";\n",
       "                var nbb_cells = Jupyter.notebook.get_cells();\n",
       "                for (var i = 0; i < nbb_cells.length; ++i) {\n",
       "                    if (nbb_cells[i].input_prompt_number == nbb_cell_id) {\n",
       "                        nbb_cells[i].set_text(nbb_formatted_code);\n",
       "                        break;\n",
       "                    }\n",
       "                }\n",
       "            }, 500);\n",
       "            "
      ],
      "text/plain": [
       "<IPython.core.display.Javascript object>"
      ]
     },
     "metadata": {},
     "output_type": "display_data"
    }
   ],
   "source": [
    "import numpy as np\n",
    "\n",
    "\n",
    "def reshape_for_keras(image):\n",
    "    \"\"\"Adds a dummy dimension to fit keras's input requirements.\"\"\"\n",
    "    return np.expand_dims(image, axis=2)"
   ]
  },
  {
   "cell_type": "code",
   "execution_count": 7,
   "metadata": {},
   "outputs": [
    {
     "data": {
      "application/javascript": [
       "\n",
       "            setTimeout(function() {\n",
       "                var nbb_cell_id = 7;\n",
       "                var nbb_formatted_code = \"from imutils import paths\\nimport os\\n\\ncaptcha_processing_output_folder = \\\"extracted_character_images\\\"\\nimages = []\\nlabels = []\\n\\nfor image_file_path in paths.list_images(captcha_processing_output_folder):\\n    image = read_image(image_file_path)\\n    image_gray = grayscale(image)\\n    image_normalized = normalize_dimensions(image_gray)\\n    image_reshaped_for_keras = reshape_for_keras(image_normalized)\\n    images.append(image_reshaped_for_keras)\\n    label = image_file_path.split(os.path.sep)[-2]\\n    labels.append(label)\";\n",
       "                var nbb_cells = Jupyter.notebook.get_cells();\n",
       "                for (var i = 0; i < nbb_cells.length; ++i) {\n",
       "                    if (nbb_cells[i].input_prompt_number == nbb_cell_id) {\n",
       "                        nbb_cells[i].set_text(nbb_formatted_code);\n",
       "                        break;\n",
       "                    }\n",
       "                }\n",
       "            }, 500);\n",
       "            "
      ],
      "text/plain": [
       "<IPython.core.display.Javascript object>"
      ]
     },
     "metadata": {},
     "output_type": "display_data"
    }
   ],
   "source": [
    "from imutils import paths\n",
    "import os\n",
    "\n",
    "captcha_processing_output_folder = \"extracted_character_images\"\n",
    "images = []\n",
    "labels = []\n",
    "\n",
    "for image_file_path in paths.list_images(captcha_processing_output_folder):\n",
    "    image = read_image(image_file_path)\n",
    "    image_gray = grayscale(image)\n",
    "    image_normalized = normalize_dimensions(image_gray)\n",
    "    image_reshaped_for_keras = reshape_for_keras(image_normalized)\n",
    "    images.append(image_reshaped_for_keras)\n",
    "    label = image_file_path.split(os.path.sep)[-2]\n",
    "    labels.append(label)"
   ]
  },
  {
   "cell_type": "code",
   "execution_count": 8,
   "metadata": {},
   "outputs": [
    {
     "data": {
      "application/javascript": [
       "\n",
       "            setTimeout(function() {\n",
       "                var nbb_cell_id = 8;\n",
       "                var nbb_formatted_code = \"X = np.array(images, dtype=\\\"float\\\") / 255.0\\nlabels = np.array(labels)\";\n",
       "                var nbb_cells = Jupyter.notebook.get_cells();\n",
       "                for (var i = 0; i < nbb_cells.length; ++i) {\n",
       "                    if (nbb_cells[i].input_prompt_number == nbb_cell_id) {\n",
       "                        nbb_cells[i].set_text(nbb_formatted_code);\n",
       "                        break;\n",
       "                    }\n",
       "                }\n",
       "            }, 500);\n",
       "            "
      ],
      "text/plain": [
       "<IPython.core.display.Javascript object>"
      ]
     },
     "metadata": {},
     "output_type": "display_data"
    }
   ],
   "source": [
    "X = np.array(images, dtype=\"float\") / 255.0\n",
    "labels = np.array(labels)"
   ]
  },
  {
   "cell_type": "code",
   "execution_count": 9,
   "metadata": {},
   "outputs": [
    {
     "data": {
      "text/plain": [
       "(18636, 20, 20, 1)"
      ]
     },
     "execution_count": 9,
     "metadata": {},
     "output_type": "execute_result"
    },
    {
     "data": {
      "application/javascript": [
       "\n",
       "            setTimeout(function() {\n",
       "                var nbb_cell_id = 9;\n",
       "                var nbb_formatted_code = \"X.shape\";\n",
       "                var nbb_cells = Jupyter.notebook.get_cells();\n",
       "                for (var i = 0; i < nbb_cells.length; ++i) {\n",
       "                    if (nbb_cells[i].input_prompt_number == nbb_cell_id) {\n",
       "                        nbb_cells[i].set_text(nbb_formatted_code);\n",
       "                        break;\n",
       "                    }\n",
       "                }\n",
       "            }, 500);\n",
       "            "
      ],
      "text/plain": [
       "<IPython.core.display.Javascript object>"
      ]
     },
     "metadata": {},
     "output_type": "display_data"
    }
   ],
   "source": [
    "X.shape"
   ]
  },
  {
   "cell_type": "code",
   "execution_count": 10,
   "metadata": {},
   "outputs": [
    {
     "data": {
      "application/javascript": [
       "\n",
       "            setTimeout(function() {\n",
       "                var nbb_cell_id = 10;\n",
       "                var nbb_formatted_code = \"from sklearn import preprocessing\\n\\nlabel_binarizer = preprocessing.LabelBinarizer().fit(labels)\\ny = label_binarizer.transform(labels)\";\n",
       "                var nbb_cells = Jupyter.notebook.get_cells();\n",
       "                for (var i = 0; i < nbb_cells.length; ++i) {\n",
       "                    if (nbb_cells[i].input_prompt_number == nbb_cell_id) {\n",
       "                        nbb_cells[i].set_text(nbb_formatted_code);\n",
       "                        break;\n",
       "                    }\n",
       "                }\n",
       "            }, 500);\n",
       "            "
      ],
      "text/plain": [
       "<IPython.core.display.Javascript object>"
      ]
     },
     "metadata": {},
     "output_type": "display_data"
    }
   ],
   "source": [
    "from sklearn import preprocessing\n",
    "\n",
    "label_binarizer = preprocessing.LabelBinarizer().fit(labels)\n",
    "y = label_binarizer.transform(labels)"
   ]
  },
  {
   "cell_type": "code",
   "execution_count": 11,
   "metadata": {},
   "outputs": [
    {
     "name": "stdout",
     "output_type": "stream",
     "text": [
      "Model: \"sequential_1\"\n",
      "_________________________________________________________________\n",
      "Layer (type)                 Output Shape              Param #   \n",
      "=================================================================\n",
      "conv2d_1 (Conv2D)            (None, 20, 20, 20)        520       \n",
      "_________________________________________________________________\n",
      "max_pooling2d_1 (MaxPooling2 (None, 10, 10, 20)        0         \n",
      "_________________________________________________________________\n",
      "conv2d_2 (Conv2D)            (None, 10, 10, 50)        25050     \n",
      "_________________________________________________________________\n",
      "max_pooling2d_2 (MaxPooling2 (None, 5, 5, 50)          0         \n",
      "_________________________________________________________________\n",
      "flatten_1 (Flatten)          (None, 1250)              0         \n",
      "_________________________________________________________________\n",
      "dense_1 (Dense)              (None, 512)               640512    \n",
      "_________________________________________________________________\n",
      "dense_2 (Dense)              (None, 32)                16416     \n",
      "=================================================================\n",
      "Total params: 682,498\n",
      "Trainable params: 682,498\n",
      "Non-trainable params: 0\n",
      "_________________________________________________________________\n"
     ]
    },
    {
     "name": "stderr",
     "output_type": "stream",
     "text": [
      "Using TensorFlow backend.\n"
     ]
    },
    {
     "data": {
      "application/javascript": [
       "\n",
       "            setTimeout(function() {\n",
       "                var nbb_cell_id = 11;\n",
       "                var nbb_formatted_code = \"from tensorflow.keras import backend\\nfrom keras.models import Sequential\\nfrom keras.layers.convolutional import Conv2D, MaxPooling2D\\nfrom keras.layers.core import Flatten, Dense\\n\\nnum_classes = len(set(labels))\\nCNN_model = Sequential()\\nCNN_model.add(\\n    Conv2D(20, (5, 5), padding=\\\"same\\\", input_shape=(20, 20, 1), activation=\\\"relu\\\")\\n)\\nCNN_model.add(MaxPooling2D(pool_size=(2, 2), strides=(2, 2)))\\nCNN_model.add(Conv2D(50, (5, 5), padding=\\\"same\\\", activation=\\\"relu\\\"))\\nCNN_model.add(MaxPooling2D(pool_size=(2, 2), strides=(2, 2)))\\nCNN_model.add(Flatten())\\nCNN_model.add(Dense(512, activation=\\\"relu\\\"))\\nCNN_model.add(Dense(num_classes, activation=\\\"softmax\\\"))\\nCNN_model.compile(\\n    loss=\\\"categorical_crossentropy\\\", optimizer=\\\"adam\\\", metrics=[\\\"accuracy\\\"]\\n)\\nCNN_model.summary()\";\n",
       "                var nbb_cells = Jupyter.notebook.get_cells();\n",
       "                for (var i = 0; i < nbb_cells.length; ++i) {\n",
       "                    if (nbb_cells[i].input_prompt_number == nbb_cell_id) {\n",
       "                        nbb_cells[i].set_text(nbb_formatted_code);\n",
       "                        break;\n",
       "                    }\n",
       "                }\n",
       "            }, 500);\n",
       "            "
      ],
      "text/plain": [
       "<IPython.core.display.Javascript object>"
      ]
     },
     "metadata": {},
     "output_type": "display_data"
    }
   ],
   "source": [
    "from tensorflow.keras import backend\n",
    "from keras.models import Sequential\n",
    "from keras.layers.convolutional import Conv2D, MaxPooling2D\n",
    "from keras.layers.core import Flatten, Dense\n",
    "\n",
    "num_classes = len(set(labels))\n",
    "CNN_model = Sequential()\n",
    "CNN_model.add(\n",
    "    Conv2D(20, (5, 5), padding=\"same\", input_shape=(20, 20, 1), activation=\"relu\")\n",
    ")\n",
    "CNN_model.add(MaxPooling2D(pool_size=(2, 2), strides=(2, 2)))\n",
    "CNN_model.add(Conv2D(50, (5, 5), padding=\"same\", activation=\"relu\"))\n",
    "CNN_model.add(MaxPooling2D(pool_size=(2, 2), strides=(2, 2)))\n",
    "CNN_model.add(Flatten())\n",
    "CNN_model.add(Dense(512, activation=\"relu\"))\n",
    "CNN_model.add(Dense(num_classes, activation=\"softmax\"))\n",
    "CNN_model.compile(\n",
    "    loss=\"categorical_crossentropy\", optimizer=\"adam\", metrics=[\"accuracy\"]\n",
    ")\n",
    "CNN_model.summary()"
   ]
  },
  {
   "cell_type": "code",
   "execution_count": 12,
   "metadata": {},
   "outputs": [
    {
     "data": {
      "application/javascript": [
       "\n",
       "            setTimeout(function() {\n",
       "                var nbb_cell_id = 12;\n",
       "                var nbb_formatted_code = \"from sklearn.model_selection import train_test_split\\n\\nX_train, X_test, y_train, y_test = train_test_split(X, y, test_size=0.2, shuffle=True)\";\n",
       "                var nbb_cells = Jupyter.notebook.get_cells();\n",
       "                for (var i = 0; i < nbb_cells.length; ++i) {\n",
       "                    if (nbb_cells[i].input_prompt_number == nbb_cell_id) {\n",
       "                        nbb_cells[i].set_text(nbb_formatted_code);\n",
       "                        break;\n",
       "                    }\n",
       "                }\n",
       "            }, 500);\n",
       "            "
      ],
      "text/plain": [
       "<IPython.core.display.Javascript object>"
      ]
     },
     "metadata": {},
     "output_type": "display_data"
    }
   ],
   "source": [
    "from sklearn.model_selection import train_test_split\n",
    "\n",
    "X_train, X_test, y_train, y_test = train_test_split(X, y, test_size=0.2, shuffle=True)"
   ]
  },
  {
   "cell_type": "code",
   "execution_count": 13,
   "metadata": {},
   "outputs": [
    {
     "name": "stdout",
     "output_type": "stream",
     "text": [
      "Train on 14908 samples, validate on 3728 samples\n",
      "Epoch 1/5\n",
      "14908/14908 [==============================] - 10s 704us/step - loss: 0.4846 - accuracy: 0.8762 - val_loss: 0.0594 - val_accuracy: 0.9866\n",
      "Epoch 2/5\n",
      "14908/14908 [==============================] - 10s 658us/step - loss: 0.0330 - accuracy: 0.9924 - val_loss: 0.0319 - val_accuracy: 0.9925\n",
      "Epoch 3/5\n",
      "14908/14908 [==============================] - 10s 676us/step - loss: 0.0136 - accuracy: 0.9966 - val_loss: 0.0300 - val_accuracy: 0.9936\n",
      "Epoch 4/5\n",
      "14908/14908 [==============================] - 12s 803us/step - loss: 0.0070 - accuracy: 0.9985 - val_loss: 0.0295 - val_accuracy: 0.9936\n",
      "Epoch 5/5\n",
      "14908/14908 [==============================] - 13s 860us/step - loss: 0.0043 - accuracy: 0.9985 - val_loss: 0.0290 - val_accuracy: 0.9957 - accuracy: 0. - ETA: 6s - loss: 0.0062 - accura - ETA: 6s - loss: 0.006 - ETA: 5s - l - ETA: 4s - l\n"
     ]
    },
    {
     "data": {
      "text/plain": [
       "<keras.callbacks.callbacks.History at 0x1b59c66ab48>"
      ]
     },
     "execution_count": 13,
     "metadata": {},
     "output_type": "execute_result"
    },
    {
     "data": {
      "application/javascript": [
       "\n",
       "            setTimeout(function() {\n",
       "                var nbb_cell_id = 13;\n",
       "                var nbb_formatted_code = \"CNN_model.fit(\\n    X_train,\\n    y_train,\\n    validation_data=(X_test, y_test),\\n    batch_size=32,\\n    epochs=5,\\n    verbose=1,\\n)\";\n",
       "                var nbb_cells = Jupyter.notebook.get_cells();\n",
       "                for (var i = 0; i < nbb_cells.length; ++i) {\n",
       "                    if (nbb_cells[i].input_prompt_number == nbb_cell_id) {\n",
       "                        nbb_cells[i].set_text(nbb_formatted_code);\n",
       "                        break;\n",
       "                    }\n",
       "                }\n",
       "            }, 500);\n",
       "            "
      ],
      "text/plain": [
       "<IPython.core.display.Javascript object>"
      ]
     },
     "metadata": {},
     "output_type": "display_data"
    }
   ],
   "source": [
    "CNN_model.fit(\n",
    "    X_train,\n",
    "    y_train,\n",
    "    validation_data=(X_test, y_test),\n",
    "    batch_size=32,\n",
    "    epochs=5,\n",
    "    verbose=1,\n",
    ")"
   ]
  },
  {
   "cell_type": "code",
   "execution_count": 14,
   "metadata": {},
   "outputs": [
    {
     "data": {
      "application/javascript": [
       "\n",
       "            setTimeout(function() {\n",
       "                var nbb_cell_id = 14;\n",
       "                var nbb_formatted_code = \"CAPTCHA = \\\"captcha_images\\\\\\\\2A5J.png\\\"\";\n",
       "                var nbb_cells = Jupyter.notebook.get_cells();\n",
       "                for (var i = 0; i < nbb_cells.length; ++i) {\n",
       "                    if (nbb_cells[i].input_prompt_number == nbb_cell_id) {\n",
       "                        nbb_cells[i].set_text(nbb_formatted_code);\n",
       "                        break;\n",
       "                    }\n",
       "                }\n",
       "            }, 500);\n",
       "            "
      ],
      "text/plain": [
       "<IPython.core.display.Javascript object>"
      ]
     },
     "metadata": {},
     "output_type": "display_data"
    }
   ],
   "source": [
    "CAPTCHA = \"captcha_images\\\\2A5J.png\""
   ]
  },
  {
   "cell_type": "code",
   "execution_count": 15,
   "metadata": {},
   "outputs": [
    {
     "data": {
      "application/javascript": [
       "\n",
       "            setTimeout(function() {\n",
       "                var nbb_cell_id = 15;\n",
       "                var nbb_formatted_code = \"import cv2\\n\\n\\ndef read_CAPTCHA_image(captcha_image_file):\\n    \\\"\\\"\\\"Read CAPTCHA image into numpy array using OpenCv.\\\"\\\"\\\"\\n    return cv2.imread(captcha_image_file)\";\n",
       "                var nbb_cells = Jupyter.notebook.get_cells();\n",
       "                for (var i = 0; i < nbb_cells.length; ++i) {\n",
       "                    if (nbb_cells[i].input_prompt_number == nbb_cell_id) {\n",
       "                        nbb_cells[i].set_text(nbb_formatted_code);\n",
       "                        break;\n",
       "                    }\n",
       "                }\n",
       "            }, 500);\n",
       "            "
      ],
      "text/plain": [
       "<IPython.core.display.Javascript object>"
      ]
     },
     "metadata": {},
     "output_type": "display_data"
    }
   ],
   "source": [
    "import cv2\n",
    "\n",
    "\n",
    "def read_CAPTCHA_image(captcha_image_file):\n",
    "    \"\"\"Read CAPTCHA image into numpy array using OpenCv.\"\"\"\n",
    "    return cv2.imread(captcha_image_file)"
   ]
  },
  {
   "cell_type": "code",
   "execution_count": 16,
   "metadata": {},
   "outputs": [
    {
     "data": {
      "application/javascript": [
       "\n",
       "            setTimeout(function() {\n",
       "                var nbb_cell_id = 16;\n",
       "                var nbb_formatted_code = \"def grayscale_CAPTCHA_image(captcha_image):\\n    \\\"Grayscales CAPTCHA image.\\\" \\\"\\\"\\n    return cv2.cvtColor(captcha_image, cv2.COLOR_BGR2GRAY)\";\n",
       "                var nbb_cells = Jupyter.notebook.get_cells();\n",
       "                for (var i = 0; i < nbb_cells.length; ++i) {\n",
       "                    if (nbb_cells[i].input_prompt_number == nbb_cell_id) {\n",
       "                        nbb_cells[i].set_text(nbb_formatted_code);\n",
       "                        break;\n",
       "                    }\n",
       "                }\n",
       "            }, 500);\n",
       "            "
      ],
      "text/plain": [
       "<IPython.core.display.Javascript object>"
      ]
     },
     "metadata": {},
     "output_type": "display_data"
    }
   ],
   "source": [
    "def grayscale_CAPTCHA_image(captcha_image):\n",
    "    \"Grayscales CAPTCHA image.\" \"\"\n",
    "    return cv2.cvtColor(captcha_image, cv2.COLOR_BGR2GRAY)"
   ]
  },
  {
   "cell_type": "code",
   "execution_count": 17,
   "metadata": {},
   "outputs": [
    {
     "data": {
      "application/javascript": [
       "\n",
       "            setTimeout(function() {\n",
       "                var nbb_cell_id = 17;\n",
       "                var nbb_formatted_code = \"def threshold_CAPTCHA_image(captcha_image_grayscaled):\\n    \\\"\\\"\\\"Thresholds CAPTCHA image.\\\"\\\"\\\"\\n    return cv2.threshold(\\n        captcha_image_grayscaled, 0, 255, cv2.THRESH_BINARY_INV | cv2.THRESH_OTSU\\n    )[1]\";\n",
       "                var nbb_cells = Jupyter.notebook.get_cells();\n",
       "                for (var i = 0; i < nbb_cells.length; ++i) {\n",
       "                    if (nbb_cells[i].input_prompt_number == nbb_cell_id) {\n",
       "                        nbb_cells[i].set_text(nbb_formatted_code);\n",
       "                        break;\n",
       "                    }\n",
       "                }\n",
       "            }, 500);\n",
       "            "
      ],
      "text/plain": [
       "<IPython.core.display.Javascript object>"
      ]
     },
     "metadata": {},
     "output_type": "display_data"
    }
   ],
   "source": [
    "def threshold_CAPTCHA_image(captcha_image_grayscaled):\n",
    "    \"\"\"Thresholds CAPTCHA image.\"\"\"\n",
    "    return cv2.threshold(\n",
    "        captcha_image_grayscaled, 0, 255, cv2.THRESH_BINARY_INV | cv2.THRESH_OTSU\n",
    "    )[1]"
   ]
  },
  {
   "cell_type": "code",
   "execution_count": 18,
   "metadata": {},
   "outputs": [
    {
     "data": {
      "application/javascript": [
       "\n",
       "            setTimeout(function() {\n",
       "                var nbb_cell_id = 18;\n",
       "                var nbb_formatted_code = \"import numpy as np\\n\\n\\ndef dilate_characters(binary_image):\\n    \\\"\\\"\\\"slightly expands the characters.\\\"\\\"\\\"\\n    kernel = np.ones((2, 2), np.uint8)\\n    return cv2.dilate(binary_image, kernel, iterations=1)\";\n",
       "                var nbb_cells = Jupyter.notebook.get_cells();\n",
       "                for (var i = 0; i < nbb_cells.length; ++i) {\n",
       "                    if (nbb_cells[i].input_prompt_number == nbb_cell_id) {\n",
       "                        nbb_cells[i].set_text(nbb_formatted_code);\n",
       "                        break;\n",
       "                    }\n",
       "                }\n",
       "            }, 500);\n",
       "            "
      ],
      "text/plain": [
       "<IPython.core.display.Javascript object>"
      ]
     },
     "metadata": {},
     "output_type": "display_data"
    }
   ],
   "source": [
    "import numpy as np\n",
    "\n",
    "\n",
    "def dilate_characters(binary_image):\n",
    "    \"\"\"slightly expands the characters.\"\"\"\n",
    "    kernel = np.ones((2, 2), np.uint8)\n",
    "    return cv2.dilate(binary_image, kernel, iterations=1)"
   ]
  },
  {
   "cell_type": "code",
   "execution_count": 19,
   "metadata": {},
   "outputs": [
    {
     "data": {
      "application/javascript": [
       "\n",
       "            setTimeout(function() {\n",
       "                var nbb_cell_id = 19;\n",
       "                var nbb_formatted_code = \"def find_CAPTCHA_contours(captcha_image_thresholded):\\n    \\\"\\\"\\\"Compute the contours of characters in the CAPTCHA image.\\\"\\\"\\\"\\n    return cv2.findContours(\\n        captcha_image_thresholded, cv2.RETR_EXTERNAL, cv2.CHAIN_APPROX_SIMPLE\\n    )[0]\";\n",
       "                var nbb_cells = Jupyter.notebook.get_cells();\n",
       "                for (var i = 0; i < nbb_cells.length; ++i) {\n",
       "                    if (nbb_cells[i].input_prompt_number == nbb_cell_id) {\n",
       "                        nbb_cells[i].set_text(nbb_formatted_code);\n",
       "                        break;\n",
       "                    }\n",
       "                }\n",
       "            }, 500);\n",
       "            "
      ],
      "text/plain": [
       "<IPython.core.display.Javascript object>"
      ]
     },
     "metadata": {},
     "output_type": "display_data"
    }
   ],
   "source": [
    "def find_CAPTCHA_contours(captcha_image_thresholded):\n",
    "    \"\"\"Compute the contours of characters in the CAPTCHA image.\"\"\"\n",
    "    return cv2.findContours(\n",
    "        captcha_image_thresholded, cv2.RETR_EXTERNAL, cv2.CHAIN_APPROX_SIMPLE\n",
    "    )[0]"
   ]
  },
  {
   "cell_type": "code",
   "execution_count": 20,
   "metadata": {},
   "outputs": [
    {
     "data": {
      "application/javascript": [
       "\n",
       "            setTimeout(function() {\n",
       "                var nbb_cell_id = 20;\n",
       "                var nbb_formatted_code = \"def compute_bounding_rectangles(contours):\\n    \\\"\\\"\\\"Computes the bounding rectangles of the contours.\\\"\\\"\\\"\\n    return list(map(cv2.boundingRect, contours))\";\n",
       "                var nbb_cells = Jupyter.notebook.get_cells();\n",
       "                for (var i = 0; i < nbb_cells.length; ++i) {\n",
       "                    if (nbb_cells[i].input_prompt_number == nbb_cell_id) {\n",
       "                        nbb_cells[i].set_text(nbb_formatted_code);\n",
       "                        break;\n",
       "                    }\n",
       "                }\n",
       "            }, 500);\n",
       "            "
      ],
      "text/plain": [
       "<IPython.core.display.Javascript object>"
      ]
     },
     "metadata": {},
     "output_type": "display_data"
    }
   ],
   "source": [
    "def compute_bounding_rectangles(contours):\n",
    "    \"\"\"Computes the bounding rectangles of the contours.\"\"\"\n",
    "    return list(map(cv2.boundingRect, contours))"
   ]
  },
  {
   "cell_type": "code",
   "execution_count": 21,
   "metadata": {},
   "outputs": [
    {
     "data": {
      "application/javascript": [
       "\n",
       "            setTimeout(function() {\n",
       "                var nbb_cell_id = 21;\n",
       "                var nbb_formatted_code = \"def split_fat_rectangles(rectangles):\\n    \\\"\\\"\\\"Splits fat rectangles into two rectangles.\\\"\\\"\\\"\\n    letter_bounding_rectangles = []\\n    for rectangle in rectangles:\\n        (x, y, w, h) = rectangle\\n        if w / h > 1.25:\\n            half_width = int(w / 2)\\n            letter_bounding_rectangles.append((x, y, half_width, h))\\n            letter_bounding_rectangles.append((x + half_width, y, half_width, h))\\n        else:\\n            letter_bounding_rectangles.append(rectangle)\\n    return letter_bounding_rectangles\";\n",
       "                var nbb_cells = Jupyter.notebook.get_cells();\n",
       "                for (var i = 0; i < nbb_cells.length; ++i) {\n",
       "                    if (nbb_cells[i].input_prompt_number == nbb_cell_id) {\n",
       "                        nbb_cells[i].set_text(nbb_formatted_code);\n",
       "                        break;\n",
       "                    }\n",
       "                }\n",
       "            }, 500);\n",
       "            "
      ],
      "text/plain": [
       "<IPython.core.display.Javascript object>"
      ]
     },
     "metadata": {},
     "output_type": "display_data"
    }
   ],
   "source": [
    "def split_fat_rectangles(rectangles):\n",
    "    \"\"\"Splits fat rectangles into two rectangles.\"\"\"\n",
    "    letter_bounding_rectangles = []\n",
    "    for rectangle in rectangles:\n",
    "        (x, y, w, h) = rectangle\n",
    "        if w / h > 1.25:\n",
    "            half_width = int(w / 2)\n",
    "            letter_bounding_rectangles.append((x, y, half_width, h))\n",
    "            letter_bounding_rectangles.append((x + half_width, y, half_width, h))\n",
    "        else:\n",
    "            letter_bounding_rectangles.append(rectangle)\n",
    "    return letter_bounding_rectangles"
   ]
  },
  {
   "cell_type": "code",
   "execution_count": 22,
   "metadata": {},
   "outputs": [
    {
     "data": {
      "application/javascript": [
       "\n",
       "            setTimeout(function() {\n",
       "                var nbb_cell_id = 22;\n",
       "                var nbb_formatted_code = \"def get_character_images(rectangles, image):\\n    \\\"\\\"\\\"Extracts the characters defined by bounding rectangles.\\\"\\\"\\\"\\n    char_images = []\\n    for rect in rectangles:\\n        x, y, w, h = rect\\n        char_image = image[y - 1 : y + h + 1, x - 1 : x + w + 1]\\n        char_images.append(char_image)\\n    return char_images\";\n",
       "                var nbb_cells = Jupyter.notebook.get_cells();\n",
       "                for (var i = 0; i < nbb_cells.length; ++i) {\n",
       "                    if (nbb_cells[i].input_prompt_number == nbb_cell_id) {\n",
       "                        nbb_cells[i].set_text(nbb_formatted_code);\n",
       "                        break;\n",
       "                    }\n",
       "                }\n",
       "            }, 500);\n",
       "            "
      ],
      "text/plain": [
       "<IPython.core.display.Javascript object>"
      ]
     },
     "metadata": {},
     "output_type": "display_data"
    }
   ],
   "source": [
    "def get_character_images(rectangles, image):\n",
    "    \"\"\"Extracts the characters defined by bounding rectangles.\"\"\"\n",
    "    char_images = []\n",
    "    for rect in rectangles:\n",
    "        x, y, w, h = rect\n",
    "        char_image = image[y - 1 : y + h + 1, x - 1 : x + w + 1]\n",
    "        char_images.append(char_image)\n",
    "    return char_images"
   ]
  },
  {
   "cell_type": "code",
   "execution_count": 23,
   "metadata": {},
   "outputs": [
    {
     "data": {
      "application/javascript": [
       "\n",
       "            setTimeout(function() {\n",
       "                var nbb_cell_id = 23;\n",
       "                var nbb_formatted_code = \"def sort_bounding_rectangles(rects):\\n    \\\"\\\"\\\"Sorts bounding rectangles by x coordinate.\\\"\\\"\\\"\\n    return sorted(rects, key=lambda x: float(x[0]))\";\n",
       "                var nbb_cells = Jupyter.notebook.get_cells();\n",
       "                for (var i = 0; i < nbb_cells.length; ++i) {\n",
       "                    if (nbb_cells[i].input_prompt_number == nbb_cell_id) {\n",
       "                        nbb_cells[i].set_text(nbb_formatted_code);\n",
       "                        break;\n",
       "                    }\n",
       "                }\n",
       "            }, 500);\n",
       "            "
      ],
      "text/plain": [
       "<IPython.core.display.Javascript object>"
      ]
     },
     "metadata": {},
     "output_type": "display_data"
    }
   ],
   "source": [
    "def sort_bounding_rectangles(rects):\n",
    "    \"\"\"Sorts bounding rectangles by x coordinate.\"\"\"\n",
    "    return sorted(rects, key=lambda x: float(x[0]))"
   ]
  },
  {
   "cell_type": "code",
   "execution_count": 24,
   "metadata": {},
   "outputs": [
    {
     "data": {
      "application/javascript": [
       "\n",
       "            setTimeout(function() {\n",
       "                var nbb_cell_id = 24;\n",
       "                var nbb_formatted_code = \"captcha_image = read_CAPTCHA_image(CAPTCHA)\\ncaptcha_image_grayscaled = grayscale_CAPTCHA_image(captcha_image)\\ncaptcha_image_thresholded = threshold_CAPTCHA_image(captcha_image_grayscaled)\\ncaptcha_image_dilated = dilate_characters(captcha_image_thresholded)\\ncaptcha_image_contours = find_CAPTCHA_contours(captcha_image_dilated)\\ncharacter_bounding_rectangles = split_fat_rectangles(\\n    compute_bounding_rectangles(captcha_image_contours)\\n)\\ncharacter_bounding_rectangles = sort_bounding_rectangles(character_bounding_rectangles)\\ncharacter_images = get_character_images(character_bounding_rectangles, captcha_image)\";\n",
       "                var nbb_cells = Jupyter.notebook.get_cells();\n",
       "                for (var i = 0; i < nbb_cells.length; ++i) {\n",
       "                    if (nbb_cells[i].input_prompt_number == nbb_cell_id) {\n",
       "                        nbb_cells[i].set_text(nbb_formatted_code);\n",
       "                        break;\n",
       "                    }\n",
       "                }\n",
       "            }, 500);\n",
       "            "
      ],
      "text/plain": [
       "<IPython.core.display.Javascript object>"
      ]
     },
     "metadata": {},
     "output_type": "display_data"
    }
   ],
   "source": [
    "captcha_image = read_CAPTCHA_image(CAPTCHA)\n",
    "captcha_image_grayscaled = grayscale_CAPTCHA_image(captcha_image)\n",
    "captcha_image_thresholded = threshold_CAPTCHA_image(captcha_image_grayscaled)\n",
    "captcha_image_dilated = dilate_characters(captcha_image_thresholded)\n",
    "captcha_image_contours = find_CAPTCHA_contours(captcha_image_dilated)\n",
    "character_bounding_rectangles = split_fat_rectangles(\n",
    "    compute_bounding_rectangles(captcha_image_contours)\n",
    ")\n",
    "character_bounding_rectangles = sort_bounding_rectangles(character_bounding_rectangles)\n",
    "character_images = get_character_images(character_bounding_rectangles, captcha_image)"
   ]
  },
  {
   "cell_type": "code",
   "execution_count": 35,
   "metadata": {},
   "outputs": [
    {
     "data": {
      "application/javascript": [
       "\n",
       "            setTimeout(function() {\n",
       "                var nbb_cell_id = 35;\n",
       "                var nbb_formatted_code = \"X = []\\nfor image in character_images:\\n    image_gray = grayscale(image)\\n    image_normalized = normalize_dimensions(image_gray)\\n    lets_see_it(image_normalized)\\n    image_reshaped_for_keras = reshape_for_keras(image_normalized)\\n    X.append(image_reshaped_for_keras)\\n\\nX = np.array(X, dtype=\\\"float\\\") / 255.0\\npred = CNN_model.predict(X)\";\n",
       "                var nbb_cells = Jupyter.notebook.get_cells();\n",
       "                for (var i = 0; i < nbb_cells.length; ++i) {\n",
       "                    if (nbb_cells[i].input_prompt_number == nbb_cell_id) {\n",
       "                        nbb_cells[i].set_text(nbb_formatted_code);\n",
       "                        break;\n",
       "                    }\n",
       "                }\n",
       "            }, 500);\n",
       "            "
      ],
      "text/plain": [
       "<IPython.core.display.Javascript object>"
      ]
     },
     "metadata": {},
     "output_type": "display_data"
    }
   ],
   "source": [
    "X = []\n",
    "for image in character_images:\n",
    "    image_gray = grayscale(image)\n",
    "    image_normalized = normalize_dimensions(image_gray)\n",
    "    lets_see_it(image_normalized)\n",
    "    image_reshaped_for_keras = reshape_for_keras(image_normalized)\n",
    "    X.append(image_reshaped_for_keras)\n",
    "\n",
    "X = np.array(X, dtype=\"float\") / 255.0\n",
    "pred = CNN_model.predict(X)"
   ]
  },
  {
   "cell_type": "code",
   "execution_count": 36,
   "metadata": {},
   "outputs": [
    {
     "data": {
      "text/plain": [
       "array(['2', 'A', '5', 'J'], dtype='<U1')"
      ]
     },
     "execution_count": 36,
     "metadata": {},
     "output_type": "execute_result"
    },
    {
     "data": {
      "application/javascript": [
       "\n",
       "            setTimeout(function() {\n",
       "                var nbb_cell_id = 36;\n",
       "                var nbb_formatted_code = \"label_binarizer.inverse_transform(pred)\";\n",
       "                var nbb_cells = Jupyter.notebook.get_cells();\n",
       "                for (var i = 0; i < nbb_cells.length; ++i) {\n",
       "                    if (nbb_cells[i].input_prompt_number == nbb_cell_id) {\n",
       "                        nbb_cells[i].set_text(nbb_formatted_code);\n",
       "                        break;\n",
       "                    }\n",
       "                }\n",
       "            }, 500);\n",
       "            "
      ],
      "text/plain": [
       "<IPython.core.display.Javascript object>"
      ]
     },
     "metadata": {},
     "output_type": "display_data"
    }
   ],
   "source": [
    "label_binarizer.inverse_transform(pred)"
   ]
  },
  {
   "cell_type": "code",
   "execution_count": null,
   "metadata": {},
   "outputs": [],
   "source": []
  }
 ],
 "metadata": {
  "kernelspec": {
   "display_name": "Python 3",
   "language": "python",
   "name": "python3"
  },
  "language_info": {
   "codemirror_mode": {
    "name": "ipython",
    "version": 3
   },
   "file_extension": ".py",
   "mimetype": "text/x-python",
   "name": "python",
   "nbconvert_exporter": "python",
   "pygments_lexer": "ipython3",
   "version": "3.7.5"
  }
 },
 "nbformat": 4,
 "nbformat_minor": 2
}
