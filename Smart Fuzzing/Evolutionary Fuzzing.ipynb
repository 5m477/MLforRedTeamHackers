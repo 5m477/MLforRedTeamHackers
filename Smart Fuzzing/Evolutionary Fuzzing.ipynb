{
 "cells": [
  {
   "cell_type": "code",
   "execution_count": 1,
   "metadata": {},
   "outputs": [
    {
     "data": {
      "application/javascript": [
       "\n",
       "            setTimeout(function() {\n",
       "                var nbb_cell_id = 1;\n",
       "                var nbb_formatted_code = \"%load_ext nb_black\";\n",
       "                var nbb_cells = Jupyter.notebook.get_cells();\n",
       "                for (var i = 0; i < nbb_cells.length; ++i) {\n",
       "                    if (nbb_cells[i].input_prompt_number == nbb_cell_id) {\n",
       "                        nbb_cells[i].set_text(nbb_formatted_code);\n",
       "                        break;\n",
       "                    }\n",
       "                }\n",
       "            }, 500);\n",
       "            "
      ],
      "text/plain": [
       "<IPython.core.display.Javascript object>"
      ]
     },
     "metadata": {},
     "output_type": "display_data"
    }
   ],
   "source": [
    "%load_ext nb_black"
   ]
  },
  {
   "cell_type": "code",
   "execution_count": 2,
   "metadata": {},
   "outputs": [
    {
     "data": {
      "application/javascript": [
       "\n",
       "            setTimeout(function() {\n",
       "                var nbb_cell_id = 2;\n",
       "                var nbb_formatted_code = \"def cgi_decode(input_data):\\n    \\\"\\\"\\\"Decodes the CGI-encoded string \\\"input_data\\\":\\n       - Replaces \\\"+\\\" by \\\" \\\".\\n       - Replaces \\\"%xx\\\" by the character with hex number xx.\\n       Returns the decoded string.  Raises `ValueError` for invalid input_datas.\\n       \\\"\\\"\\\"\\n    output = \\\"\\\"\\n    i = 0\\n    while i < len(input_data):\\n        current_char = input_data[i]\\n        if current_char == \\\"+\\\":\\n            output += \\\" \\\"\\n        elif current_char == \\\"%\\\":\\n            digit_high, digit_low = input_data[i + 1], input_data[i + 2]\\n            i += 2\\n            try:\\n                v = int(digit_high, 16) * 16 + int(digit_low, 16)\\n                output += chr(v)\\n            except:\\n                raise ValueError(\\\"Invalid input_data\\\")\\n        else:\\n            output += current_char\\n        i += 1\\n    return output\\n\\n\\ndef line_tracer(frame, event, arg):\\n    \\\"\\\"\\\"Traces the collection of lines executed by a function.\\\"\\\"\\\"\\n    if event == \\\"line\\\":\\n        lineno = frame.f_lineno\\n        global coverage\\n        coverage.add(lineno)\\n    return line_tracer\\n\\n\\nimport sys\\n\\n\\ndef record_coverage(function, s):\\n    \\\"\\\"\\\"Record the set of lines covered when function calls s.\\\"\\\"\\\"\\n    global coverage\\n    coverage = set([])\\n    sys.settrace(line_tracer)\\n    function(s)\\n    sys.settrace(None)\\n    coverage = frozenset(coverage)\\n    return coverage\";\n",
       "                var nbb_cells = Jupyter.notebook.get_cells();\n",
       "                for (var i = 0; i < nbb_cells.length; ++i) {\n",
       "                    if (nbb_cells[i].input_prompt_number == nbb_cell_id) {\n",
       "                        nbb_cells[i].set_text(nbb_formatted_code);\n",
       "                        break;\n",
       "                    }\n",
       "                }\n",
       "            }, 500);\n",
       "            "
      ],
      "text/plain": [
       "<IPython.core.display.Javascript object>"
      ]
     },
     "metadata": {},
     "output_type": "display_data"
    }
   ],
   "source": [
    "def cgi_decode(input_data):\n",
    "    \"\"\"Decodes the CGI-encoded string \"input_data\":\n",
    "       - Replaces \"+\" by \" \".\n",
    "       - Replaces \"%xx\" by the character with hex number xx.\n",
    "       Returns the decoded string.  Raises `ValueError` for invalid input_datas.\n",
    "       \"\"\"\n",
    "    output = \"\"\n",
    "    i = 0\n",
    "    while i < len(input_data):\n",
    "        current_char = input_data[i]\n",
    "        if current_char == \"+\":\n",
    "            output += \" \"\n",
    "        elif current_char == \"%\":\n",
    "            digit_high, digit_low = input_data[i + 1], input_data[i + 2]\n",
    "            i += 2\n",
    "            try:\n",
    "                v = int(digit_high, 16) * 16 + int(digit_low, 16)\n",
    "                output += chr(v)\n",
    "            except:\n",
    "                raise ValueError(\"Invalid input_data\")\n",
    "        else:\n",
    "            output += current_char\n",
    "        i += 1\n",
    "    return output\n",
    "\n",
    "\n",
    "def line_tracer(frame, event, arg):\n",
    "    \"\"\"Traces the collection of lines executed by a function.\"\"\"\n",
    "    if event == \"line\":\n",
    "        lineno = frame.f_lineno\n",
    "        global coverage\n",
    "        coverage.add(lineno)\n",
    "    return line_tracer\n",
    "\n",
    "\n",
    "import sys\n",
    "\n",
    "\n",
    "def record_coverage(function, s):\n",
    "    \"\"\"Record the set of lines covered when function calls s.\"\"\"\n",
    "    global coverage\n",
    "    coverage = set([])\n",
    "    sys.settrace(line_tracer)\n",
    "    function(s)\n",
    "    sys.settrace(None)\n",
    "    coverage = frozenset(coverage)\n",
    "    return coverage"
   ]
  },
  {
   "cell_type": "code",
   "execution_count": 3,
   "metadata": {},
   "outputs": [
    {
     "data": {
      "application/javascript": [
       "\n",
       "            setTimeout(function() {\n",
       "                var nbb_cell_id = 3;\n",
       "                var nbb_formatted_code = \"class Individual:\\n    def __init__(self, value):\\n        self.value = value\\n        try:\\n            self.coverage = record_coverage(cgi_decode, self.value)\\n        except:\\n            self.coverage = str(sys.exc_info()[0])\\n            print(\\\"Got error \\\" + str(sys.exc_info()[0]) + \\\" for input \\\" + self.value)\\n        add_to_coverage_dict(self.value, self.coverage)\\n        self.fitness = None\\n\\n    def print_info(self):\\n        print(self.value)\\n        print(self.coverage)\\n        print(self.fitness)\\n\\n    def compute_fitness(self):\\n        self.fitness = 1 / (coverage_dict[self.coverage])\";\n",
       "                var nbb_cells = Jupyter.notebook.get_cells();\n",
       "                for (var i = 0; i < nbb_cells.length; ++i) {\n",
       "                    if (nbb_cells[i].input_prompt_number == nbb_cell_id) {\n",
       "                        nbb_cells[i].set_text(nbb_formatted_code);\n",
       "                        break;\n",
       "                    }\n",
       "                }\n",
       "            }, 500);\n",
       "            "
      ],
      "text/plain": [
       "<IPython.core.display.Javascript object>"
      ]
     },
     "metadata": {},
     "output_type": "display_data"
    }
   ],
   "source": [
    "class Individual:\n",
    "    def __init__(self, value):\n",
    "        self.value = value\n",
    "        try:\n",
    "            self.coverage = record_coverage(cgi_decode, self.value)\n",
    "        except:\n",
    "            self.coverage = str(sys.exc_info()[0])\n",
    "            print(\"Got error \" + str(sys.exc_info()[0]) + \" for input \" + self.value)\n",
    "        add_to_coverage_dict(self.value, self.coverage)\n",
    "        self.fitness = None\n",
    "\n",
    "    def print_info(self):\n",
    "        print(self.value)\n",
    "        print(self.coverage)\n",
    "        print(self.fitness)\n",
    "\n",
    "    def compute_fitness(self):\n",
    "        self.fitness = 1 / (coverage_dict[self.coverage])"
   ]
  },
  {
   "cell_type": "code",
   "execution_count": 4,
   "metadata": {},
   "outputs": [
    {
     "data": {
      "application/javascript": [
       "\n",
       "            setTimeout(function() {\n",
       "                var nbb_cell_id = 4;\n",
       "                var nbb_formatted_code = \"important_samples = []\\ncoverage_dict = {}\";\n",
       "                var nbb_cells = Jupyter.notebook.get_cells();\n",
       "                for (var i = 0; i < nbb_cells.length; ++i) {\n",
       "                    if (nbb_cells[i].input_prompt_number == nbb_cell_id) {\n",
       "                        nbb_cells[i].set_text(nbb_formatted_code);\n",
       "                        break;\n",
       "                    }\n",
       "                }\n",
       "            }, 500);\n",
       "            "
      ],
      "text/plain": [
       "<IPython.core.display.Javascript object>"
      ]
     },
     "metadata": {},
     "output_type": "display_data"
    }
   ],
   "source": [
    "important_samples = []\n",
    "coverage_dict = {}"
   ]
  },
  {
   "cell_type": "code",
   "execution_count": 5,
   "metadata": {},
   "outputs": [
    {
     "data": {
      "application/javascript": [
       "\n",
       "            setTimeout(function() {\n",
       "                var nbb_cell_id = 5;\n",
       "                var nbb_formatted_code = \"def add_to_coverage_dict(value, coverage):\\n    if coverage_dict.get(coverage, 0) == 0:\\n        important_samples.append(value)\\n    coverage_dict[coverage] = coverage_dict.get(coverage, 0) + 1\";\n",
       "                var nbb_cells = Jupyter.notebook.get_cells();\n",
       "                for (var i = 0; i < nbb_cells.length; ++i) {\n",
       "                    if (nbb_cells[i].input_prompt_number == nbb_cell_id) {\n",
       "                        nbb_cells[i].set_text(nbb_formatted_code);\n",
       "                        break;\n",
       "                    }\n",
       "                }\n",
       "            }, 500);\n",
       "            "
      ],
      "text/plain": [
       "<IPython.core.display.Javascript object>"
      ]
     },
     "metadata": {},
     "output_type": "display_data"
    }
   ],
   "source": [
    "def add_to_coverage_dict(value, coverage):\n",
    "    if coverage_dict.get(coverage, 0) == 0:\n",
    "        important_samples.append(value)\n",
    "    coverage_dict[coverage] = coverage_dict.get(coverage, 0) + 1"
   ]
  },
  {
   "cell_type": "code",
   "execution_count": 6,
   "metadata": {},
   "outputs": [
    {
     "data": {
      "application/javascript": [
       "\n",
       "            setTimeout(function() {\n",
       "                var nbb_cell_id = 6;\n",
       "                var nbb_formatted_code = \"import numpy as np\\n\\ncarrying_capacity = 100\";\n",
       "                var nbb_cells = Jupyter.notebook.get_cells();\n",
       "                for (var i = 0; i < nbb_cells.length; ++i) {\n",
       "                    if (nbb_cells[i].input_prompt_number == nbb_cell_id) {\n",
       "                        nbb_cells[i].set_text(nbb_formatted_code);\n",
       "                        break;\n",
       "                    }\n",
       "                }\n",
       "            }, 500);\n",
       "            "
      ],
      "text/plain": [
       "<IPython.core.display.Javascript object>"
      ]
     },
     "metadata": {},
     "output_type": "display_data"
    }
   ],
   "source": [
    "import numpy as np\n",
    "\n",
    "carrying_capacity = 100"
   ]
  },
  {
   "cell_type": "code",
   "execution_count": 7,
   "metadata": {},
   "outputs": [
    {
     "data": {
      "application/javascript": [
       "\n",
       "            setTimeout(function() {\n",
       "                var nbb_cell_id = 7;\n",
       "                var nbb_formatted_code = \"seed = [\\n    \\\"http://www.google.com/search?q=fuzzing\\\",\\n    \\\"http://www.google.com/searh;q=fuzzinb2g\\\",\\n    \\\"http://www.Xgole.com/eaHrh;qfu/zzinb2g\\\",\\n]\";\n",
       "                var nbb_cells = Jupyter.notebook.get_cells();\n",
       "                for (var i = 0; i < nbb_cells.length; ++i) {\n",
       "                    if (nbb_cells[i].input_prompt_number == nbb_cell_id) {\n",
       "                        nbb_cells[i].set_text(nbb_formatted_code);\n",
       "                        break;\n",
       "                    }\n",
       "                }\n",
       "            }, 500);\n",
       "            "
      ],
      "text/plain": [
       "<IPython.core.display.Javascript object>"
      ]
     },
     "metadata": {},
     "output_type": "display_data"
    }
   ],
   "source": [
    "seed = [\n",
    "    \"http://www.google.com/search?q=fuzzing\",\n",
    "    \"http://www.google.com/searh;q=fuzzinb2g\",\n",
    "    \"http://www.Xgole.com/eaHrh;qfu/zzinb2g\",\n",
    "]"
   ]
  },
  {
   "cell_type": "code",
   "execution_count": 8,
   "metadata": {},
   "outputs": [
    {
     "data": {
      "application/javascript": [
       "\n",
       "            setTimeout(function() {\n",
       "                var nbb_cell_id = 8;\n",
       "                var nbb_formatted_code = \"population = [Individual(x) for x in seed]\";\n",
       "                var nbb_cells = Jupyter.notebook.get_cells();\n",
       "                for (var i = 0; i < nbb_cells.length; ++i) {\n",
       "                    if (nbb_cells[i].input_prompt_number == nbb_cell_id) {\n",
       "                        nbb_cells[i].set_text(nbb_formatted_code);\n",
       "                        break;\n",
       "                    }\n",
       "                }\n",
       "            }, 500);\n",
       "            "
      ],
      "text/plain": [
       "<IPython.core.display.Javascript object>"
      ]
     },
     "metadata": {},
     "output_type": "display_data"
    }
   ],
   "source": [
    "population = [Individual(x) for x in seed]"
   ]
  },
  {
   "cell_type": "code",
   "execution_count": 9,
   "metadata": {},
   "outputs": [
    {
     "data": {
      "application/javascript": [
       "\n",
       "            setTimeout(function() {\n",
       "                var nbb_cell_id = 9;\n",
       "                var nbb_formatted_code = \"def update_fitness_scores(population):\\n    for individual in population:\\n        individual.compute_fitness()\";\n",
       "                var nbb_cells = Jupyter.notebook.get_cells();\n",
       "                for (var i = 0; i < nbb_cells.length; ++i) {\n",
       "                    if (nbb_cells[i].input_prompt_number == nbb_cell_id) {\n",
       "                        nbb_cells[i].set_text(nbb_formatted_code);\n",
       "                        break;\n",
       "                    }\n",
       "                }\n",
       "            }, 500);\n",
       "            "
      ],
      "text/plain": [
       "<IPython.core.display.Javascript object>"
      ]
     },
     "metadata": {},
     "output_type": "display_data"
    }
   ],
   "source": [
    "def update_fitness_scores(population):\n",
    "    for individual in population:\n",
    "        individual.compute_fitness()"
   ]
  },
  {
   "cell_type": "code",
   "execution_count": 10,
   "metadata": {},
   "outputs": [
    {
     "data": {
      "application/javascript": [
       "\n",
       "            setTimeout(function() {\n",
       "                var nbb_cell_id = 10;\n",
       "                var nbb_formatted_code = \"def print_population_info(population):\\n    for individual in population:\\n        individual.print_info()\";\n",
       "                var nbb_cells = Jupyter.notebook.get_cells();\n",
       "                for (var i = 0; i < nbb_cells.length; ++i) {\n",
       "                    if (nbb_cells[i].input_prompt_number == nbb_cell_id) {\n",
       "                        nbb_cells[i].set_text(nbb_formatted_code);\n",
       "                        break;\n",
       "                    }\n",
       "                }\n",
       "            }, 500);\n",
       "            "
      ],
      "text/plain": [
       "<IPython.core.display.Javascript object>"
      ]
     },
     "metadata": {},
     "output_type": "display_data"
    }
   ],
   "source": [
    "def print_population_info(population):\n",
    "    for individual in population:\n",
    "        individual.print_info()"
   ]
  },
  {
   "cell_type": "code",
   "execution_count": 11,
   "metadata": {},
   "outputs": [
    {
     "data": {
      "application/javascript": [
       "\n",
       "            setTimeout(function() {\n",
       "                var nbb_cell_id = 11;\n",
       "                var nbb_formatted_code = \"import numpy as np\\n\\n\\ndef get_fitness_scores(population):\\n    fitness_distribution = np.array([x.fitness for x in population])\\n    fitness_distribution = fitness_distribution / sum(fitness_distribution)\\n    return fitness_distribution\";\n",
       "                var nbb_cells = Jupyter.notebook.get_cells();\n",
       "                for (var i = 0; i < nbb_cells.length; ++i) {\n",
       "                    if (nbb_cells[i].input_prompt_number == nbb_cell_id) {\n",
       "                        nbb_cells[i].set_text(nbb_formatted_code);\n",
       "                        break;\n",
       "                    }\n",
       "                }\n",
       "            }, 500);\n",
       "            "
      ],
      "text/plain": [
       "<IPython.core.display.Javascript object>"
      ]
     },
     "metadata": {},
     "output_type": "display_data"
    }
   ],
   "source": [
    "import numpy as np\n",
    "\n",
    "\n",
    "def get_fitness_scores(population):\n",
    "    fitness_distribution = np.array([x.fitness for x in population])\n",
    "    fitness_distribution = fitness_distribution / sum(fitness_distribution)\n",
    "    return fitness_distribution"
   ]
  },
  {
   "cell_type": "code",
   "execution_count": 12,
   "metadata": {},
   "outputs": [
    {
     "data": {
      "application/javascript": [
       "\n",
       "            setTimeout(function() {\n",
       "                var nbb_cell_id = 12;\n",
       "                var nbb_formatted_code = \"import numpy as np\\n\\n\\ndef sample_pair_for_reproduction(population):\\n    fitness_distribution = get_fitness_scores(population)\\n    index1 = np.random.choice(len(fitness_distribution), p=fitness_distribution)\\n    individual1 = population[index1]\\n    index2 = np.random.choice(len(fitness_distribution), p=fitness_distribution)\\n    individual2 = population[index2]\\n    return individual1, individual2\";\n",
       "                var nbb_cells = Jupyter.notebook.get_cells();\n",
       "                for (var i = 0; i < nbb_cells.length; ++i) {\n",
       "                    if (nbb_cells[i].input_prompt_number == nbb_cell_id) {\n",
       "                        nbb_cells[i].set_text(nbb_formatted_code);\n",
       "                        break;\n",
       "                    }\n",
       "                }\n",
       "            }, 500);\n",
       "            "
      ],
      "text/plain": [
       "<IPython.core.display.Javascript object>"
      ]
     },
     "metadata": {},
     "output_type": "display_data"
    }
   ],
   "source": [
    "import numpy as np\n",
    "\n",
    "\n",
    "def sample_pair_for_reproduction(population):\n",
    "    fitness_distribution = get_fitness_scores(population)\n",
    "    index1 = np.random.choice(len(fitness_distribution), p=fitness_distribution)\n",
    "    individual1 = population[index1]\n",
    "    index2 = np.random.choice(len(fitness_distribution), p=fitness_distribution)\n",
    "    individual2 = population[index2]\n",
    "    return individual1, individual2"
   ]
  },
  {
   "cell_type": "code",
   "execution_count": 13,
   "metadata": {},
   "outputs": [
    {
     "data": {
      "application/javascript": [
       "\n",
       "            setTimeout(function() {\n",
       "                var nbb_cell_id = 13;\n",
       "                var nbb_formatted_code = \"def recombine(individual1, individual2):\\n    L1 = len(individual1.value)\\n    L2 = len(individual2.value)\\n    L = min(L1, L2)\\n    locus = np.random.randint(L)\\n    offspring1_value = individual1.value[:locus] + individual2.value[locus:]\\n    offspring2_value = individual2.value[:locus] + individual1.value[locus:]\\n    return Individual(offspring1_value), Individual(offspring2_value)\";\n",
       "                var nbb_cells = Jupyter.notebook.get_cells();\n",
       "                for (var i = 0; i < nbb_cells.length; ++i) {\n",
       "                    if (nbb_cells[i].input_prompt_number == nbb_cell_id) {\n",
       "                        nbb_cells[i].set_text(nbb_formatted_code);\n",
       "                        break;\n",
       "                    }\n",
       "                }\n",
       "            }, 500);\n",
       "            "
      ],
      "text/plain": [
       "<IPython.core.display.Javascript object>"
      ]
     },
     "metadata": {},
     "output_type": "display_data"
    }
   ],
   "source": [
    "def recombine(individual1, individual2):\n",
    "    L1 = len(individual1.value)\n",
    "    L2 = len(individual2.value)\n",
    "    L = min(L1, L2)\n",
    "    locus = np.random.randint(L)\n",
    "    offspring1_value = individual1.value[:locus] + individual2.value[locus:]\n",
    "    offspring2_value = individual2.value[:locus] + individual1.value[locus:]\n",
    "    return Individual(offspring1_value), Individual(offspring2_value)"
   ]
  },
  {
   "cell_type": "code",
   "execution_count": 14,
   "metadata": {},
   "outputs": [
    {
     "data": {
      "application/javascript": [
       "\n",
       "            setTimeout(function() {\n",
       "                var nbb_cell_id = 14;\n",
       "                var nbb_formatted_code = \"update_fitness_scores(population)\";\n",
       "                var nbb_cells = Jupyter.notebook.get_cells();\n",
       "                for (var i = 0; i < nbb_cells.length; ++i) {\n",
       "                    if (nbb_cells[i].input_prompt_number == nbb_cell_id) {\n",
       "                        nbb_cells[i].set_text(nbb_formatted_code);\n",
       "                        break;\n",
       "                    }\n",
       "                }\n",
       "            }, 500);\n",
       "            "
      ],
      "text/plain": [
       "<IPython.core.display.Javascript object>"
      ]
     },
     "metadata": {},
     "output_type": "display_data"
    }
   ],
   "source": [
    "update_fitness_scores(population)"
   ]
  },
  {
   "cell_type": "code",
   "execution_count": 15,
   "metadata": {},
   "outputs": [
    {
     "name": "stdout",
     "output_type": "stream",
     "text": [
      "http://www.google.com/search?q=fuzzing\n",
      "frozenset({7, 8, 9, 10, 11, 13, 22, 23, 24})\n",
      "0.3333333333333333\n",
      "http://www.google.com/searh;q=fuzzinb2g\n",
      "frozenset({7, 8, 9, 10, 11, 13, 22, 23, 24})\n",
      "0.3333333333333333\n",
      "http://www.Xgole.com/eaHrh;qfu/zzinb2g\n",
      "frozenset({7, 8, 9, 10, 11, 13, 22, 23, 24})\n",
      "0.3333333333333333\n"
     ]
    },
    {
     "data": {
      "application/javascript": [
       "\n",
       "            setTimeout(function() {\n",
       "                var nbb_cell_id = 15;\n",
       "                var nbb_formatted_code = \"print_population_info(population)\";\n",
       "                var nbb_cells = Jupyter.notebook.get_cells();\n",
       "                for (var i = 0; i < nbb_cells.length; ++i) {\n",
       "                    if (nbb_cells[i].input_prompt_number == nbb_cell_id) {\n",
       "                        nbb_cells[i].set_text(nbb_formatted_code);\n",
       "                        break;\n",
       "                    }\n",
       "                }\n",
       "            }, 500);\n",
       "            "
      ],
      "text/plain": [
       "<IPython.core.display.Javascript object>"
      ]
     },
     "metadata": {},
     "output_type": "display_data"
    }
   ],
   "source": [
    "print_population_info(population)"
   ]
  },
  {
   "cell_type": "code",
   "execution_count": 16,
   "metadata": {},
   "outputs": [
    {
     "data": {
      "application/javascript": [
       "\n",
       "            setTimeout(function() {\n",
       "                var nbb_cell_id = 16;\n",
       "                var nbb_formatted_code = \"def recombination_phase(population):\\n    new_population = population.copy()\\n    population_size = len(population)\\n    number_of_recombinations = population_size // 2\\n    for i in range(number_of_recombinations):\\n        individual1, individual2 = sample_pair_for_reproduction(population)\\n        try:\\n            offspring1, offspring2 = recombine(individual1, individual2)\\n            new_population.append(offspring1)\\n            new_population.append(offspring2)\\n        except ValueError:\\n            pass\\n    update_fitness_scores(new_population)\\n    return new_population\";\n",
       "                var nbb_cells = Jupyter.notebook.get_cells();\n",
       "                for (var i = 0; i < nbb_cells.length; ++i) {\n",
       "                    if (nbb_cells[i].input_prompt_number == nbb_cell_id) {\n",
       "                        nbb_cells[i].set_text(nbb_formatted_code);\n",
       "                        break;\n",
       "                    }\n",
       "                }\n",
       "            }, 500);\n",
       "            "
      ],
      "text/plain": [
       "<IPython.core.display.Javascript object>"
      ]
     },
     "metadata": {},
     "output_type": "display_data"
    }
   ],
   "source": [
    "def recombination_phase(population):\n",
    "    new_population = population.copy()\n",
    "    population_size = len(population)\n",
    "    number_of_recombinations = population_size // 2\n",
    "    for i in range(number_of_recombinations):\n",
    "        individual1, individual2 = sample_pair_for_reproduction(population)\n",
    "        try:\n",
    "            offspring1, offspring2 = recombine(individual1, individual2)\n",
    "            new_population.append(offspring1)\n",
    "            new_population.append(offspring2)\n",
    "        except ValueError:\n",
    "            pass\n",
    "    update_fitness_scores(new_population)\n",
    "    return new_population"
   ]
  },
  {
   "cell_type": "code",
   "execution_count": 17,
   "metadata": {},
   "outputs": [
    {
     "data": {
      "application/javascript": [
       "\n",
       "            setTimeout(function() {\n",
       "                var nbb_cell_id = 17;\n",
       "                var nbb_formatted_code = \"population = recombination_phase(population)\";\n",
       "                var nbb_cells = Jupyter.notebook.get_cells();\n",
       "                for (var i = 0; i < nbb_cells.length; ++i) {\n",
       "                    if (nbb_cells[i].input_prompt_number == nbb_cell_id) {\n",
       "                        nbb_cells[i].set_text(nbb_formatted_code);\n",
       "                        break;\n",
       "                    }\n",
       "                }\n",
       "            }, 500);\n",
       "            "
      ],
      "text/plain": [
       "<IPython.core.display.Javascript object>"
      ]
     },
     "metadata": {},
     "output_type": "display_data"
    }
   ],
   "source": [
    "population = recombination_phase(population)"
   ]
  },
  {
   "cell_type": "code",
   "execution_count": 18,
   "metadata": {},
   "outputs": [
    {
     "name": "stdout",
     "output_type": "stream",
     "text": [
      "http://www.google.com/search?q=fuzzing\n",
      "frozenset({7, 8, 9, 10, 11, 13, 22, 23, 24})\n",
      "0.2\n",
      "http://www.google.com/searh;q=fuzzinb2g\n",
      "frozenset({7, 8, 9, 10, 11, 13, 22, 23, 24})\n",
      "0.2\n",
      "http://www.Xgole.com/eaHrh;qfu/zzinb2g\n",
      "frozenset({7, 8, 9, 10, 11, 13, 22, 23, 24})\n",
      "0.2\n",
      "http://www.Xgole.com/eaHrh;qfu/zzinbng\n",
      "frozenset({7, 8, 9, 10, 11, 13, 22, 23, 24})\n",
      "0.2\n",
      "http://www.google.com/search?q=fuzzi2g\n",
      "frozenset({7, 8, 9, 10, 11, 13, 22, 23, 24})\n",
      "0.2\n"
     ]
    },
    {
     "data": {
      "application/javascript": [
       "\n",
       "            setTimeout(function() {\n",
       "                var nbb_cell_id = 18;\n",
       "                var nbb_formatted_code = \"print_population_info(population)\";\n",
       "                var nbb_cells = Jupyter.notebook.get_cells();\n",
       "                for (var i = 0; i < nbb_cells.length; ++i) {\n",
       "                    if (nbb_cells[i].input_prompt_number == nbb_cell_id) {\n",
       "                        nbb_cells[i].set_text(nbb_formatted_code);\n",
       "                        break;\n",
       "                    }\n",
       "                }\n",
       "            }, 500);\n",
       "            "
      ],
      "text/plain": [
       "<IPython.core.display.Javascript object>"
      ]
     },
     "metadata": {},
     "output_type": "display_data"
    }
   ],
   "source": [
    "print_population_info(population)"
   ]
  },
  {
   "cell_type": "code",
   "execution_count": 20,
   "metadata": {},
   "outputs": [
    {
     "data": {
      "application/javascript": [
       "\n",
       "            setTimeout(function() {\n",
       "                var nbb_cell_id = 20;\n",
       "                var nbb_formatted_code = \"MUTATION_PROBABILITY = 0.1\\nimport random\\nimport string\";\n",
       "                var nbb_cells = Jupyter.notebook.get_cells();\n",
       "                for (var i = 0; i < nbb_cells.length; ++i) {\n",
       "                    if (nbb_cells[i].input_prompt_number == nbb_cell_id) {\n",
       "                        nbb_cells[i].set_text(nbb_formatted_code);\n",
       "                        break;\n",
       "                    }\n",
       "                }\n",
       "            }, 500);\n",
       "            "
      ],
      "text/plain": [
       "<IPython.core.display.Javascript object>"
      ]
     },
     "metadata": {},
     "output_type": "display_data"
    }
   ],
   "source": [
    "MUTATION_PROBABILITY = 0.1\n",
    "import random\n",
    "import string"
   ]
  },
  {
   "cell_type": "code",
   "execution_count": 21,
   "metadata": {},
   "outputs": [
    {
     "data": {
      "application/javascript": [
       "\n",
       "            setTimeout(function() {\n",
       "                var nbb_cell_id = 21;\n",
       "                var nbb_formatted_code = \"def produce_random_character():\\n    vocabulary = string.punctuation + string.ascii_letters + string.digits\\n    return random.choice(vocabulary)\\n\\n\\ndef delete_random_character(input_data):\\n    \\\"\\\"\\\"Randomly deletes a character in the in file.\\\"\\\"\\\"\\n    l = len(input_data)\\n    position = random.randint(0, l - 1)\\n    output = input_data[:position] + input_data[(position + 1) :]\\n    return output\\n\\n\\ndef insert_random_character(input_data):\\n    \\\"\\\"\\\"Randomly inserts a character into the in file.\\\"\\\"\\\"\\n    output = input_data\\n    l = len(input_data)\\n    position = random.randint(0, l - 1)\\n    inserted_character = produce_random_character()\\n    output = input_data[:position] + inserted_character + input_data[position:]\\n    return output\\n\\n\\ndef swap_two_characters(input_data):\\n    \\\"\\\"\\\"Swap two characters at random.\\\"\\\"\\\"\\n    l = len(input_data)\\n    position1 = random.randint(0, l - 1)\\n    character1 = input_data[position1]\\n    position2 = random.randint(0, l - 1)\\n    character2 = input_data[position2]\\n    if position1 == position2:\\n        return input_data\\n    min_position = min(position1, position2)\\n    max_position = max(position1, position2)\\n    output = (\\n        input_data[:min_position]\\n        + input_data[max_position]\\n        + input_data[(min_position + 1) : (max_position)]\\n        + input_data[min_position]\\n        + input_data[(max_position + 1) :]\\n    )\\n    return output\\n\\n\\ndef randomize_character(input_data):\\n    \\\"\\\"\\\"Randomly changes a character in the in file.\\\"\\\"\\\"\\n    l = len(input_data)\\n    position = random.randint(0, l - 1)\\n    character_after = produce_random_character()\\n    output = input_data[:position] + character_after + input_data[(position + 1) :]\\n    return output\";\n",
       "                var nbb_cells = Jupyter.notebook.get_cells();\n",
       "                for (var i = 0; i < nbb_cells.length; ++i) {\n",
       "                    if (nbb_cells[i].input_prompt_number == nbb_cell_id) {\n",
       "                        nbb_cells[i].set_text(nbb_formatted_code);\n",
       "                        break;\n",
       "                    }\n",
       "                }\n",
       "            }, 500);\n",
       "            "
      ],
      "text/plain": [
       "<IPython.core.display.Javascript object>"
      ]
     },
     "metadata": {},
     "output_type": "display_data"
    }
   ],
   "source": [
    "def produce_random_character():\n",
    "    vocabulary = string.punctuation + string.ascii_letters + string.digits\n",
    "    return random.choice(vocabulary)\n",
    "\n",
    "\n",
    "def delete_random_character(input_data):\n",
    "    \"\"\"Randomly deletes a character in the in file.\"\"\"\n",
    "    l = len(input_data)\n",
    "    position = random.randint(0, l - 1)\n",
    "    output = input_data[:position] + input_data[(position + 1) :]\n",
    "    return output\n",
    "\n",
    "\n",
    "def insert_random_character(input_data):\n",
    "    \"\"\"Randomly inserts a character into the in file.\"\"\"\n",
    "    output = input_data\n",
    "    l = len(input_data)\n",
    "    position = random.randint(0, l - 1)\n",
    "    inserted_character = produce_random_character()\n",
    "    output = input_data[:position] + inserted_character + input_data[position:]\n",
    "    return output\n",
    "\n",
    "\n",
    "def swap_two_characters(input_data):\n",
    "    \"\"\"Swap two characters at random.\"\"\"\n",
    "    l = len(input_data)\n",
    "    position1 = random.randint(0, l - 1)\n",
    "    character1 = input_data[position1]\n",
    "    position2 = random.randint(0, l - 1)\n",
    "    character2 = input_data[position2]\n",
    "    if position1 == position2:\n",
    "        return input_data\n",
    "    min_position = min(position1, position2)\n",
    "    max_position = max(position1, position2)\n",
    "    output = (\n",
    "        input_data[:min_position]\n",
    "        + input_data[max_position]\n",
    "        + input_data[(min_position + 1) : (max_position)]\n",
    "        + input_data[min_position]\n",
    "        + input_data[(max_position + 1) :]\n",
    "    )\n",
    "    return output\n",
    "\n",
    "\n",
    "def randomize_character(input_data):\n",
    "    \"\"\"Randomly changes a character in the in file.\"\"\"\n",
    "    l = len(input_data)\n",
    "    position = random.randint(0, l - 1)\n",
    "    character_after = produce_random_character()\n",
    "    output = input_data[:position] + character_after + input_data[(position + 1) :]\n",
    "    return output"
   ]
  },
  {
   "cell_type": "code",
   "execution_count": 22,
   "metadata": {},
   "outputs": [
    {
     "data": {
      "application/javascript": [
       "\n",
       "            setTimeout(function() {\n",
       "                var nbb_cell_id = 22;\n",
       "                var nbb_formatted_code = \"def mutate(input_data, num_mutations=3):\\n    \\\"\\\"\\\"Perform num_mutations many mutations on in.\\\"\\\"\\\"\\n    output = input_data\\n    mutation_operations = [\\n        randomize_character,\\n        insert_random_character,\\n        delete_random_character,\\n        swap_two_characters,\\n    ]\\n    for i in range(num_mutations):\\n        current_mutation_operation = random.choice(mutation_operations)\\n        output = current_mutation_operation(output)\\n    return output\";\n",
       "                var nbb_cells = Jupyter.notebook.get_cells();\n",
       "                for (var i = 0; i < nbb_cells.length; ++i) {\n",
       "                    if (nbb_cells[i].input_prompt_number == nbb_cell_id) {\n",
       "                        nbb_cells[i].set_text(nbb_formatted_code);\n",
       "                        break;\n",
       "                    }\n",
       "                }\n",
       "            }, 500);\n",
       "            "
      ],
      "text/plain": [
       "<IPython.core.display.Javascript object>"
      ]
     },
     "metadata": {},
     "output_type": "display_data"
    }
   ],
   "source": [
    "def mutate(input_data, num_mutations=3):\n",
    "    \"\"\"Perform num_mutations many mutations on in.\"\"\"\n",
    "    output = input_data\n",
    "    mutation_operations = [\n",
    "        randomize_character,\n",
    "        insert_random_character,\n",
    "        delete_random_character,\n",
    "        swap_two_characters,\n",
    "    ]\n",
    "    for i in range(num_mutations):\n",
    "        current_mutation_operation = random.choice(mutation_operations)\n",
    "        output = current_mutation_operation(output)\n",
    "    return output"
   ]
  },
  {
   "cell_type": "code",
   "execution_count": 23,
   "metadata": {},
   "outputs": [
    {
     "data": {
      "application/javascript": [
       "\n",
       "            setTimeout(function() {\n",
       "                var nbb_cell_id = 23;\n",
       "                var nbb_formatted_code = \"def mutation_phase(population):\\n    for i in range(len(population)):\\n        individual = population[i]\\n        mutate_this_individual = np.random.choice(\\n            2, p=[1 - MUTATION_PROBABILITY, MUTATION_PROBABILITY]\\n        )\\n        if mutate_this_individual:\\n            try:\\n                mutated_individual = Individual(mutate(individual.value))\\n                population[i] = mutated_individual\\n            except ValueError:\\n                pass\\n    update_fitness_scores(population)\\n    return population\";\n",
       "                var nbb_cells = Jupyter.notebook.get_cells();\n",
       "                for (var i = 0; i < nbb_cells.length; ++i) {\n",
       "                    if (nbb_cells[i].input_prompt_number == nbb_cell_id) {\n",
       "                        nbb_cells[i].set_text(nbb_formatted_code);\n",
       "                        break;\n",
       "                    }\n",
       "                }\n",
       "            }, 500);\n",
       "            "
      ],
      "text/plain": [
       "<IPython.core.display.Javascript object>"
      ]
     },
     "metadata": {},
     "output_type": "display_data"
    }
   ],
   "source": [
    "def mutation_phase(population):\n",
    "    for i in range(len(population)):\n",
    "        individual = population[i]\n",
    "        mutate_this_individual = np.random.choice(\n",
    "            2, p=[1 - MUTATION_PROBABILITY, MUTATION_PROBABILITY]\n",
    "        )\n",
    "        if mutate_this_individual:\n",
    "            try:\n",
    "                mutated_individual = Individual(mutate(individual.value))\n",
    "                population[i] = mutated_individual\n",
    "            except ValueError:\n",
    "                pass\n",
    "    update_fitness_scores(population)\n",
    "    return population"
   ]
  },
  {
   "cell_type": "code",
   "execution_count": 24,
   "metadata": {},
   "outputs": [
    {
     "data": {
      "application/javascript": [
       "\n",
       "            setTimeout(function() {\n",
       "                var nbb_cell_id = 24;\n",
       "                var nbb_formatted_code = \"population = mutation_phase(population)\";\n",
       "                var nbb_cells = Jupyter.notebook.get_cells();\n",
       "                for (var i = 0; i < nbb_cells.length; ++i) {\n",
       "                    if (nbb_cells[i].input_prompt_number == nbb_cell_id) {\n",
       "                        nbb_cells[i].set_text(nbb_formatted_code);\n",
       "                        break;\n",
       "                    }\n",
       "                }\n",
       "            }, 500);\n",
       "            "
      ],
      "text/plain": [
       "<IPython.core.display.Javascript object>"
      ]
     },
     "metadata": {},
     "output_type": "display_data"
    }
   ],
   "source": [
    "population = mutation_phase(population)"
   ]
  },
  {
   "cell_type": "code",
   "execution_count": 25,
   "metadata": {},
   "outputs": [
    {
     "name": "stdout",
     "output_type": "stream",
     "text": [
      "http://www.oogle.co/search?q=fuzzig\n",
      "frozenset({7, 8, 9, 10, 11, 13, 22, 23, 24})\n",
      "0.16666666666666666\n",
      "http://www.google.com/searh;q=fuzzinb2g\n",
      "frozenset({7, 8, 9, 10, 11, 13, 22, 23, 24})\n",
      "0.16666666666666666\n",
      "http://www.Xgole.com/eaHrh;qfu/zzinb2g\n",
      "frozenset({7, 8, 9, 10, 11, 13, 22, 23, 24})\n",
      "0.16666666666666666\n",
      "http://www.Xgole.com/eaHrh;qfu/zzinbng\n",
      "frozenset({7, 8, 9, 10, 11, 13, 22, 23, 24})\n",
      "0.16666666666666666\n",
      "http://www.google.com/search?q=fuzzi2g\n",
      "frozenset({7, 8, 9, 10, 11, 13, 22, 23, 24})\n",
      "0.16666666666666666\n"
     ]
    },
    {
     "data": {
      "application/javascript": [
       "\n",
       "            setTimeout(function() {\n",
       "                var nbb_cell_id = 25;\n",
       "                var nbb_formatted_code = \"print_population_info(population)\";\n",
       "                var nbb_cells = Jupyter.notebook.get_cells();\n",
       "                for (var i = 0; i < nbb_cells.length; ++i) {\n",
       "                    if (nbb_cells[i].input_prompt_number == nbb_cell_id) {\n",
       "                        nbb_cells[i].set_text(nbb_formatted_code);\n",
       "                        break;\n",
       "                    }\n",
       "                }\n",
       "            }, 500);\n",
       "            "
      ],
      "text/plain": [
       "<IPython.core.display.Javascript object>"
      ]
     },
     "metadata": {},
     "output_type": "display_data"
    }
   ],
   "source": [
    "print_population_info(population)"
   ]
  },
  {
   "cell_type": "code",
   "execution_count": 26,
   "metadata": {},
   "outputs": [
    {
     "data": {
      "application/javascript": [
       "\n",
       "            setTimeout(function() {\n",
       "                var nbb_cell_id = 26;\n",
       "                var nbb_formatted_code = \"def culling_phase(population):\\n    population_size = len(population)\\n    N = min(carrying_capacity, population_size)\\n    fitness_distribution = get_fitness_scores(population)\\n    new_population = list(np.random.choice(population, N, p=fitness_distribution))\\n    update_fitness_scores(new_population)\\n    return new_population\";\n",
       "                var nbb_cells = Jupyter.notebook.get_cells();\n",
       "                for (var i = 0; i < nbb_cells.length; ++i) {\n",
       "                    if (nbb_cells[i].input_prompt_number == nbb_cell_id) {\n",
       "                        nbb_cells[i].set_text(nbb_formatted_code);\n",
       "                        break;\n",
       "                    }\n",
       "                }\n",
       "            }, 500);\n",
       "            "
      ],
      "text/plain": [
       "<IPython.core.display.Javascript object>"
      ]
     },
     "metadata": {},
     "output_type": "display_data"
    }
   ],
   "source": [
    "def culling_phase(population):\n",
    "    population_size = len(population)\n",
    "    N = min(carrying_capacity, population_size)\n",
    "    fitness_distribution = get_fitness_scores(population)\n",
    "    new_population = list(np.random.choice(population, N, p=fitness_distribution))\n",
    "    update_fitness_scores(new_population)\n",
    "    return new_population"
   ]
  },
  {
   "cell_type": "code",
   "execution_count": 27,
   "metadata": {},
   "outputs": [
    {
     "data": {
      "application/javascript": [
       "\n",
       "            setTimeout(function() {\n",
       "                var nbb_cell_id = 27;\n",
       "                var nbb_formatted_code = \"population = culling_phase(population)\";\n",
       "                var nbb_cells = Jupyter.notebook.get_cells();\n",
       "                for (var i = 0; i < nbb_cells.length; ++i) {\n",
       "                    if (nbb_cells[i].input_prompt_number == nbb_cell_id) {\n",
       "                        nbb_cells[i].set_text(nbb_formatted_code);\n",
       "                        break;\n",
       "                    }\n",
       "                }\n",
       "            }, 500);\n",
       "            "
      ],
      "text/plain": [
       "<IPython.core.display.Javascript object>"
      ]
     },
     "metadata": {},
     "output_type": "display_data"
    }
   ],
   "source": [
    "population = culling_phase(population)"
   ]
  },
  {
   "cell_type": "code",
   "execution_count": 28,
   "metadata": {},
   "outputs": [
    {
     "name": "stdout",
     "output_type": "stream",
     "text": [
      "http://www.oogle.co/search?q=fuzzig\n",
      "frozenset({7, 8, 9, 10, 11, 13, 22, 23, 24})\n",
      "0.16666666666666666\n",
      "http://www.Xgole.com/eaHrh;qfu/zzinbng\n",
      "frozenset({7, 8, 9, 10, 11, 13, 22, 23, 24})\n",
      "0.16666666666666666\n",
      "http://www.oogle.co/search?q=fuzzig\n",
      "frozenset({7, 8, 9, 10, 11, 13, 22, 23, 24})\n",
      "0.16666666666666666\n",
      "http://www.google.com/searh;q=fuzzinb2g\n",
      "frozenset({7, 8, 9, 10, 11, 13, 22, 23, 24})\n",
      "0.16666666666666666\n",
      "http://www.oogle.co/search?q=fuzzig\n",
      "frozenset({7, 8, 9, 10, 11, 13, 22, 23, 24})\n",
      "0.16666666666666666\n"
     ]
    },
    {
     "data": {
      "application/javascript": [
       "\n",
       "            setTimeout(function() {\n",
       "                var nbb_cell_id = 28;\n",
       "                var nbb_formatted_code = \"print_population_info(population)\";\n",
       "                var nbb_cells = Jupyter.notebook.get_cells();\n",
       "                for (var i = 0; i < nbb_cells.length; ++i) {\n",
       "                    if (nbb_cells[i].input_prompt_number == nbb_cell_id) {\n",
       "                        nbb_cells[i].set_text(nbb_formatted_code);\n",
       "                        break;\n",
       "                    }\n",
       "                }\n",
       "            }, 500);\n",
       "            "
      ],
      "text/plain": [
       "<IPython.core.display.Javascript object>"
      ]
     },
     "metadata": {},
     "output_type": "display_data"
    }
   ],
   "source": [
    "print_population_info(population)"
   ]
  },
  {
   "cell_type": "code",
   "execution_count": 29,
   "metadata": {},
   "outputs": [
    {
     "name": "stdout",
     "output_type": "stream",
     "text": [
      "generation 0\n",
      "generation 1\n",
      "generation 2\n",
      "generation 3\n",
      "generation 4\n",
      "generation 5\n",
      "Got error <class 'ValueError'> for input httH://%wwioogle.com/eaprh?q=fuzz.g\n",
      "generation 6\n",
      "Got error <class 'ValueError'> for input httH://%wwioogle.com/eaprh?q=fuzz.g\n",
      "Got error <class 'ValueError'> for input httH://%wwioogle.com/eaprh?q=fuzz.g\n",
      "Got error <class 'ValueError'> for input htcH://%wwioogle.com/eaprh?q=fuzz.g\n",
      "Got error <class 'ValueError'> for input httH://%wwioogle.com/eaprh?q=fuzz.g\n",
      "Got error <class 'ValueError'> for input httH://%wwioogle.com/eaprh?q=fuzz.g\n",
      "Got error <class 'ValueError'> for input httH://%wwioogle.com/eaprh?q=fuzz.g\n",
      "Got error <class 'ValueError'> for input httH://%wwioogle.com/eaprh?q=fuzz.g\n",
      "Got error <class 'ValueError'> for input httH://%wwioogle.com/eaprh?q=fuzz.g\n",
      "Got error <class 'ValueError'> for input httH://%ww.oogle.zo/search?0=fuztig\n",
      "Got error <class 'ValueError'> for input httH://%wwioogle.com/eaprh?q=fuztig\n",
      "Got error <class 'ValueError'> for input httH://%wwioogle.com/eaprh?q=fuzz.g\n",
      "Got error <class 'ValueError'> for input httH://%wwioogle.com/eaprh?q=fuzz.g\n",
      "Got error <class 'ValueError'> for input httH://%wwioogle.zo/search?0=fuztig\n",
      "Got error <class 'ValueError'> for input httH://%wwioogle.zo/search?0=fuztig\n",
      "Got error <class 'ValueError'> for input htcp://%wwioogle.com/eaprh?q=fuzz.g\n",
      "Got error <class 'ValueError'> for input htcH://%wwioogle.com/eaprh?q=fuzz.g\n",
      "Got error <class 'ValueError'> for input httH://%wwioogle.com/eaprh?q=fuzz.g\n",
      "Got error <class 'ValueError'> for input httH://%wwioogle.com/eaprh?q=fuzz.g\n",
      "Got error <class 'ValueError'> for input httH://%wwioogle.com/eaprh?q=fuzz.g\n",
      "Got error <class 'ValueError'> for input httH://%wwioogle.zo/search?0=fuztig\n",
      "Got error <class 'ValueError'> for input httH://%ww.oogle.zo/search?0=fuztig\n",
      "Got error <class 'ValueError'> for input httH://%wwioogle.zo/search?0=fuztig\n",
      "Got error <class 'ValueError'> for input httH://%wwioogle.com/eaprh?q=fuzz.g\n",
      "Got error <class 'ValueError'> for input httH://%wwioogle.com/eaprh?q=fuzz.g\n",
      "Got error <class 'ValueError'> for input httH://%wwioogle.zo/search?0=fuztig\n",
      "Got error <class 'ValueError'> for input httH://%wwioogle.com/eaprh?q=fuztig\n",
      "Got error <class 'ValueError'> for input httH://%wwioogle.com/eaprh?q=fuzz.g\n",
      "Got error <class 'ValueError'> for input httH://%wwioogle.com/eaprh?q=fuzz.g\n",
      "Got error <class 'ValueError'> for input httH://%wwioogle.zo/search?0=fuztig\n",
      "Got error <class 'ValueError'> for input httH://%wwioogle.com/eaprh?q=fuzz.g\n",
      "Got error <class 'ValueError'> for input httH://%wwioogle.com/eaprh?q=fuzz.g\n",
      "Got error <class 'ValueError'> for input httH://%wwioogle.com/eaprh?q=fuzz.g\n",
      "Got error <class 'ValueError'> for input httH://%wwioogle.com/eaprh?0=fuztig\n",
      "Got error <class 'ValueError'> for input httH://%wwioogle.zo/search?0=fuztig\n",
      "Got error <class 'ValueError'> for input httH://%wwioogle.com/earch?0=fuztig\n",
      "Got error <class 'ValueError'> for input httH://%wwioogle.com/eaprh?q=fuztig\n",
      "Got error <class 'ValueError'> for input httH://%wwioogle.com/eaprh?q=fuzz.g\n",
      "Got error <class 'ValueError'> for input httH://%wwioogle.com/eaprh?q=fuzz.g\n",
      "Got error <class 'ValueError'> for input httH://%wwioogle.com/eaprh?q=fuzz.g\n",
      "Got error <class 'ValueError'> for input httH://%wwioogle.com/eaprh?q=fuzz.g\n",
      "Got error <class 'ValueError'> for input httH://%wwioogle.com/eaprh?q=fuzz.g\n",
      "Got error <class 'ValueError'> for input httH://%wwioogle.com/eaprh?q=fuzz.g\n",
      "Got error <class 'ValueError'> for input httH://%wwioogle.cam/eorrh?q=f%zz.g\n",
      "Got error <class 'ValueError'> for input httH://%wwiorgle.com/e%aprh?q=fuzz.g\n",
      "Got error <class 'ValueError'> for input httH://%wwioogce.lom/eaprhLqzfuz=.g\n",
      "Got error <class 'ValueError'> for input httH:{/%wioogle.com/eaprh?q=fuzz.g\n",
      "Got error <class 'ValueError'> for input httH.U//%wwioogle.cm/eaprh?q=fuzz:g\n",
      "Got error <class 'ValueError'> for input httH://%wwioogoe.com/eaprh?q=fzz.g\n",
      "Got error <class 'ValueError'> for input ht[H://%ww.osgle.zo/oear0h?0=fuztig\n",
      "Got error <class 'ValueError'> for input hatH://%wwioo|gle.%com/etprh?q=fuztig\n",
      "generation 7\n",
      "Got error <class 'ValueError'> for input httH://%wwioogle.com/eaprh?q=fuzz.g\n",
      "Got error <class 'ValueError'> for input httH://%ww.oogle.zo/search?0=fuztig\n",
      "Got error <class 'ValueError'> for input httH://%wwioogle.com/earch?0=fuztig\n",
      "Got error <class 'ValueError'> for input httH://%wwioogle.com/eaprh?q=fuzz.g\n",
      "Got error <class 'ValueError'> for input httH://%wwioogle.com/eaprh?q=fuzz.g\n",
      "Got error <class 'ValueError'> for input httH://%wwioogle.com/eaprh?q=fuzz.g\n",
      "Got error <class 'ValueError'> for input httH://%ww.oogle.zo/search?0=fuztig\n",
      "Got error <class 'ValueError'> for input htcH://%wwioogle.com/eaprh?q=fuzz.g\n",
      "Got error <class 'ValueError'> for input httH://%wwioogle.com/eaprh?q=fuzz.g\n",
      "Got error <class 'ValueError'> for input httH://%wwioogle.com/eaprh?q=fuzz.g\n",
      "Got error <class 'ValueError'> for input httH://%ww.oogle.zo/search?0=fuztig\n",
      "Got error <class 'ValueError'> for input httH://%wwoogle.com/eaprh?q=fuzz.g\n",
      "Got error <class 'ValueError'> for input httH:{/%wiioogle.com/eaprh?q=fuzz.g\n",
      "Got error <class 'ValueError'> for input httH://%wwioogle.com/earch?0=fuztig\n",
      "Got error <class 'ValueError'> for input htcp://www.oogle.com/e%aprh?q=fuzz.g\n",
      "Got error <class 'ValueError'> for input httH://%wwiorgle.zo/search?0=fuztig\n",
      "Got error <class 'ValueError'> for input httH://%wwioogle.com/eaprh?q=fuzz.g\n",
      "Got error <class 'ValueError'> for input htcH://%wwioogle.com/eaprh?q=fuzz.g\n",
      "Got error <class 'ValueError'> for input httH://%wwioogle.com/eaprh?q=fuzz.g\n",
      "Got error <class 'ValueError'> for input httH://%wwioogle.com/eaprh?q=fuzz.g\n",
      "Got error <class 'ValueError'> for input htcH://%wwioogle.com/eaprh?q=fuzz.g\n",
      "Got error <class 'ValueError'> for input httH://%wwioogle.com/eaprh?q=fuzz.g\n",
      "Got error <class 'ValueError'> for input httH://%wwiorgle.com/e%apr?0=fuztig\n",
      "Got error <class 'ValueError'> for input htcH://%wwioogle.comsearch?0=fuztig\n",
      "Got error <class 'ValueError'> for input httH://%wwioogle.com/eaprh?q=fuzz.g\n",
      "Got error <class 'ValueError'> for input httH://%wwioogle.com/eaprh?q=fuzz.g\n",
      "Got error <class 'ValueError'> for input httH://%wwioogle.com/earch?0=fuztig\n",
      "Got error <class 'ValueError'> for input httH://%wwioogle.com/eaprh?q=fuztig\n",
      "Got error <class 'ValueError'> for input htcH://%wwioogle.com/eaprh?q=fuztig\n",
      "Got error <class 'ValueError'> for input httH://%wwioogle.com/eaprh?q=fuzz.g\n",
      "Got error <class 'ValueError'> for input httH://%wwioogce.lom/eaprhLqzfuz=.g\n",
      "Got error <class 'ValueError'> for input httH://%ww.oogle.zo/search?0=fuztig\n",
      "Got error <class 'ValueError'> for input httH://%wwioogle.com/eaprh?q=fuzz.g\n",
      "Got error <class 'ValueError'> for input httH://%wwioogle.com/eaprh?q=fuzz.g\n",
      "Got error <class 'ValueError'> for input httH://%wwioogle.com/eaprh?q=fuzz.g\n",
      "Got error <class 'ValueError'> for input httH://%wwioogle.com/eaprh?q=fuzz.g\n",
      "Got error <class 'ValueError'> for input httH://%wwioogle.comsearch?0=fuztig\n",
      "Got error <class 'ValueError'> for input htcp://%wwioogce.lom/eaprhLqzfuz=.g\n",
      "Got error <class 'ValueError'> for input httH://%wwioogle.com/eaprh?q=fuzz.g\n",
      "Got error <class 'ValueError'> for input httH://%wwioogle.com/eaprh?0=fuztig\n",
      "Got error <class 'ValueError'> for input httH://%wwioogle.com/eaprh?0=fuztig\n",
      "Got error <class 'ValueError'> for input httH://%wwioogle.com/eaprh?q=fuzz.g\n",
      "Got error <class 'ValueError'> for input htcH://%wwioogle.zo/search?0=fuztig\n",
      "Got error <class 'ValueError'> for input httHz/%wwioohle.com/eaprg?q=fu:z.g\n",
      "Got error <class 'ValueError'> for input httH://%wwioogle..xmueaprh?q=f/zzcg\n",
      "Got error <class 'ValueError'> for input httH:?/%wwioogle.com/eprh/=fuzz.g\n",
      "Got error <class 'ValueError'> for input httH://%wwioogle.comO/eap=I?qrfuzz.g\n",
      "Got error <class 'ValueError'> for input ht%cH://%wWiocgle.oom/eaprh?q=fuzz.g\n",
      "Got error <class 'ValueError'> for input htcH://%wwiooglLe.comeaprh?q=fuzz.\n",
      "Got error <class 'ValueError'> for input htt/:/H%ww`ioogle.com/eaprZh?q=fuzz.g\n",
      "Got error <class 'ValueError'> for input httHu//%wwz.oogle.z/search?0=f:ztig\n",
      "Got error <class 'ValueError'> for input hcH://%wioogle.com/aprh?q=fuzz.g\n",
      "Got error <class 'ValueError'> for input httH:/]%wwioogle.hom/eaprc?q=[fuzz.g\n",
      "Got error <class 'ValueError'> for input h:tHt//%wwio2gle.com/earch?0=futig\n",
      "Got error <class 'ValueError'> for input httH://%wwiooqule.com/aeprh?g=fuzz.g\n",
      "Got error <class 'ValueError'> for input htc>p%//:wwioogce.lom/elprhLqzfuz=.g\n",
      "Got error <class 'ValueError'> for input httH://%wwo;ogle.com/)aprh?0=fuztig\n",
      "generation 8\n",
      "Got error <class 'ValueError'> for input htcH://%wwioogle.com/eaprh?0=fuztig\n",
      "Got error <class 'ValueError'> for input htcp://%wwioogle.com/earch?0=fuztig\n",
      "Got error <class 'ValueError'> for input httH://%wwioogle.zo/search?0=fuztig\n",
      "Got error <class 'ValueError'> for input httH://%wwiorgle.com/e%aprh?q=fuzzg\n",
      "Got error <class 'ValueError'> for input httH://%wwiooqule.cosearch?0=fuztig\n",
      "Got error <class 'ValueError'> for input httH://%wwiooqule.com/aerh?q=fuzz.g\n",
      "Got error <class 'ValueError'> for input ht%cH://%wWiocgle.oom/eaprh?q=fuzig\n",
      "Got error <class 'ValueError'> for input httH://%wwioogle.com/eaprh?q=fuztig\n",
      "Got error <class 'ValueError'> for input httH:/]%wwioogle.hom/eaprc?q=[fuzzg\n",
      "Got error <class 'ValueError'> for input htcp://%wwioogle.com/eaprh?q=fuzz.g\n",
      "Got error <class 'ValueError'> for input httH://%wwioogle.coaprh?q=fuzz.g\n",
      "Got error <class 'ValueError'> for input hcH://%wioogle.com/m/eaprh?q=fuzz.g\n",
      "Got error <class 'ValueError'> for input httH://%wwioogle.comsearch?q=fuzz.g\n"
     ]
    },
    {
     "name": "stdout",
     "output_type": "stream",
     "text": [
      "Got error <class 'ValueError'> for input httH://%wwioogle.com/eaprh?q=fuzz.g\n",
      "Got error <class 'ValueError'> for input httH://%wwioogle.com/eaprh?q=fuzz.g\n",
      "Got error <class 'ValueError'> for input http://%wwioogle.comsearch?0=fuztig\n",
      "Got error <class 'ValueError'> for input wtth///%wwioogle.com/eaprh?q=fuzz.g\n",
      "Got error <class 'ValueError'> for input httH://%wwioogle.com/earch?0=fuztig\n",
      "Got error <class 'ValueError'> for input httH://%wwioogle.comsearch?0=fuztig\n",
      "Got error <class 'ValueError'> for input httH://%wwioogle.com/earh?q=fzz.g\n",
      "Got error <class 'ValueError'> for input httH://%wwioogle.com/eaprh?q=fuzzig\n",
      "Got error <class 'ValueError'> for input httH://%wwioogle.com/eaprh?q=fuzz.g\n",
      "Got error <class 'ValueError'> for input httH://%wwiooqul.zo/search?0=fuztig\n",
      "Got error <class 'ValueError'> for input httH://%wwiooqul_e.com/aeprh?3g=fuzzg\n",
      "Got error <class 'ValueError'> for input ttH://%w&wioogle.coi/earch?0=fuztmg\n",
      "Got error <class 'ValueError'> for input httH:/%wwio5ogle.gcom/eaprh?q=fuzz.g\n",
      "Got error <class 'ValueError'> for input e.tH://%#wioogle.com/haprh?q=fuzztg\n",
      "Got error <class 'ValueError'> for input h/tH:kt/%wwioogle.com/aprh?q=fuztig\n",
      "Got error <class 'ValueError'> for input htt://%wwioogle.c`m~eaprh?q=fuzzig\n",
      "Got error <class 'ValueError'> for input httH:G/%wwibogle.com/eaprh?qfuzz.g\n",
      "generation 9\n",
      "Got error <class 'ValueError'> for input hgcH://%wwiootle.com/eaprh0=fuzKig\n",
      "Got error <class 'ValueError'> for input httH://%wwiooVgle!.cmsearch?0=fuztig\n",
      "Got error <class 'ValueError'> for input htRtH://%wwioNgle.comsearch?0=fuztoig\n",
      "generation 10\n",
      "generation 11\n",
      "generation 12\n",
      "generation 13\n",
      "generation 14\n",
      "generation 15\n",
      "generation 16\n",
      "Got error <class 'ValueError'> for input htci:U/www.ooglez/se5r%ch/0=fujztpg\n",
      "generation 17\n",
      "generation 18\n",
      "generation 19\n",
      "generation 20\n",
      "generation 21\n",
      "generation 22\n",
      "generation 23\n",
      "generation 24\n",
      "generation 25\n",
      "Got error <class 'ValueError'> for input htcp:U/wwwuCo%gl+.zo/skarch?r0=f.Rti}\n",
      "generation 26\n",
      "Got error <class 'ValueError'> for input htcp:U/wwuCo%glH.zoks/arch?r0=f.Rti}\n",
      "generation 27\n",
      "Got error <class 'ValueError'> for input htc+:/+oww.owgl%ez/searchV0=fujztig\n",
      "Got error <class 'IndexError'> for input htcp:U/www.ogl+.zC/search?r0=fuRt%}\n",
      "generation 28\n",
      "Got error <class 'IndexError'> for input htcp:U/www.Cogl+.zo/serch?r0=fuRt%}\n",
      "Got error <class 'IndexError'> for input htc+:/+www.ooglez/search/0=fujuRt%}\n",
      "Got error <class 'IndexError'> for input htcp:U/www.Cogl.zC/search?r0=fuRt%}\n",
      "Got error <class 'IndexError'> for input htcp:U/www.ogl+.zC/search?r0=fuRt%}\n",
      "Got error <class 'IndexError'> for input htcp:U/www.Cogl+.z/search?r0=fuRt%}\n",
      "Got error <class 'IndexError'> for input htc+:/+www.ooglez/searchh?r0=fuRt%}\n",
      "Got error <class 'IndexError'> for input htcp:U/www.ogl+.zC/search?r0=fuRt%}\n",
      "Got error <class 'IndexError'> for input htcp:U/www.ogl+.zC/search?r0=fuRt%}\n",
      "Got error <class 'IndexError'> for input htcp:U/www.Cog+.zC/search?r0=fuRt%}\n",
      "Got error <class 'IndexError'> for input htcp:U/www.Cogl+.zo/searh?r0=fuRt%}\n",
      "Got error <class 'IndexError'> for input htcp:U/www.ogl+.zC/search?r0=fuRt%}\n",
      "Got error <class 'IndexError'> for input htcp:U/www.ogl+.zC/search?r0=fuRt%}\n",
      "Got error <class 'IndexError'> for input htcp:U/www.ogl+.zC/search?r0=fuRt%}\n",
      "Got error <class 'IndexError'> for input htcp:U/www.ogl+.zC/search?r0=fuRt%}\n",
      "Got error <class 'IndexError'> for input htcp:U/www.Cogl+.zo/search?r0=fRt%}\n",
      "Got error <class 'IndexError'> for input htcp:U/www.Cogl+.zosearch?r0=fuRt%}\n",
      "Got error <class 'IndexError'> for input htcp:U/www.ogl+.zC/search?r0=fuRt%}\n",
      "Got error <class 'IndexError'> for input htcp:U/www.Cogl+.zo/search?r0=fut%}\n",
      "Got error <class 'IndexError'> for input htcp:U/www.ogl+.zC/search?r0=fuRt%}\n",
      "Got error <class 'IndexError'> for input htcp:U/www.ogl+.zC/search?r0=fuRt%}\n",
      "Got error <class 'IndexError'> for input htc+:/+www.ogl+.zC/search?r0=fuRt%}\n",
      "Got error <class 'IndexError'> for input htcp:U/www.ogl+.zC/search?r0=fuRt%}\n",
      "Got error <class 'IndexError'> for input htcp:U/www.ogl+.zC/search?r0=fuRt%}\n",
      "Got error <class 'IndexError'> for input htcp:U/www.ogl+.zC/search?r0=fuRt%}\n",
      "Got error <class 'IndexError'> for input htcp:U/www.Cogl+.zo/serch?r0=fuRt%}\n",
      "Got error <class 'IndexError'> for input htcp:U/www.Cgl+.zC/search?r0=fuRt%}\n",
      "Got error <class 'IndexError'> for input htcp:U/www.Cogl+zC/search?r0=fuRt%}\n",
      "Got error <class 'IndexError'> for input htc+:/+www.ooglez/search/0r0=fuRt%}\n",
      "Got error <class 'IndexError'> for input htcp:U/www.Cogl+.zo/serch?r0=fuRt%}\n",
      "Got error <class 'IndexError'> for input htcp:U/www.Cogl+.zo/searh?r0=fuRt%}\n",
      "Got error <class 'IndexError'> for input htcp:U/wwSw.ogl+.zC/serh?r0=fuRt%}\n",
      "Got error <class 'IndexError'> for input htcp:b/www.og5l+.zC/search?r0=fRt%}\n",
      "Got error <class 'IndexError'> for input htcp:Uwww.Cgl+.zo/search?r0=fWt%}\n",
      "Got error <class 'IndexError'> for input htcW+:/+www+.ooglfz/search/0r0=euRt%}\n",
      "generation 29\n",
      "Got error <class 'IndexError'> for input htcp:U/www.Cggl+.zosearch?r0=fuRt%}\n",
      "Got error <class 'IndexError'> for input htcp:U/www.Col+.zC/search?r0=fuRt%}\n",
      "Got error <class 'ValueError'> for input htcp:U/www.Cogl+.zo/search?r0=fRt%i}\n",
      "Got error <class 'IndexError'> for input htcp:U/www.Cogl+.zo/searc?r0=fuRt%}\n",
      "Got error <class 'IndexError'> for input htcp:U/www.Cogl+.zo/searc?r0=fuRt%}\n",
      "Got error <class 'IndexError'> for input h3cp:U/ww.Cogl+.zo/search?r0=fuRt%}\n",
      "Got error <class 'IndexError'> for input htc+:/+www.ooglez/search/0=f=fuRt%}\n",
      "Got error <class 'IndexError'> for input htcp:U/www.Cogl+o/search?r0=fWt%}\n",
      "Got error <class 'IndexError'> for input htc+:/+www.oogl.zC/search?r0=fuRt%}\n",
      "Got error <class 'IndexError'> for input htcp:U/www.ooglez/search/0=fujuRt%}\n",
      "Got error <class 'IndexError'> for input htcp:U/www.Cogl+.zo/earch?r0=fuRt%}\n",
      "Got error <class 'IndexError'> for input htcp:U/www.ogl+.zC/search?r0=fuRt%}\n",
      "Got error <class 'IndexError'> for input htcp:U/www.Cgl+.zC/search?r0=fuRt%}\n",
      "Got error <class 'IndexError'> for input htcp:U/www.Cogl+.zo/searh?r0=fuRt%}\n",
      "Got error <class 'IndexError'> for input htcp:U/www.Cogl+.zo/searh?r0=fuRt%}\n",
      "Got error <class 'IndexError'> for input htcp:U/www.Cogl+.zo/searchr0=fuRt%}\n",
      "Got error <class 'IndexError'> for input htcp:U/www.Cogl+.zo/search?r0=fRt%}\n",
      "Got error <class 'IndexError'> for input htc+:/+www.ooglez/search/0r0=fuRt%}\n",
      "Got error <class 'IndexError'> for input htcp:-/www.ogl+.zC/search?r0=fuR9%}\n",
      "Got error <class 'IndexError'> for input htfp:U/wwwogl+.zC/search?r0=cuRt%}\n",
      "Got error <class 'IndexError'> for input htcp:U/ww.Cogl+.zm/seah?r0=fuRt%}\n",
      "Got error <class 'ValueError'> for input :tc+h/+www.ooglez/search/=0fujz%ig\n",
      "Got error <class 'IndexError'> for input wtcp:U0wwhP.Cogl+o/search?r/=fWt%}\n",
      "generation 30\n",
      "Got error <class 'IndexError'> for input htcp:U/www.Cogl+.zo/search?0=fuRt%}\n",
      "Got error <class 'IndexError'> for input htcp:U/ww.Cogl+.zo/search?r0=fuRt%}\n",
      "Got error <class 'IndexError'> for input htcp:U/www.Cogl+.zo/search?r0=fuR%}\n",
      "Got error <class 'IndexError'> for input htcp:U/www.Cogl+.zo/searc?r0=fuRt%}\n",
      "Got error <class 'IndexError'> for input htcp:U/www.Cogl.zC/search?r0=fuRt%}\n",
      "Got error <class 'IndexError'> for input htc+:U/www.ogl+.zC/search?r0=fuRt%}\n",
      "Got error <class 'IndexError'> for input htc+:/+www.Cogl+.zo/searc?r0=fuRt%}\n",
      "Got error <class 'IndexError'> for input htc+:/+www.ooglez/seaarch?r0=fuRt%}\n",
      "Got error <class 'IndexError'> for input htcp:U/www.Cogl+.zo/search?r0=uRt%}\n",
      "Got error <class 'ValueError'> for input htc+:/+www.ooglez/search/0=fujz%ig\n",
      "Got error <class 'IndexError'> for input htc+:/+www.oogl.zC/search?r0=fuRt%}\n",
      "Got error <class 'IndexError'> for input htcp:U/www.Cog+.zC/search?r0=fuRt%}\n",
      "Got error <class 'IndexError'> for input htcp:U/www.Cogl+.zC/search?r0=fRt%}\n",
      "Got error <class 'IndexError'> for input htc+:/+www.ooglez//search?r0=fuRt%}\n",
      "Got error <class 'IndexError'> for input htcp:U/www.Cogl+.zo/search?r0=fRt%}\n",
      "Got error <class 'IndexError'> for input htcp:U/www.ogl+.zC/search?=fujzRt%}\n",
      "Got error <class 'IndexError'> for input htcp:U/www.Cogl+.zo/search?r0=fRt%}\n",
      "Got error <class 'IndexError'> for input htcp:U/www.ogl+.zC/search?r0=fuRt%}\n",
      "Got error <class 'IndexError'> for input htcp:U/www.Cogl+.zo/search?r0=uRt%}\n",
      "Got error <class 'IndexError'> for input htc+:/+www.ooglez/ssearch?r0=fuRt%}\n",
      "Got error <class 'IndexError'> for input htcp:U/www.ooglez/search/0=fujuRt%}\n",
      "Got error <class 'IndexError'> for input h3cp:U/ww.Cogl+.zo/search?r0=fuRt%}\n",
      "Got error <class 'IndexError'> for input htcp:U/www.ogl+.zC/search?r0=fuRt%}\n",
      "Got error <class 'IndexError'> for input htcp:U/wwwtogl+.zC/se}rch?0=fuR.%a\n",
      "Got error <class 'IndexError'> for input htp:U/www.Cog+.zC/bearch?r0=f}Rt%u\n",
      "Got error <class 'ValueError'> for input hfcp:U/ww.Cogl+.zo/search?r0=tut%L}\n",
      "Got error <class 'ValueError'> for input htcp:U/Gwww.Cogl+.zo/searu%?r0=fcRt%}\n",
      "Got error <class 'ValueError'> for input hcc+:/gwww.oolez/search/0=fujz%ig\n",
      "generation 31\n",
      "Got error <class 'IndexError'> for input htcp:U/www.Cogl+.zo/searh?r0=fuRt%}\n",
      "Got error <class 'IndexError'> for input htcp:U/www.Cogl.zC/search?r0=fuRt%}\n",
      "Got error <class 'IndexError'> for input htcp:U/www.Cogl+.z/search?r0=fuRt%}\n",
      "Got error <class 'IndexError'> for input htc+:/+www.oogl+.zo/searh?r0=fuRt%}\n",
      "Got error <class 'IndexError'> for input htcp:Uwww.Cogl+.zo/saearch?r0=fRt%}\n",
      "Got error <class 'IndexError'> for input htcp:U/www.Cogl+.zo/searh?r0=fuRt%}\n",
      "Got error <class 'IndexError'> for input htcp:U/www.Cogl+.zC/search?r0=fRt%}\n",
      "Got error <class 'IndexError'> for input htcp:U/www.ooglez/search/0=fujuRt%}\n",
      "Got error <class 'IndexError'> for input htcp:U/www.ogl+.zo/search?r0=fuRt%}\n",
      "Got error <class 'IndexError'> for input htcp:U/www.Cogl+.zo/search?r0=fuR%}\n",
      "Got error <class 'IndexError'> for input htcp:Uwwww.Cogl+.zo/search?r0=fRt%}\n",
      "Got error <class 'IndexError'> for input htcp:U/www.Cogl+.zo/search?r0=fRt%}\n",
      "Got error <class 'IndexError'> for input htcp:U/www.Cogl+.zo/searc?r0=fuRt%}\n",
      "Got error <class 'IndexError'> for input htcp:U/www.Cogl+.zo/searh?r0=fuRt%}\n",
      "Got error <class 'IndexError'> for input htcp:U/www.Cogl+.zo/search?r0=fRt%}\n",
      "Got error <class 'IndexError'> for input htcp:U/www.Cogl+.zo/searh?r0=fuRt%}\n",
      "Got error <class 'IndexError'> for input htc+:/+www.ooglez/search/0=fujzti%}\n",
      "Got error <class 'IndexError'> for input htc+:/+www.ooglez/search/0=fujztt%}\n",
      "Got error <class 'IndexError'> for input htcp:U/www.Cogl+.zo/search?r0=uRt%}\n",
      "Got error <class 'IndexError'> for input h3cp:U/www.Cogl+.zC/search?r0=fRt%}\n",
      "Got error <class 'IndexError'> for input htcp:U/ww.Cogl+.zo/search?r0=fuRt%}\n",
      "Got error <class 'IndexError'> for input htcp:U/www.Cogl+.zo/searchr0=fuRt%}\n",
      "Got error <class 'IndexError'> for input htcp:U/www.Cgl+.zC/search?r0=fuRt%}\n",
      "Got error <class 'IndexError'> for input htc+:/+www.)oglez/search/0PfujzRt%}\n",
      "Got error <class 'IndexError'> for input htcp:U/www.Cogl.zC/searrh?r0=fuRt%}\n",
      "Got error <class 'IndexError'> for input htcp:U/www.Cogl+.zo/seach?r0=fuRt%}\n",
      "Got error <class 'IndexError'> for input hec+:/+www.Cogl+.zo/searc?r0=fuRt%}\n",
      "Got error <class 'ValueError'> for input hfcp:U/ww.Cogl+.zo/searh?r0=1tZut%L}\n",
      "Got error <class 'IndexError'> for input htcp:U/wwrwrCogl+.WC/sea.ch?r0=fRt%}\n",
      "Got error <class 'IndexError'> for input htcp:U/wwweooglez/s.archM/0=fujuRt%s\n",
      "Got error <class 'IndexError'> for input htcpmU/wwwJ.ooglez/search/0=fujuRt%}\n",
      "Got error <class 'IndexError'> for input rtcp:U/wwwcCogl.zo/search?h0=fRt%}\n",
      "Got error <class 'IndexError'> for input htc:U/wwh.Cogl[zC/searcw?r0=fuRt%}\n",
      "Got error <class 'IndexError'> for input htcp:Uwww.Cog)l+.zo/0aearch?rsfRt%}\n",
      "generation 32\n",
      "Got error <class 'ValueError'> for input htcp:U/www.Cogl+.zo/srarc?%ic=fuRt0\n",
      "Got error <class 'IndexError'> for input tc:U/2wwh.Cogl[zC/searcwr0=fuRt%}\n"
     ]
    },
    {
     "name": "stdout",
     "output_type": "stream",
     "text": [
      "Got error <class 'IndexError'> for input h.tcp:U/www.Cog?+.zo/searchlr0=fuR%}\n",
      "Got error <class 'ValueError'> for input htcp:U/www.Cogl+}z0/sraroc?%oc=fuRti.\n",
      "Got error <class 'ValueError'> for input htcp:U/www.Cogl+.zo/srarc?0%O=fRuti}\n",
      "Got error <class 'ValueError'> for input htcp:U/www.Cogl+.zo/s\"arc?%c=futi}\n",
      "Got error <class 'ValueError'> for input htcp:U/www.CIgl+.zo/srrac?f0c=%uRti}\n",
      "Got error <class 'ValueError'> for input htcp:U/wwwwCogl+.zo/srarc?%i0c=fu\\ti}\n",
      "generation 33\n",
      "Got error <class 'ValueError'> for input htcp:U/www.Jogl6zo/srarc?%0%0c=fuRti\n",
      "Got error <class 'ValueError'> for input htcp:U/wwqw.CoglK'.zo/srarc?%-c=fbRti\n",
      "Got error <class 'ValueError'> for input tcpU8/wwoww.Jwgl6zo/srarc?=0c%fuRti}\n",
      "Got error <class 'ValueError'> for input htcp:U/www%.qJogl6zo/Crarc?%0c=fuRti}\n",
      "Got error <class 'ValueError'> for input htcp:%U/www.Jogl6z/srarc?%0&=fuRti}\n",
      "Got error <class 'ValueError'> for input %tcp:U/wwqw.ogl6zo/srarc?h}cAfuRti0\n",
      "Got error <class 'ValueError'> for input htQp:U/wwqw.CoglK.zc/srarc?%Gc=fuRti\n",
      "Got error <class 'ValueError'> for input htcp:U/wwqw.CoglK.zo/srar(c?%0+=fuRt\n",
      "Got error <class 'ValueError'> for input tcU/www.Cocl+:zo/srarrarg?%0W=fuRti\n",
      "generation 34\n",
      "Got error <class 'ValueError'> for input htcLp:U/www.Cogl+.zoas/rc?%0=fuRti}\n",
      "Got error <class 'ValueError'> for input htcLp:U/www.Cogl+.zoas/rc?%=fuRti}\n",
      "Got error <class 'ValueError'> for input htcp:U/www.Jogl6zo/srarc?%c=fuRti}\n",
      "Got error <class 'ValueError'> for input htcp:U/wwqwJogl6zo/srarc?%%0c=fuRti}\n",
      "Got error <class 'ValueError'> for input htcp:U/www.Jogl6zo/srarc?%0=fuRti}\n",
      "Got error <class 'ValueError'> for input htcLp:U/www.Cogl+.zoas/rc?%c=fuRti}\n",
      "Got error <class 'ValueError'> for input tcpU/www.Cogl+:zo/srarc?%?%0c=fuRti}\n",
      "Got error <class 'ValueError'> for input tcpU/wiw*Cogl+:zo/srarc?%c=fuRtw}\n",
      "Got error <class 'ValueError'> for input %cHU/ww.Cogl+:zo/srarc?t0c=fuRti}\n",
      "Got error <class 'ValueError'> for input hFtcLp:U/www.Cogl+.zoas/rc?%;c=uRti}\n",
      "Got error <class 'ValueError'> for input tcpU/www.Hogl+:zo/srari?%0c=%uRtc}\n",
      "Got error <class 'ValueError'> for input htcpU/www.JCogl+.zoas/rcu%0z=f?Rti}\n",
      "Got error <class 'ValueError'> for input tcpU/www.Cogl+c:o/srarc?%0+c=c=fuRti}\n",
      "Got error <class 'ValueError'> for input tcpU/www.Cogl+:zo/srarcM?%0:c=fuRti!}\n",
      "generation 35\n",
      "Got error <class 'ValueError'> for input htcp:www.Cogl+:zo/srarc?%%0c=fuRti}\n",
      "Got error <class 'ValueError'> for input tcpU/www.Cogl+:zo/srarc?%?%0c=fuRtic\n",
      "Got error <class 'ValueError'> for input tcpU/www.Cogl+:zo/srarc?%?%0c=fuRti}\n",
      "Got error <class 'ValueError'> for input htcpU/www.JCogl+.zoas/rcu%0z=f?RRti}\n",
      "Got error <class 'ValueError'> for input \"tcLpcU/www.g%Cs+.zoal/rc?o0c=fuRti:\n",
      "Got error <class 'ValueError'> for input tcpU/ww.Cogl+:zo/srarc?%0vc=fuRt+}\n",
      "Got error <class 'ValueError'> for input htcLp:U/www.Cogl+.zo%s/rc?a0c2f=uRti}\n",
      "Got error <class 'ValueError'> for input ht]pU/www.Cogl+:zo/srarc?%0%c=fuRt}\n",
      "Got error <class 'ValueError'> for input tcpU/wwwFCogl+Rzo/srarc?%?%0c=fnu:ti}\n",
      "Got error <class 'ValueError'> for input h|cpKU/www.JCZgl:zo/srarc?%0=fubti\n",
      "generation 36\n",
      "Got error <class 'ValueError'> for input htcp:U/www.Jogl6zo/srarc?%c=fuRti}\n",
      "Got error <class 'ValueError'> for input htcp:www.Cogl+:zo/srarc?%%0c=fuRti}\n",
      "Got error <class 'ValueError'> for input htcLp:U/www.Cogl+.zoas/rc?%0=fuRti}\n",
      "Got error <class 'ValueError'> for input tcpU/www.Cogl+:zo/srarc?%%0c=fuRtih\n",
      "Got error <class 'ValueError'> for input 4tcpU/www.Cogl+:zo/cWarc?%0s=fuRti}\n",
      "Got error <class 'ValueError'> for input tcpU/www.Cog+:zo/srarc?%;c=fIuRti}\n",
      "Got error <class 'ValueError'> for input htcp:%/www.Jogl6zo/sioarc?U0c=fuRtr}\n",
      "Got error <class 'ValueError'> for input hcpU/Uww.Cogl+:zo/sra$rc?%0wc=fuRti}\n",
      "Got error <class 'ValueError'> for input htcL:U/www.Cogl+.zo/srarc?%0=c=fubti\n",
      "generation 37\n",
      "Got error <class 'ValueError'> for input htcp:U/www.Jogl6zo/srarc?%?%0c=fubti\n",
      "Got error <class 'ValueError'> for input tcpU/www.Cogl+:zo/srarc?%%0cc=fuRti}\n",
      "Got error <class 'ValueError'> for input htzp:U/www.Jogl6co/srarc?%0R=fuctir}\n",
      "Got error <class 'ValueError'> for input htc,Lp:U/www.Cyogl+.zoas/rc?R0c=fu%ti}\n",
      "Got error <class 'ValueError'> for input tcpU/www7.Cogl+:Qzo/srarc?%0=fuRti}\n",
      "Got error <class 'ValueError'> for input vtcp:U/www.Cogl+.zoas/rc?%0=fuRti}\n",
      "Got error <class 'ValueError'> for input htcLR:U/rwww.Cogl+.zoas/rc?%X0c=fupti}\n",
      "Got error <class 'ValueError'> for input h|cp:U/ww.JCZglK.zo/srarc?%0=ubti\n",
      "Got error <class 'ValueError'> for input htc}:U/www.JoMl6zo/srarc?%0kc=fuRtip\n",
      "Got error <class 'ValueError'> for input g|cp:U/www.JCZhlK.zo/cc?%0r=fuRtib}\n",
      "generation 38\n",
      "Got error <class 'ValueError'> for input t[rU/www.ogl+:zo/srapf?%?%0c=fuRti}\n",
      "Got error <class 'ValueError'> for input h|cp:U/www.JCZglK.zo/srarc?%0uRti}\n",
      "Got error <class 'ValueError'> for input h|%p:U/www.JCZg2lK=zo/srarc?%0c=fubti\n",
      "Got error <class 'ValueError'> for input htcLp:U/www.Cocl+.zoasT/rg?%Sc=fuRti}\n",
      "Got error <class 'ValueError'> for input htcp:U/w.Cogl+:Gzo/srarc?%0Wc=fuRt}\n",
      "generation 39\n",
      "Got error <class 'ValueError'> for input htcLp:U/wCogl+:zo/srarc?%%0cc=fuRti}\n",
      "Got error <class 'ValueError'> for input \"tcMp:U/www.goClt+.zoas/rc?%i0c=fuRtic\n",
      "Got error <class 'ValueError'> for input htcp:U/ww.Jogl6zo/sra\\rc?%0h=fuRti}\n",
      "Got error <class 'ValueError'> for input htcp:U/hwww.Jxogl6zo/srarc?%0rcc=fuRti}\n",
      "Got error <class 'ValueError'> for input htcLp:U/www.gRCl+.zoas/nc?%mc=fuotic\n",
      "generation 40\n",
      "Got error <class 'ValueError'> for input htcLp:U/www.Cogl+.zoas/rc?%c=fuRti}\n",
      "Got error <class 'ValueError'> for input htcp:U/www.Jogl6zo/srarc?%?%0c=fubti\n",
      "Got error <class 'ValueError'> for input tcpU/www.Cogl+:zo/srarc?%?%0c=fuRtic\n",
      "Got error <class 'ValueError'> for input htcp:www.Cogl+:zo/srarc?%%0c=fuRti}\n",
      "Got error <class 'ValueError'> for input htcp:U/www.Jogl6zo/srarc%?0cc=fuRi4}\n",
      "Got error <class 'ValueError'> for input htcp:U/www.Jogl6zozos/rarc?%0-=fubti\n",
      "Got error <class 'ValueError'> for input htcp:U/www.ogl6zosrar?%0Sc=fuRti}\n",
      "Got error <class 'ValueError'> for input htcp:U/ww.0ogl6zo/srarc?%?%Jc=fub<ti\n",
      "Got error <class 'ValueError'> for input t+pU/www.Coglr:zo/sra+c?f?%0c=%uRtic\n",
      "Got error <class 'ValueError'> for input h|cp:U/wwwJCZglKzoarcH?%0|c=fuRti^\n",
      "generation 41\n",
      "Got error <class 'ValueError'> for input h|cp:U/www.JCZglK.zo/srarc?%=fuRti}\n",
      "Got error <class 'ValueError'> for input hbcZ:U/www.JC'ZglK.zo/srarc?%=fuRti}\n",
      "Got error <class 'ValueError'> for input h|cp:U/www.JCZglK.zo/srarc?%=fuRti^\n",
      "Got error <class 'ValueError'> for input htcp:U/www.Jogl6zo/srarc?%?%0c=fubti\n",
      "Got error <class 'ValueError'> for input htip:U/www.Jogl6zo/srarc?%0=fuR_c}\n",
      "generation 42\n",
      "Got error <class 'ValueError'> for input htcp:U/www.Jocl6zo/srar%c?0gc=fuRti}\n",
      "Got error <class 'ValueError'> for input h|cp:U/www.JCZglK.zo/srarc?cQ%=f*ubti\n",
      "Got error <class 'ValueError'> for input htcp:0/www.3ogl6zoVsrarc?%Ucc=fuRti}\n",
      "Got error <class 'ValueError'> for input htcp:U/w.C%g+:zo/srarc?o0c=fuRti1\n",
      "Got error <class 'ValueError'> for input htc`:U/www.JCZgK.zo/srarcc%0?=fubti\n",
      "generation 43\n",
      "Got error <class 'ValueError'> for input htcp:Urwwc.Jogl6zo/sr/c?%0wc=fuRti}\n",
      "Got error <class 'ValueError'> for input 7h|cp:U/www._J%ZglK.srarc?C0c=fuRti}\n",
      "Got error <class 'ValueError'> for input htcpc./wwwUJog|l6zo.zo/srarc?%0:=fu|ti\n",
      "Got error <class 'ValueError'> for input htcp:U/%ww.Jogl6zo/srarc?L0c=fuRti}\n",
      "Got error <class 'ValueError'> for input htcp:U/ww0.Jogl6zo/srarci%wc=fuRt?g\n",
      "generation 44\n",
      "Got error <class 'ValueError'> for input htcp:www.Cogl+:zo/srarc?%%0cc=fuRti}\n",
      "Got error <class 'ValueError'> for input h|cp:U/www.JCZglK.zo/srarc?%fuRti}\n",
      "Got error <class 'ValueError'> for input htcp:www.Cogl+:zo/srarc?%0?%0c=fubti\n",
      "Got error <class 'ValueError'> for input htcp:U/www.Jogl6zo/srarc?%?%0c=fubti\n",
      "Got error <class 'ValueError'> for input qtcp:U/wwc.Jogl6zo/srark?%0w=fuRti}\n",
      "Got error <class 'ValueError'> for input htcp0U/ww).Jogl6zo/srarc?%}c=fuRti:\n",
      "Got error <class 'ValueError'> for input htc`:U/www.JCZgK.zo/esrarcc%0?fOubti\n",
      "Got error <class 'ValueError'> for input htcpU:/www.zogl6zo/raarc?%c=fuRti}\n",
      "Got error <class 'ValueError'> for input htcp:U/www.Jogl6zo/srarc?%0t=fIRi}\n",
      "Got error <class 'ValueError'> for input htxcpK:U/www.Jogl6zo/rarcH?%c=fuRti^\n",
      "Got error <class 'ValueError'> for input htcp:Ugwww.Jorl6zo/raa/c?%-c=fuRti}\n",
      "Got error <class 'ValueError'> for input htcp:Uwww.Jogl6zo//rarc?%c=fuRti}\n",
      "Got error <class 'ValueError'> for input h|cw:/wpw.JCZglK.zorarc0%?cc=fuRti}\n",
      "Got error <class 'ValueError'> for input htcp:U/www.Jogl6%o/srarc?z0c=JOuRti}\n",
      "generation 45\n",
      "Got error <class 'ValueError'> for input htcp0U/ww).Jogl6zo/srarc?%}c=fuRti}\n",
      "Got error <class 'ValueError'> for input htcp:www.Cogl+:zo/srarc?%%0cc=fuRti}\n",
      "Got error <class 'ValueError'> for input htcp:Uuwww.Jogl6zo/oas//rc?%0=fuRti}\n",
      "Got error <class 'ValueError'> for input htcp:www.Cogl+:zo/sraTc?%c=nuRti}\n",
      "Got error <class 'ValueError'> for input htcp:U/w!ww.Jogl6zo/srarc?%c=fuRti}\n",
      "Got error <class 'ValueError'> for input hicp0U/ww).Jbogl6zo/srarc?%}=fuRtt:\n",
      "Got error <class 'ValueError'> for input Utcp:h/www.Jogl6zo/srac?%rc=fuRti}\n",
      "generation 46\n",
      "Got error <class 'ValueError'> for input htcp:www.Cogl+:zo/srarc?%0?%0c=fkRti}\n"
     ]
    },
    {
     "name": "stdout",
     "output_type": "stream",
     "text": [
      "Got error <class 'ValueError'> for input htcp:Uuwww.Jogl6zo/oas//rc?%0=fuRti}\n",
      "Got error <class 'ValueError'> for input htcp:Uuwww.Jogl6zo/oas//rc?%c=fuRti}\n",
      "Got error <class 'ValueError'> for input htcp:U/www.Jogl6zo/srarc?%0=fuRti}\n",
      "Got error <class 'ValueError'> for input htcp:U/www.Jogl6zo/raarc?%0=fuRti}\n",
      "Got error <class 'ValueError'> for input htcp:U/www.Jogl6zo/srarc?f0cR%mu=ti}\n",
      "Got error <class 'ValueError'> for input htcp:Uwww.Jogl6zo/raa0c?%rc=fuRti}\n",
      "Got error <class 'ValueError'> for input htcp:www.Cogl+:so/zrarc?%c=fuRti0\n",
      "Got error <class 'ValueError'> for input htcR:/www.Jog%6zo/raarc}?0c=fupti\n",
      "Got error <class 'ValueError'> for input htcp:cww.Cogl+:zo/srarh?%y0ccw=fuRti}\n",
      "generation 47\n",
      "Got error <class 'ValueError'> for input htcp:U/www.Jogl6zo/srarc?%c=fuRti}\n",
      "Got error <class 'ValueError'> for input htcTp:www.Cogl+:zo/srac?%}c=fuRti0\n",
      "Got error <class 'ValueError'> for input htcp:www.Cogl+:zoracc?%0r=fuRti}\n",
      "Got error <class 'ValueError'> for input htc0:U/www.Jognl6zo/srarc?%pVc=fuRti}\n",
      "Got error <class 'ValueError'> for input tcp:U/www.Jo'gl6zo&srarc?%c=fuRti}\n",
      "Got error <class 'ValueError'> for input htcp:U/ww%.Jogl6o/srarc?Yw0c=fuRti}\n",
      "Got error <class 'ValueError'> for input htcp:U/www.Jgl6zo/raarc?%0=fuRit}\n",
      "Got error <class 'ValueError'> for input htcv:/www.Jocl6zo/raarc?%0g=fuRti}\n",
      "generation 48\n",
      "Got error <class 'ValueError'> for input htcp:U/www.Jol6z/srarc?%?%0cc=fuRti}\n",
      "Got error <class 'ValueError'> for input htcp:U/ww%Jogl6zosrarc?w0cc=fuRti}\n",
      "Got error <class 'ValueError'> for input htcp:ww.7wCogl+:zo/srarc?%0=fuRti}\n",
      "generation 49\n",
      "Got error <class 'ValueError'> for input htcp:ww.Cogl+:zo/srar?%0%0c=fuRti}\n",
      "Got error <class 'ValueError'> for input htcp:ww.Cogl+:zo/srar?%0%0cc=fuRti}\n",
      "Got error <class 'ValueError'> for input htcp:Uuwww.Jogl6zo/oas//rc?%0=fuRti}\n",
      "Got error <class 'ValueError'> for input htcp:U/www.Jgl6zo/rarcH?%c?%0c=fkRti}\n",
      "Got error <class 'ValueError'> for input htcp:www.Cogl+:zo/srarc?%=uRti}\n",
      "Got error <class 'ValueError'> for input htcp:Uuwww.Jogl6zo/oas//rc?%fuRtil\n"
     ]
    },
    {
     "data": {
      "application/javascript": [
       "\n",
       "            setTimeout(function() {\n",
       "                var nbb_cell_id = 29;\n",
       "                var nbb_formatted_code = \"number_of_generations = 50\\nfor g in range(number_of_generations):\\n    print(\\\"generation \\\" + str(g))\\n    population = recombination_phase(population)\\n    population = mutation_phase(population)\\n    population = culling_phase(population)\";\n",
       "                var nbb_cells = Jupyter.notebook.get_cells();\n",
       "                for (var i = 0; i < nbb_cells.length; ++i) {\n",
       "                    if (nbb_cells[i].input_prompt_number == nbb_cell_id) {\n",
       "                        nbb_cells[i].set_text(nbb_formatted_code);\n",
       "                        break;\n",
       "                    }\n",
       "                }\n",
       "            }, 500);\n",
       "            "
      ],
      "text/plain": [
       "<IPython.core.display.Javascript object>"
      ]
     },
     "metadata": {},
     "output_type": "display_data"
    }
   ],
   "source": [
    "number_of_generations = 50\n",
    "for g in range(number_of_generations):\n",
    "    print(\"generation \" + str(g))\n",
    "    population = recombination_phase(population)\n",
    "    population = mutation_phase(population)\n",
    "    population = culling_phase(population)"
   ]
  },
  {
   "cell_type": "code",
   "execution_count": 30,
   "metadata": {},
   "outputs": [
    {
     "data": {
      "text/plain": [
       "['http://www.google.com/search?q=fuzzing',\n",
       " 'httH://%wwioogle.com/eaprh?q=fuzz.g',\n",
       " 'htcp://www.oogle.zo/search?0=fuztig',\n",
       " 'htcp://www.oogl+.zo/search?r0=fuzti}',\n",
       " 'htc+:/?www.oogle.zo/search/0=fujztig',\n",
       " 'htcp:U/www.ogl+.zC/search?r0=fuRt%}',\n",
       " 'htcp:U/www.Cogl+.zo/srarc?%0c=fuRti}',\n",
       " 'tcpU/www.Cogl+:zo/srarc?%0c=fuRti}',\n",
       " 'htcp:U/www.Jogl6zo/srarc?%0c=fuRti}',\n",
       " 'htcp:U/wwqw.CoglK.zo/srarc?%0c=fuRti']"
      ]
     },
     "execution_count": 30,
     "metadata": {},
     "output_type": "execute_result"
    },
    {
     "data": {
      "application/javascript": [
       "\n",
       "            setTimeout(function() {\n",
       "                var nbb_cell_id = 30;\n",
       "                var nbb_formatted_code = \"important_samples\";\n",
       "                var nbb_cells = Jupyter.notebook.get_cells();\n",
       "                for (var i = 0; i < nbb_cells.length; ++i) {\n",
       "                    if (nbb_cells[i].input_prompt_number == nbb_cell_id) {\n",
       "                        nbb_cells[i].set_text(nbb_formatted_code);\n",
       "                        break;\n",
       "                    }\n",
       "                }\n",
       "            }, 500);\n",
       "            "
      ],
      "text/plain": [
       "<IPython.core.display.Javascript object>"
      ]
     },
     "metadata": {},
     "output_type": "display_data"
    }
   ],
   "source": [
    "important_samples"
   ]
  },
  {
   "cell_type": "code",
   "execution_count": 31,
   "metadata": {},
   "outputs": [
    {
     "data": {
      "text/plain": [
       "{frozenset({7, 8, 9, 10, 11, 13, 22, 23, 24}): 634,\n",
       " \"<class 'ValueError'>\": 293,\n",
       " frozenset({7, 8, 9, 10, 11, 13, 22, 23, 24, 41, 42, 43}): 112,\n",
       " frozenset({7, 8, 9, 10, 11, 12, 13, 22, 23, 24}): 2394,\n",
       " frozenset({7, 8, 9, 10, 11, 12, 13, 22, 23, 24, 41, 42, 43}): 97,\n",
       " \"<class 'IndexError'>\": 115,\n",
       " frozenset({7, 8, 9, 10, 11, 12, 13, 14, 15, 16, 17, 18, 22, 23, 24}): 643,\n",
       " frozenset({7,\n",
       "            8,\n",
       "            9,\n",
       "            10,\n",
       "            11,\n",
       "            12,\n",
       "            13,\n",
       "            14,\n",
       "            15,\n",
       "            16,\n",
       "            17,\n",
       "            18,\n",
       "            22,\n",
       "            23,\n",
       "            24,\n",
       "            41,\n",
       "            42,\n",
       "            43}): 38,\n",
       " frozenset({7,\n",
       "            8,\n",
       "            9,\n",
       "            10,\n",
       "            11,\n",
       "            13,\n",
       "            14,\n",
       "            15,\n",
       "            16,\n",
       "            17,\n",
       "            18,\n",
       "            22,\n",
       "            23,\n",
       "            24,\n",
       "            41,\n",
       "            42,\n",
       "            43}): 54,\n",
       " frozenset({7, 8, 9, 10, 11, 13, 14, 15, 16, 17, 18, 22, 23, 24}): 1251}"
      ]
     },
     "execution_count": 31,
     "metadata": {},
     "output_type": "execute_result"
    },
    {
     "data": {
      "application/javascript": [
       "\n",
       "            setTimeout(function() {\n",
       "                var nbb_cell_id = 31;\n",
       "                var nbb_formatted_code = \"coverage_dict\";\n",
       "                var nbb_cells = Jupyter.notebook.get_cells();\n",
       "                for (var i = 0; i < nbb_cells.length; ++i) {\n",
       "                    if (nbb_cells[i].input_prompt_number == nbb_cell_id) {\n",
       "                        nbb_cells[i].set_text(nbb_formatted_code);\n",
       "                        break;\n",
       "                    }\n",
       "                }\n",
       "            }, 500);\n",
       "            "
      ],
      "text/plain": [
       "<IPython.core.display.Javascript object>"
      ]
     },
     "metadata": {},
     "output_type": "display_data"
    }
   ],
   "source": [
    "coverage_dict"
   ]
  },
  {
   "cell_type": "code",
   "execution_count": 35,
   "metadata": {},
   "outputs": [
    {
     "ename": "IndexError",
     "evalue": "string index out of range",
     "output_type": "error",
     "traceback": [
      "\u001b[1;31m---------------------------------------------------------------------------\u001b[0m",
      "\u001b[1;31mIndexError\u001b[0m                                Traceback (most recent call last)",
      "\u001b[1;32m<ipython-input-35-7c84a26021d0>\u001b[0m in \u001b[0;36m<module>\u001b[1;34m\u001b[0m\n\u001b[1;32m----> 1\u001b[1;33m \u001b[0mcgi_decode\u001b[0m\u001b[1;33m(\u001b[0m\u001b[1;34m\"htcp:U/www.ooglez/search/0=fujuRt%\"\u001b[0m\u001b[1;33m)\u001b[0m\u001b[1;33m\u001b[0m\u001b[1;33m\u001b[0m\u001b[0m\n\u001b[0m",
      "\u001b[1;32m<ipython-input-2-12d3e32ba5fc>\u001b[0m in \u001b[0;36mcgi_decode\u001b[1;34m(input_data)\u001b[0m\n\u001b[0;32m     12\u001b[0m             \u001b[0moutput\u001b[0m \u001b[1;33m+=\u001b[0m \u001b[1;34m\" \"\u001b[0m\u001b[1;33m\u001b[0m\u001b[1;33m\u001b[0m\u001b[0m\n\u001b[0;32m     13\u001b[0m         \u001b[1;32melif\u001b[0m \u001b[0mcurrent_char\u001b[0m \u001b[1;33m==\u001b[0m \u001b[1;34m\"%\"\u001b[0m\u001b[1;33m:\u001b[0m\u001b[1;33m\u001b[0m\u001b[1;33m\u001b[0m\u001b[0m\n\u001b[1;32m---> 14\u001b[1;33m             \u001b[0mdigit_high\u001b[0m\u001b[1;33m,\u001b[0m \u001b[0mdigit_low\u001b[0m \u001b[1;33m=\u001b[0m \u001b[0minput_data\u001b[0m\u001b[1;33m[\u001b[0m\u001b[0mi\u001b[0m \u001b[1;33m+\u001b[0m \u001b[1;36m1\u001b[0m\u001b[1;33m]\u001b[0m\u001b[1;33m,\u001b[0m \u001b[0minput_data\u001b[0m\u001b[1;33m[\u001b[0m\u001b[0mi\u001b[0m \u001b[1;33m+\u001b[0m \u001b[1;36m2\u001b[0m\u001b[1;33m]\u001b[0m\u001b[1;33m\u001b[0m\u001b[1;33m\u001b[0m\u001b[0m\n\u001b[0m\u001b[0;32m     15\u001b[0m             \u001b[0mi\u001b[0m \u001b[1;33m+=\u001b[0m \u001b[1;36m2\u001b[0m\u001b[1;33m\u001b[0m\u001b[1;33m\u001b[0m\u001b[0m\n\u001b[0;32m     16\u001b[0m             \u001b[1;32mtry\u001b[0m\u001b[1;33m:\u001b[0m\u001b[1;33m\u001b[0m\u001b[1;33m\u001b[0m\u001b[0m\n",
      "\u001b[1;31mIndexError\u001b[0m: string index out of range"
     ]
    },
    {
     "data": {
      "application/javascript": [
       "\n",
       "            setTimeout(function() {\n",
       "                var nbb_cell_id = 35;\n",
       "                var nbb_formatted_code = \"cgi_decode(\\\"htcp:U/www.ooglez/search/0=fujuRt%\\\")\";\n",
       "                var nbb_cells = Jupyter.notebook.get_cells();\n",
       "                for (var i = 0; i < nbb_cells.length; ++i) {\n",
       "                    if (nbb_cells[i].input_prompt_number == nbb_cell_id) {\n",
       "                        nbb_cells[i].set_text(nbb_formatted_code);\n",
       "                        break;\n",
       "                    }\n",
       "                }\n",
       "            }, 500);\n",
       "            "
      ],
      "text/plain": [
       "<IPython.core.display.Javascript object>"
      ]
     },
     "metadata": {},
     "output_type": "display_data"
    }
   ],
   "source": [
    "cgi_decode(\"htcp:U/www.ooglez/search/0=fujuRt%\")"
   ]
  }
 ],
 "metadata": {
  "kernelspec": {
   "display_name": "Python 3",
   "language": "python",
   "name": "python3"
  },
  "language_info": {
   "codemirror_mode": {
    "name": "ipython",
    "version": 3
   },
   "file_extension": ".py",
   "mimetype": "text/x-python",
   "name": "python",
   "nbconvert_exporter": "python",
   "pygments_lexer": "ipython3",
   "version": "3.7.5"
  }
 },
 "nbformat": 4,
 "nbformat_minor": 2
}
