{
 "cells": [
  {
   "cell_type": "code",
   "execution_count": 1,
   "metadata": {},
   "outputs": [],
   "source": [
    "FUZZINGBOOK_SWAG = {\n",
    "    \"tshirt\": \"One FuzzingBook T-Shirt\",\n",
    "    \"drill\": \"One FuzzingBook Rotary Hammer\",\n",
    "    \"lockset\": \"One FuzzingBook Lock Set\"\n",
    "}"
   ]
  },
  {
   "cell_type": "code",
   "execution_count": 2,
   "metadata": {},
   "outputs": [],
   "source": [
    "HTML_ORDER_FORM = \"\"\"\n",
    "<html><body>\n",
    "<form action=\"/order\" style=\"border:3px; border-style:solid; border-color:#FF0000; padding: 1em;\">\n",
    "  <strong id=\"title\" style=\"font-size: x-large\">Fuzzingbook Swag Order Form</strong>\n",
    "  <p>\n",
    "  Yes! Please send me at your earliest convenience\n",
    "  <select name=\"item\">\n",
    "  \"\"\"\n",
    "# (We don't use h2, h3, etc. here as they interfere with the notebook table of contents)\n",
    "\n",
    "for item in FUZZINGBOOK_SWAG:\n",
    "    HTML_ORDER_FORM += \\\n",
    "        '<option value=\"{item}\">{name}</option>\\n'.format(item=item,\n",
    "            name=FUZZINGBOOK_SWAG[item])\n",
    "\n",
    "HTML_ORDER_FORM += \"\"\"\n",
    "  </select>\n",
    "  <br>\n",
    "  <table>\n",
    "  <tr><td>\n",
    "  <label for=\"name\">Name: </label><input type=\"text\" name=\"name\">\n",
    "  </td><td>\n",
    "  <label for=\"email\">Email: </label><input type=\"email\" name=\"email\"><br>\n",
    "  </td></tr>\n",
    "  <tr><td>\n",
    "  <label for=\"city\">City: </label><input type=\"text\" name=\"city\">\n",
    "  </td><td>\n",
    "  <label for=\"zip\">ZIP Code: </label><input type=\"number\" name=\"zip\">\n",
    "  </tr></tr>\n",
    "  </table>\n",
    "  <input type=\"checkbox\" name=\"terms\"><label for=\"terms\">I have read\n",
    "  the <a href=\"/terms\">terms and conditions</a></label>.<br>\n",
    "  <input type=\"submit\" name=\"submit\" value=\"Place order\">\n",
    "</p>\n",
    "</form>\n",
    "</body></html>\n",
    "\"\"\""
   ]
  },
  {
   "cell_type": "code",
   "execution_count": 3,
   "metadata": {},
   "outputs": [
    {
     "data": {
      "text/plain": [
       "'\\n<html><body>\\n<form action=\"/order\" style=\"border:3px; border-style:solid; border-color:#FF0000; padding: 1em;\">\\n  <strong id=\"title\" style=\"font-size: x-large\">Fuzzingbook Swag Order Form</strong>\\n  <p>\\n  Yes! Please send me at your earliest convenience\\n  <select name=\"item\">\\n  <option value=\"tshirt\">One FuzzingBook T-Shirt</option>\\n<option value=\"drill\">One FuzzingBook Rotary Hammer</option>\\n<option value=\"lockset\">One FuzzingBook Lock Set</option>\\n\\n  </select>\\n  <br>\\n  <table>\\n  <tr><td>\\n  <label for=\"name\">Name: </label><input type=\"text\" name=\"name\">\\n  </td><td>\\n  <label for=\"email\">Email: </label><input type=\"email\" name=\"email\"><br>\\n  </td></tr>\\n  <tr><td>\\n  <label for=\"city\">City: </label><input type=\"text\" name=\"city\">\\n  </td><td>\\n  <label for=\"zip\">ZIP Code: </label><input type=\"number\" name=\"zip\">\\n  </tr></tr>\\n  </table>\\n  <input type=\"checkbox\" name=\"terms\"><label for=\"terms\">I have read\\n  the <a href=\"/terms\">terms and conditions</a></label>.<br>\\n  <input type=\"submit\" name=\"submit\" value=\"Place order\">\\n</p>\\n</form>\\n</body></html>\\n'"
      ]
     },
     "execution_count": 3,
     "metadata": {},
     "output_type": "execute_result"
    }
   ],
   "source": [
    "HTML_ORDER_FORM"
   ]
  },
  {
   "cell_type": "code",
   "execution_count": 4,
   "metadata": {},
   "outputs": [
    {
     "ename": "NameError",
     "evalue": "name 'HTML' is not defined",
     "output_type": "error",
     "traceback": [
      "\u001b[1;31m---------------------------------------------------------------------------\u001b[0m",
      "\u001b[1;31mNameError\u001b[0m                                 Traceback (most recent call last)",
      "\u001b[1;32m<ipython-input-4-634bcfb9bed5>\u001b[0m in \u001b[0;36m<module>\u001b[1;34m\u001b[0m\n\u001b[1;32m----> 1\u001b[1;33m \u001b[0mHTML\u001b[0m\u001b[1;33m(\u001b[0m\u001b[0mHTML_ORDER_FORM\u001b[0m\u001b[1;33m)\u001b[0m\u001b[1;33m\u001b[0m\u001b[1;33m\u001b[0m\u001b[0m\n\u001b[0m",
      "\u001b[1;31mNameError\u001b[0m: name 'HTML' is not defined"
     ]
    }
   ],
   "source": [
    "HTML(HTML_ORDER_FORM)"
   ]
  },
  {
   "cell_type": "code",
   "execution_count": null,
   "metadata": {},
   "outputs": [],
   "source": []
  }
 ],
 "metadata": {
  "kernelspec": {
   "display_name": "Python 3",
   "language": "python",
   "name": "python3"
  },
  "language_info": {
   "codemirror_mode": {
    "name": "ipython",
    "version": 3
   },
   "file_extension": ".py",
   "mimetype": "text/x-python",
   "name": "python",
   "nbconvert_exporter": "python",
   "pygments_lexer": "ipython3",
   "version": "3.7.5"
  }
 },
 "nbformat": 4,
 "nbformat_minor": 2
}
