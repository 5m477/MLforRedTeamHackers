{
 "cells": [
  {
   "cell_type": "markdown",
   "metadata": {},
   "source": [
    "Here's a function to convert ascii strings to base64. Can you come up with an input that will lead to an error? (Hint: you can come up with an example by hand, without extensive search)."
   ]
  },
  {
   "cell_type": "code",
   "execution_count": 14,
   "metadata": {},
   "outputs": [],
   "source": [
    "def ascii_to_base64(ascii_input):\n",
    "    char_set = \"ABCDEFGHIJKLMNOPQRSTUVWXYZabcdefghijklmnopqrstuvwxyz0123456789+/\"; \n",
    "    N = len(ascii_input)//3\n",
    "    out = \"\"\n",
    "    for i in range(N):\n",
    "        triple = ascii_input[3*i:3*(i+1)]\n",
    "        res = ''.join(format(ord(i), '08b') for i in triple) \n",
    "    for i in range(4):\n",
    "      six_bits = res[6*i:6*(i+1)]\n",
    "      index = int(six_bits, 2)\n",
    "      out+=char_set[index]\n",
    "    last_block = ascii_input[N*3:]\n",
    "    res = ''.join(format(ord(i), '08b') for i in last_block)\n",
    "    if (len(res) != 0):\n",
    "        num_zeros_to_append = 6-len(res) % 6\n",
    "        res += num_zeros_to_append * '0'\n",
    "        for i in range(len(res)//6):\n",
    "          six_bits = res[6*i:6*(i+1)]\n",
    "          index = int(six_bits, 2)\n",
    "          out+=char_set[index]\n",
    "        out+=(3-i)*\"=\"\n",
    "    return out"
   ]
  },
  {
   "cell_type": "code",
   "execution_count": 16,
   "metadata": {},
   "outputs": [
    {
     "data": {
      "text/plain": [
       "'Ymxh'"
      ]
     },
     "execution_count": 16,
     "metadata": {},
     "output_type": "execute_result"
    }
   ],
   "source": [
    "ascii_to_base64(\"bla\")"
   ]
  },
  {
   "cell_type": "code",
   "execution_count": null,
   "metadata": {},
   "outputs": [],
   "source": []
  }
 ],
 "metadata": {
  "kernelspec": {
   "display_name": "Python 3",
   "language": "python",
   "name": "python3"
  },
  "language_info": {
   "codemirror_mode": {
    "name": "ipython",
    "version": 3
   },
   "file_extension": ".py",
   "mimetype": "text/x-python",
   "name": "python",
   "nbconvert_exporter": "python",
   "pygments_lexer": "ipython3",
   "version": "3.7.5"
  }
 },
 "nbformat": 4,
 "nbformat_minor": 2
}
