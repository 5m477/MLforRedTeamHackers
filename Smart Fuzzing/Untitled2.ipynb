{
 "cells": [
  {
   "cell_type": "code",
   "execution_count": 1,
   "metadata": {},
   "outputs": [
    {
     "data": {
      "application/javascript": [
       "\n",
       "            setTimeout(function() {\n",
       "                var nbb_cell_id = 1;\n",
       "                var nbb_formatted_code = \"%load_ext nb_black\";\n",
       "                var nbb_cells = Jupyter.notebook.get_cells();\n",
       "                for (var i = 0; i < nbb_cells.length; ++i) {\n",
       "                    if (nbb_cells[i].input_prompt_number == nbb_cell_id) {\n",
       "                        nbb_cells[i].set_text(nbb_formatted_code);\n",
       "                        break;\n",
       "                    }\n",
       "                }\n",
       "            }, 500);\n",
       "            "
      ],
      "text/plain": [
       "<IPython.core.display.Javascript object>"
      ]
     },
     "metadata": {},
     "output_type": "display_data"
    }
   ],
   "source": [
    "%load_ext nb_black"
   ]
  },
  {
   "cell_type": "code",
   "execution_count": 9,
   "metadata": {},
   "outputs": [
    {
     "data": {
      "application/javascript": [
       "\n",
       "            setTimeout(function() {\n",
       "                var nbb_cell_id = 9;\n",
       "                var nbb_formatted_code = \"import string\\nimport random\\n\\n\\ndef toy_fuzzer(\\n    maximum_length=150,\\n    include_punctuation=True,\\n    include_letters=True,\\n    include_digits=True,\\n):\\n    \\\"\\\"\\\"Basic fuzzer.\\\"\\\"\\\"\\n    vocabulary = (\\n        include_punctuation * string.punctuation\\n        + include_letters * string.ascii_letters\\n        + include_digits * string.digits\\n    )\\n    output_length = random.randrange(0, maximum_length + 1)\\n    out = [random.choice(vocabulary) for x in range(0, output_length)]\\n    return \\\"\\\".join(out)\";\n",
       "                var nbb_cells = Jupyter.notebook.get_cells();\n",
       "                for (var i = 0; i < nbb_cells.length; ++i) {\n",
       "                    if (nbb_cells[i].input_prompt_number == nbb_cell_id) {\n",
       "                        nbb_cells[i].set_text(nbb_formatted_code);\n",
       "                        break;\n",
       "                    }\n",
       "                }\n",
       "            }, 500);\n",
       "            "
      ],
      "text/plain": [
       "<IPython.core.display.Javascript object>"
      ]
     },
     "metadata": {},
     "output_type": "display_data"
    }
   ],
   "source": [
    "import string\n",
    "import random\n",
    "\n",
    "\n",
    "def toy_fuzzer(\n",
    "    maximum_length=150,\n",
    "    include_punctuation=True,\n",
    "    include_letters=True,\n",
    "    include_digits=True,\n",
    "):\n",
    "    \"\"\"Basic fuzzer.\"\"\"\n",
    "    vocabulary = (\n",
    "        include_punctuation * string.punctuation\n",
    "        + include_letters * string.ascii_letters\n",
    "        + include_digits * string.digits\n",
    "    )\n",
    "    output_length = random.randrange(0, maximum_length + 1)\n",
    "    out = [random.choice(vocabulary) for x in range(0, output_length)]\n",
    "    return \"\".join(out)"
   ]
  },
  {
   "cell_type": "code",
   "execution_count": 10,
   "metadata": {},
   "outputs": [
    {
     "name": "stdout",
     "output_type": "stream",
     "text": [
      "Run 1:\n",
      "<#M@&F]=_/xyT89\\b!TNFA[YN=:Dxm-s2?0\"nH><DMentC^,;FBm`P\n",
      "\n",
      "Run 2:\n",
      "o2zfeS+?i>>?-s<ouR>%~;k(yQYdIhu%1C&4)2OitQh,xV-}6=TaFmQt-cjW`(a$Z`\\q:Jd/hWb\\wdZZk9G__.5\\4a\n",
      "\n",
      "Run 3:\n",
      "J?4HJ.RKh\\gW]/qDZV'{>Yo)dpH{Mm5E%mp7Rn-RZ]Csy4NE9wu;ui}p|y]n1!U]vg>\"Lk{[%|&1h\\KbA-?b2;s?G&W.T8Gh\\!&>Z\";ePb*8E#^dAo8I4MIPmOgbom0w8[L~v-mYN$\n",
      "\n",
      "Run 4:\n",
      "xtB1.,,$;[]K\n",
      "\n",
      "Run 5:\n",
      "Ug[:C7PHYj1YrVokUlx@\\vZ[@7YHF^2<>s0}bp;ltZx}NFMONWOZL}&P!fuGh8t#dn>:~5]\"iX]+3oVol||N_I@P~`(&EseHG(nj3f6I6%Ph.s-)2Mu[slJS>;kpygyyH&R\\<Do\\S\n",
      "\n"
     ]
    },
    {
     "data": {
      "application/javascript": [
       "\n",
       "            setTimeout(function() {\n",
       "                var nbb_cell_id = 10;\n",
       "                var nbb_formatted_code = \"N = 5\\nfor i in range(N):\\n    print(\\\"Run \\\" + str(i + 1) + \\\":\\\")\\n    print(toy_fuzzer())\\n    print()\";\n",
       "                var nbb_cells = Jupyter.notebook.get_cells();\n",
       "                for (var i = 0; i < nbb_cells.length; ++i) {\n",
       "                    if (nbb_cells[i].input_prompt_number == nbb_cell_id) {\n",
       "                        nbb_cells[i].set_text(nbb_formatted_code);\n",
       "                        break;\n",
       "                    }\n",
       "                }\n",
       "            }, 500);\n",
       "            "
      ],
      "text/plain": [
       "<IPython.core.display.Javascript object>"
      ]
     },
     "metadata": {},
     "output_type": "display_data"
    }
   ],
   "source": [
    "N = 5\n",
    "for i in range(N):\n",
    "    print(\"Run \" + str(i + 1) + \":\")\n",
    "    print(toy_fuzzer())\n",
    "    print()"
   ]
  },
  {
   "cell_type": "code",
   "execution_count": 11,
   "metadata": {},
   "outputs": [
    {
     "data": {
      "application/javascript": [
       "\n",
       "            setTimeout(function() {\n",
       "                var nbb_cell_id = 11;\n",
       "                var nbb_formatted_code = \"def cgi_decode(input):\\n    \\\"\\\"\\\"Decodes the CGI-encoded string \\\"input\\\":\\n       - Replaces \\\"+\\\" by \\\" \\\".\\n       - Replaces \\\"%xx\\\" by the character with hex number xx.\\n       Returns the decoded string.  Raises `ValueError` for invalid inputs.\\n       \\\"\\\"\\\"\\n    output = \\\"\\\"\\n    i = 0\\n    while i < len(input):\\n        current_char = input[i]\\n        if current_char == \\\"+\\\":\\n            output += \\\" \\\"\\n        elif current_char == \\\"%\\\":\\n            digit_high, digit_low = input[i + 1], input[i + 2]\\n            i += 2\\n            try:\\n                v = int(digit_high, 16) * 16 + int(digit_low, 16)\\n                output += chr(v)\\n            except:\\n                raise ValueError(\\\"Invalid input\\\")\\n        else:\\n            output += current_char\\n        i += 1\\n    return output\";\n",
       "                var nbb_cells = Jupyter.notebook.get_cells();\n",
       "                for (var i = 0; i < nbb_cells.length; ++i) {\n",
       "                    if (nbb_cells[i].input_prompt_number == nbb_cell_id) {\n",
       "                        nbb_cells[i].set_text(nbb_formatted_code);\n",
       "                        break;\n",
       "                    }\n",
       "                }\n",
       "            }, 500);\n",
       "            "
      ],
      "text/plain": [
       "<IPython.core.display.Javascript object>"
      ]
     },
     "metadata": {},
     "output_type": "display_data"
    }
   ],
   "source": [
    "def cgi_decode(input):\n",
    "    \"\"\"Decodes the CGI-encoded string \"input\":\n",
    "       - Replaces \"+\" by \" \".\n",
    "       - Replaces \"%xx\" by the character with hex number xx.\n",
    "       Returns the decoded string.  Raises `ValueError` for invalid inputs.\n",
    "       \"\"\"\n",
    "    output = \"\"\n",
    "    i = 0\n",
    "    while i < len(input):\n",
    "        current_char = input[i]\n",
    "        if current_char == \"+\":\n",
    "            output += \" \"\n",
    "        elif current_char == \"%\":\n",
    "            digit_high, digit_low = input[i + 1], input[i + 2]\n",
    "            i += 2\n",
    "            try:\n",
    "                v = int(digit_high, 16) * 16 + int(digit_low, 16)\n",
    "                output += chr(v)\n",
    "            except:\n",
    "                raise ValueError(\"Invalid input\")\n",
    "        else:\n",
    "            output += current_char\n",
    "        i += 1\n",
    "    return output"
   ]
  },
  {
   "cell_type": "code",
   "execution_count": 12,
   "metadata": {},
   "outputs": [
    {
     "data": {
      "application/javascript": [
       "\n",
       "            setTimeout(function() {\n",
       "                var nbb_cell_id = 12;\n",
       "                var nbb_formatted_code = \"def python_gotcha(x):\\n    value = 42\\n    if x < value:\\n        value += x\\n    elif x > value:\\n        value = 1\\n    else:\\n        valu\\u0435 = 23\\n    print(value)\";\n",
       "                var nbb_cells = Jupyter.notebook.get_cells();\n",
       "                for (var i = 0; i < nbb_cells.length; ++i) {\n",
       "                    if (nbb_cells[i].input_prompt_number == nbb_cell_id) {\n",
       "                        nbb_cells[i].set_text(nbb_formatted_code);\n",
       "                        break;\n",
       "                    }\n",
       "                }\n",
       "            }, 500);\n",
       "            "
      ],
      "text/plain": [
       "<IPython.core.display.Javascript object>"
      ]
     },
     "metadata": {},
     "output_type": "display_data"
    }
   ],
   "source": [
    "def python_gotcha(x):\n",
    "    value = 42\n",
    "    if x < value:\n",
    "        value += x\n",
    "    elif x > value:\n",
    "        value = 1\n",
    "    else:\n",
    "        valuе = 23\n",
    "    print(value)"
   ]
  },
  {
   "cell_type": "code",
   "execution_count": 14,
   "metadata": {},
   "outputs": [
    {
     "name": "stdout",
     "output_type": "stream",
     "text": [
      "42\n"
     ]
    },
    {
     "data": {
      "application/javascript": [
       "\n",
       "            setTimeout(function() {\n",
       "                var nbb_cell_id = 14;\n",
       "                var nbb_formatted_code = \"python_gotcha(42)\";\n",
       "                var nbb_cells = Jupyter.notebook.get_cells();\n",
       "                for (var i = 0; i < nbb_cells.length; ++i) {\n",
       "                    if (nbb_cells[i].input_prompt_number == nbb_cell_id) {\n",
       "                        nbb_cells[i].set_text(nbb_formatted_code);\n",
       "                        break;\n",
       "                    }\n",
       "                }\n",
       "            }, 500);\n",
       "            "
      ],
      "text/plain": [
       "<IPython.core.display.Javascript object>"
      ]
     },
     "metadata": {},
     "output_type": "display_data"
    }
   ],
   "source": [
    "python_gotcha(42)"
   ]
  },
  {
   "cell_type": "code",
   "execution_count": 19,
   "metadata": {},
   "outputs": [
    {
     "data": {
      "application/javascript": [
       "\n",
       "            setTimeout(function() {\n",
       "                var nbb_cell_id = 19;\n",
       "                var nbb_formatted_code = \"def line_tracer(frame, event, arg):\\n    \\\"\\\"\\\"Traces the collection of lines executed by a function.\\\"\\\"\\\"\\n    if event == \\\"line\\\":\\n        lineno = frame.f_lineno\\n        global coverage\\n        coverage.add(lineno)\\n    return line_tracer\";\n",
       "                var nbb_cells = Jupyter.notebook.get_cells();\n",
       "                for (var i = 0; i < nbb_cells.length; ++i) {\n",
       "                    if (nbb_cells[i].input_prompt_number == nbb_cell_id) {\n",
       "                        nbb_cells[i].set_text(nbb_formatted_code);\n",
       "                        break;\n",
       "                    }\n",
       "                }\n",
       "            }, 500);\n",
       "            "
      ],
      "text/plain": [
       "<IPython.core.display.Javascript object>"
      ]
     },
     "metadata": {},
     "output_type": "display_data"
    }
   ],
   "source": [
    "def line_tracer(frame, event, arg):\n",
    "    \"\"\"Traces the collection of lines executed by a function.\"\"\"\n",
    "    if event == \"line\":\n",
    "        lineno = frame.f_lineno\n",
    "        global coverage\n",
    "        coverage.add(lineno)\n",
    "    return line_tracer"
   ]
  },
  {
   "cell_type": "code",
   "execution_count": 20,
   "metadata": {},
   "outputs": [
    {
     "data": {
      "application/javascript": [
       "\n",
       "            setTimeout(function() {\n",
       "                var nbb_cell_id = 20;\n",
       "                var nbb_formatted_code = \"import sys\\n\\n\\ndef record_coverage(function, s):\\n    \\\"\\\"\\\"Record the set of lines covered when function calls s.\\\"\\\"\\\"\\n    global coverage\\n    coverage = set([])\\n    sys.settrace(line_tracer)\\n    function(s)\\n    sys.settrace(None)\\n    coverage = frozenset(coverage)\\n    return coverage\";\n",
       "                var nbb_cells = Jupyter.notebook.get_cells();\n",
       "                for (var i = 0; i < nbb_cells.length; ++i) {\n",
       "                    if (nbb_cells[i].input_prompt_number == nbb_cell_id) {\n",
       "                        nbb_cells[i].set_text(nbb_formatted_code);\n",
       "                        break;\n",
       "                    }\n",
       "                }\n",
       "            }, 500);\n",
       "            "
      ],
      "text/plain": [
       "<IPython.core.display.Javascript object>"
      ]
     },
     "metadata": {},
     "output_type": "display_data"
    }
   ],
   "source": [
    "import sys\n",
    "\n",
    "\n",
    "def record_coverage(function, s):\n",
    "    \"\"\"Record the set of lines covered when function calls s.\"\"\"\n",
    "    global coverage\n",
    "    coverage = set([])\n",
    "    sys.settrace(line_tracer)\n",
    "    function(s)\n",
    "    sys.settrace(None)\n",
    "    coverage = frozenset(coverage)\n",
    "    return coverage"
   ]
  },
  {
   "cell_type": "code",
   "execution_count": 21,
   "metadata": {},
   "outputs": [
    {
     "data": {
      "text/plain": [
       "frozenset({7, 8, 9, 10, 11, 12, 13, 22, 23, 24})"
      ]
     },
     "execution_count": 21,
     "metadata": {},
     "output_type": "execute_result"
    },
    {
     "data": {
      "application/javascript": [
       "\n",
       "            setTimeout(function() {\n",
       "                var nbb_cell_id = 21;\n",
       "                var nbb_formatted_code = \"record_coverage(cgi_decode, \\\"cgi+encoding\\\")\";\n",
       "                var nbb_cells = Jupyter.notebook.get_cells();\n",
       "                for (var i = 0; i < nbb_cells.length; ++i) {\n",
       "                    if (nbb_cells[i].input_prompt_number == nbb_cell_id) {\n",
       "                        nbb_cells[i].set_text(nbb_formatted_code);\n",
       "                        break;\n",
       "                    }\n",
       "                }\n",
       "            }, 500);\n",
       "            "
      ],
      "text/plain": [
       "<IPython.core.display.Javascript object>"
      ]
     },
     "metadata": {},
     "output_type": "display_data"
    }
   ],
   "source": [
    "record_coverage(cgi_decode, \"cgi+encoding\")"
   ]
  },
  {
   "cell_type": "code",
   "execution_count": 22,
   "metadata": {},
   "outputs": [
    {
     "data": {
      "application/javascript": [
       "\n",
       "            setTimeout(function() {\n",
       "                var nbb_cell_id = 22;\n",
       "                var nbb_formatted_code = \"import inspect\";\n",
       "                var nbb_cells = Jupyter.notebook.get_cells();\n",
       "                for (var i = 0; i < nbb_cells.length; ++i) {\n",
       "                    if (nbb_cells[i].input_prompt_number == nbb_cell_id) {\n",
       "                        nbb_cells[i].set_text(nbb_formatted_code);\n",
       "                        break;\n",
       "                    }\n",
       "                }\n",
       "            }, 500);\n",
       "            "
      ],
      "text/plain": [
       "<IPython.core.display.Javascript object>"
      ]
     },
     "metadata": {},
     "output_type": "display_data"
    }
   ],
   "source": [
    "import inspect"
   ]
  },
  {
   "cell_type": "code",
   "execution_count": 23,
   "metadata": {},
   "outputs": [
    {
     "data": {
      "application/javascript": [
       "\n",
       "            setTimeout(function() {\n",
       "                var nbb_cell_id = 23;\n",
       "                var nbb_formatted_code = \"cgi_decode_code = inspect.getsource(cgi_decode)\";\n",
       "                var nbb_cells = Jupyter.notebook.get_cells();\n",
       "                for (var i = 0; i < nbb_cells.length; ++i) {\n",
       "                    if (nbb_cells[i].input_prompt_number == nbb_cell_id) {\n",
       "                        nbb_cells[i].set_text(nbb_formatted_code);\n",
       "                        break;\n",
       "                    }\n",
       "                }\n",
       "            }, 500);\n",
       "            "
      ],
      "text/plain": [
       "<IPython.core.display.Javascript object>"
      ]
     },
     "metadata": {},
     "output_type": "display_data"
    }
   ],
   "source": [
    "cgi_decode_code = inspect.getsource(cgi_decode)"
   ]
  },
  {
   "cell_type": "code",
   "execution_count": 24,
   "metadata": {},
   "outputs": [
    {
     "data": {
      "application/javascript": [
       "\n",
       "            setTimeout(function() {\n",
       "                var nbb_cell_id = 24;\n",
       "                var nbb_formatted_code = \"cgi_decode_lines = [\\\"\\\"] + cgi_decode_code.splitlines()\";\n",
       "                var nbb_cells = Jupyter.notebook.get_cells();\n",
       "                for (var i = 0; i < nbb_cells.length; ++i) {\n",
       "                    if (nbb_cells[i].input_prompt_number == nbb_cell_id) {\n",
       "                        nbb_cells[i].set_text(nbb_formatted_code);\n",
       "                        break;\n",
       "                    }\n",
       "                }\n",
       "            }, 500);\n",
       "            "
      ],
      "text/plain": [
       "<IPython.core.display.Javascript object>"
      ]
     },
     "metadata": {},
     "output_type": "display_data"
    }
   ],
   "source": [
    "cgi_decode_lines = [\"\"] + cgi_decode_code.splitlines()"
   ]
  },
  {
   "cell_type": "code",
   "execution_count": 25,
   "metadata": {},
   "outputs": [
    {
     "name": "stdout",
     "output_type": "stream",
     "text": [
      "#\n",
      "#def cgi_decode(input):\n",
      "#    \"\"\"Decodes the CGI-encoded string \"input\":\n",
      "#       - Replaces \"+\" by \" \".\n",
      "#       - Replaces \"%xx\" by the character with hex number xx.\n",
      "#       Returns the decoded string.  Raises `ValueError` for invalid inputs.\n",
      "#       \"\"\"\n",
      "    output = \"\"\n",
      "    i = 0\n",
      "    while i < len(input):\n",
      "        current_char = input[i]\n",
      "        if current_char == \"+\":\n",
      "            output += \" \"\n",
      "        elif current_char == \"%\":\n",
      "#            digit_high, digit_low = input[i + 1], input[i + 2]\n",
      "#            i += 2\n",
      "#            try:\n",
      "#                v = int(digit_high, 16) * 16 + int(digit_low, 16)\n",
      "#                output += chr(v)\n",
      "#            except:\n",
      "#                raise ValueError(\"Invalid input\")\n",
      "#        else:\n",
      "            output += current_char\n",
      "        i += 1\n",
      "    return output\n"
     ]
    },
    {
     "data": {
      "application/javascript": [
       "\n",
       "            setTimeout(function() {\n",
       "                var nbb_cell_id = 25;\n",
       "                var nbb_formatted_code = \"for i in range(len(cgi_decode_lines)):\\n    line = cgi_decode_lines[i]\\n    if i in coverage:\\n        print(line)\\n    else:\\n        print(\\\"#\\\" + line)\";\n",
       "                var nbb_cells = Jupyter.notebook.get_cells();\n",
       "                for (var i = 0; i < nbb_cells.length; ++i) {\n",
       "                    if (nbb_cells[i].input_prompt_number == nbb_cell_id) {\n",
       "                        nbb_cells[i].set_text(nbb_formatted_code);\n",
       "                        break;\n",
       "                    }\n",
       "                }\n",
       "            }, 500);\n",
       "            "
      ],
      "text/plain": [
       "<IPython.core.display.Javascript object>"
      ]
     },
     "metadata": {},
     "output_type": "display_data"
    }
   ],
   "source": [
    "for i in range(len(cgi_decode_lines)):\n",
    "    line = cgi_decode_lines[i]\n",
    "    if i in coverage:\n",
    "        print(line)\n",
    "    else:\n",
    "        print(\"#\" + line)"
   ]
  },
  {
   "cell_type": "code",
   "execution_count": null,
   "metadata": {},
   "outputs": [],
   "source": []
  }
 ],
 "metadata": {
  "kernelspec": {
   "display_name": "Python 3",
   "language": "python",
   "name": "python3"
  },
  "language_info": {
   "codemirror_mode": {
    "name": "ipython",
    "version": 3
   },
   "file_extension": ".py",
   "mimetype": "text/x-python",
   "name": "python",
   "nbconvert_exporter": "python",
   "pygments_lexer": "ipython3",
   "version": "3.7.5"
  }
 },
 "nbformat": 4,
 "nbformat_minor": 2
}
