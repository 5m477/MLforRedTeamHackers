{
 "cells": [
  {
   "cell_type": "markdown",
   "metadata": {},
   "source": [
    "Our First (Toy) Fuzzer"
   ]
  },
  {
   "cell_type": "code",
   "execution_count": 1,
   "metadata": {},
   "outputs": [],
   "source": [
    "import random\n",
    "def toy_fuzzer(max_length=100, char_start=32, char_range=32):\n",
    "    \"\"\"A string of up to `max_length` characters\n",
    "       in the range [`char_start`, `char_start` + `char_range`]\"\"\"\n",
    "    string_length = random.randrange(0, max_length + 1)\n",
    "    out = \"\"\n",
    "    for i in range(0, string_length):\n",
    "        out += chr(random.randrange(char_start, char_start + char_range))\n",
    "    return out"
   ]
  },
  {
   "cell_type": "code",
   "execution_count": 2,
   "metadata": {},
   "outputs": [
    {
     "name": "stdout",
     "output_type": "stream",
     "text": [
      "Run 1:\n",
      "<9.2!4\n",
      "\n",
      "Run 2:\n",
      ").0/%4+0\"4)1'07$>/?/6./>2#''5'<,*#825?40-5.56(.)2>22)).$-7*2>\n",
      "\n",
      "Run 3:\n",
      "?>!? ?**3-5> +9/9*%7'9,5%2='-,-!/\"5<76/39(6?(375,&<>.:\"2#$->\"\n",
      "\n"
     ]
    }
   ],
   "source": [
    "N = 3\n",
    "for i in range(N):\n",
    "    print(\"Run \"+str(i+1)+\":\")\n",
    "    print(toy_fuzzer())\n",
    "    print()"
   ]
  },
  {
   "cell_type": "markdown",
   "metadata": {},
   "source": [
    "Let's Talk About \"Code Coverage\""
   ]
  },
  {
   "cell_type": "markdown",
   "metadata": {},
   "source": [
    "CGI encoding is a technique used in URLs (i.e., Web addresses) to encode characters that would be invalid in a URL, such as blanks and certain punctuation. "
   ]
  },
  {
   "cell_type": "markdown",
   "metadata": {},
   "source": [
    "Example: go to the CHR website, https://www.chrobinson.com/en-US/, and search for \"latest news\". The URL you get is \"https://www.chrobinson.com/en-US/Search/?keyword=%20latest%20news\". What's this %20 crap? It's CGI encoding of space."
   ]
  },
  {
   "cell_type": "markdown",
   "metadata": {},
   "source": [
    "I found a CGI decoding function online."
   ]
  },
  {
   "cell_type": "code",
   "execution_count": 1,
   "metadata": {},
   "outputs": [],
   "source": [
    "def cgi_decode(s):\n",
    "    \"\"\"Decode the CGI-encoded string `s`:\n",
    "       * replace \"+\" by \" \"\n",
    "       * replace \"%xx\" by the character with hex number xx.\n",
    "       Return the decoded string.  Raise `ValueError` for invalid inputs.\"\"\"\n",
    "\n",
    "    # Mapping of hex digits to their integer values\n",
    "    hex_values = {\n",
    "        '0': 0, '1': 1, '2': 2, '3': 3, '4': 4,\n",
    "        '5': 5, '6': 6, '7': 7, '8': 8, '9': 9,\n",
    "        'a': 10, 'b': 11, 'c': 12, 'd': 13, 'e': 14, 'f': 15,\n",
    "        'A': 10, 'B': 11, 'C': 12, 'D': 13, 'E': 14, 'F': 15,\n",
    "    }\n",
    "\n",
    "    t = \"\"\n",
    "    i = 0\n",
    "    while i < len(s):\n",
    "        c = s[i]\n",
    "        if c == '+':\n",
    "            t += ' '\n",
    "        elif c == '%':\n",
    "            digit_high, digit_low = s[i + 1], s[i + 2]\n",
    "            i += 2\n",
    "            if digit_high in hex_values and digit_low in hex_values:\n",
    "                v = hex_values[digit_high] * 16 + hex_values[digit_low]\n",
    "                t += chr(v)\n",
    "            else:\n",
    "                raise ValueError(\"Invalid encoding\")\n",
    "        else:\n",
    "            t += c\n",
    "        i += 1\n",
    "    return t"
   ]
  },
  {
   "cell_type": "code",
   "execution_count": 4,
   "metadata": {},
   "outputs": [
    {
     "data": {
      "text/plain": [
       "'Hello world'"
      ]
     },
     "execution_count": 4,
     "metadata": {},
     "output_type": "execute_result"
    }
   ],
   "source": [
    "cgi_decode(\"Hello+world\")"
   ]
  },
  {
   "cell_type": "code",
   "execution_count": 5,
   "metadata": {},
   "outputs": [
    {
     "data": {
      "text/plain": [
       "'keyword= latest news'"
      ]
     },
     "execution_count": 5,
     "metadata": {},
     "output_type": "execute_result"
    }
   ],
   "source": [
    "cgi_decode(\"keyword=%20latest%20news\")"
   ]
  },
  {
   "cell_type": "markdown",
   "metadata": {},
   "source": [
    "It looks to be working. Cool. I guess my work here is done."
   ]
  },
  {
   "cell_type": "markdown",
   "metadata": {},
   "source": [
    "Oh wait. If the CHR website crashed and while doing so dumped out all of our customers' private information CHR would be in a whole lot of trouble..."
   ]
  },
  {
   "cell_type": "markdown",
   "metadata": {},
   "source": [
    "Let's start testing stuff:"
   ]
  },
  {
   "cell_type": "code",
   "execution_count": 6,
   "metadata": {},
   "outputs": [],
   "source": [
    "assert cgi_decode('+') == ' '\n",
    "assert cgi_decode('%20') == ' '\n",
    "assert cgi_decode('abc') == 'abc'\n",
    "\n",
    "try:\n",
    "    cgi_decode('%?a')\n",
    "    assert False\n",
    "except ValueError:\n",
    "    pass"
   ]
  },
  {
   "cell_type": "markdown",
   "metadata": {},
   "source": [
    "Tests pass. But what if I missed something? Is there a way to systematically test this CGI decoder function without tediously compiling together a huge number of test cases by hand?"
   ]
  },
  {
   "cell_type": "markdown",
   "metadata": {},
   "source": [
    "Let's try our toy fuzzer."
   ]
  },
  {
   "cell_type": "code",
   "execution_count": 7,
   "metadata": {},
   "outputs": [
    {
     "name": "stdout",
     "output_type": "stream",
     "text": [
      "Run 1:\n",
      "Value Error\n",
      "Run 2:\n",
      "Value Error\n",
      "Run 3:\n",
      "Value Error\n"
     ]
    }
   ],
   "source": [
    "for i in range(N):\n",
    "    print(\"Run \"+str(i+1)+\":\")\n",
    "    try:\n",
    "        print(cgi_decode(toy_fuzzer()))\n",
    "        print()\n",
    "    except ValueError:\n",
    "        print(\"Value Error\")"
   ]
  },
  {
   "cell_type": "markdown",
   "metadata": {},
   "source": [
    "Coolio... Did we cover all the cases we need to cover? Don't know."
   ]
  },
  {
   "cell_type": "markdown",
   "metadata": {},
   "source": [
    "Let's think about code coverage. That is, what percentage of the source code is actually executed."
   ]
  },
  {
   "cell_type": "markdown",
   "metadata": {},
   "source": [
    "Let's trace an example execution using sys.settrace(). At each line being executed, we are going to obtain the function name, line number and local variables / assignments."
   ]
  },
  {
   "cell_type": "code",
   "execution_count": 2,
   "metadata": {},
   "outputs": [],
   "source": [
    "coverage = []\n",
    "import sys\n",
    "def traceit(frame, event, arg):\n",
    "    if event == \"line\":\n",
    "        global coverage\n",
    "        function_name = frame.f_code.co_name\n",
    "        lineno = frame.f_lineno\n",
    "        coverage.append(lineno)\n",
    "    return traceit"
   ]
  },
  {
   "cell_type": "markdown",
   "metadata": {},
   "source": [
    "Event here is a string with values including \"line\" (a new line has been reached) or \"call\" (a function is being called)."
   ]
  },
  {
   "cell_type": "code",
   "execution_count": 3,
   "metadata": {},
   "outputs": [],
   "source": [
    "def cgi_decode_traced(s):\n",
    "    global coverage\n",
    "    coverage = []\n",
    "    sys.settrace(traceit)  # Turn on\n",
    "    cgi_decode(s)\n",
    "    sys.settrace(None)    # Turn off"
   ]
  },
  {
   "cell_type": "markdown",
   "metadata": {},
   "source": [
    "Ok, let's trace:"
   ]
  },
  {
   "cell_type": "code",
   "execution_count": 4,
   "metadata": {},
   "outputs": [
    {
     "name": "stdout",
     "output_type": "stream",
     "text": [
      "[9, 10, 11, 12, 15, 16, 17, 18, 19, 21, 30, 31, 17, 18, 19, 20, 31, 17, 18, 19, 21, 30, 31, 17, 32]\n"
     ]
    }
   ],
   "source": [
    "cgi_decode_traced(\"a+b\")\n",
    "print(coverage)"
   ]
  },
  {
   "cell_type": "code",
   "execution_count": 11,
   "metadata": {},
   "outputs": [],
   "source": [
    "import inspect\n",
    "cgi_decode_code = inspect.getsource(cgi_decode)\n",
    "cgi_decode_lines = [\"\"] + cgi_decode_code.splitlines()"
   ]
  },
  {
   "cell_type": "code",
   "execution_count": 12,
   "metadata": {},
   "outputs": [
    {
     "name": "stdout",
     "output_type": "stream",
     "text": [
      "#\n",
      "#def cgi_decode(s):\n",
      "#    \"\"\"Decode the CGI-encoded string `s`:\n",
      "#       * replace \"+\" by \" \"\n",
      "#       * replace \"%xx\" by the character with hex number xx.\n",
      "#       Return the decoded string.  Raise `ValueError` for invalid inputs.\"\"\"\n",
      "#\n",
      "#    # Mapping of hex digits to their integer values\n",
      "#    hex_values = {\n",
      "        '0': 0, '1': 1, '2': 2, '3': 3, '4': 4,\n",
      "        '5': 5, '6': 6, '7': 7, '8': 8, '9': 9,\n",
      "        'a': 10, 'b': 11, 'c': 12, 'd': 13, 'e': 14, 'f': 15,\n",
      "        'A': 10, 'B': 11, 'C': 12, 'D': 13, 'E': 14, 'F': 15,\n",
      "#    }\n",
      "#\n",
      "    t = \"\"\n",
      "    i = 0\n",
      "    while i < len(s):\n",
      "        c = s[i]\n",
      "        if c == '+':\n",
      "            t += ' '\n",
      "        elif c == '%':\n",
      "#            digit_high, digit_low = s[i + 1], s[i + 2]\n",
      "#            i += 2\n",
      "#            if digit_high in hex_values and digit_low in hex_values:\n",
      "#                v = hex_values[digit_high] * 16 + hex_values[digit_low]\n",
      "#                t += chr(v)\n",
      "#            else:\n",
      "#                raise ValueError(\"Invalid encoding\")\n",
      "#        else:\n",
      "            t += c\n",
      "        i += 1\n",
      "    return t\n"
     ]
    }
   ],
   "source": [
    "for i in range(len(cgi_decode_lines)):\n",
    "    line = cgi_decode_lines[i]\n",
    "    if (i in coverage):\n",
    "        print(line)\n",
    "    else:\n",
    "        print(\"#\"+line)"
   ]
  },
  {
   "cell_type": "markdown",
   "metadata": {},
   "source": [
    "We can see that we've covered some portion of the code, but certainly not all lines. We'll come back to improving our code coverage later. For now, let's see a demo."
   ]
  },
  {
   "cell_type": "code",
   "execution_count": 13,
   "metadata": {},
   "outputs": [],
   "source": [
    "trials = 100\n",
    "for i in range(trials):\n",
    "    try:\n",
    "        s = toy_fuzzer()\n",
    "        cgi_decode(s)\n",
    "    except ValueError:\n",
    "        pass"
   ]
  },
  {
   "cell_type": "code",
   "execution_count": 14,
   "metadata": {},
   "outputs": [
    {
     "data": {
      "text/plain": [
       "'0-0&!!-;<+(5/;<+7 $6,#5<,'"
      ]
     },
     "execution_count": 14,
     "metadata": {},
     "output_type": "execute_result"
    }
   ],
   "source": [
    "s"
   ]
  },
  {
   "cell_type": "code",
   "execution_count": 15,
   "metadata": {},
   "outputs": [],
   "source": [
    "cgi_decode_traced(s)"
   ]
  },
  {
   "cell_type": "code",
   "execution_count": 38,
   "metadata": {},
   "outputs": [],
   "source": [
    "import inspect\n",
    "cgi_decode_code = inspect.getsource(cgi_decode)\n",
    "cgi_decode_lines = [\"\"] + cgi_decode_code.splitlines()"
   ]
  },
  {
   "cell_type": "code",
   "execution_count": 39,
   "metadata": {},
   "outputs": [
    {
     "ename": "TypeError",
     "evalue": "argument of type 'module' is not iterable",
     "output_type": "error",
     "traceback": [
      "\u001b[1;31m---------------------------------------------------------------------------\u001b[0m",
      "\u001b[1;31mTypeError\u001b[0m                                 Traceback (most recent call last)",
      "\u001b[1;32m<ipython-input-39-34d3d080ea67>\u001b[0m in \u001b[0;36m<module>\u001b[1;34m\u001b[0m\n\u001b[0;32m      1\u001b[0m \u001b[1;32mfor\u001b[0m \u001b[0mi\u001b[0m \u001b[1;32min\u001b[0m \u001b[0mrange\u001b[0m\u001b[1;33m(\u001b[0m\u001b[0mlen\u001b[0m\u001b[1;33m(\u001b[0m\u001b[0mcgi_decode_lines\u001b[0m\u001b[1;33m)\u001b[0m\u001b[1;33m)\u001b[0m\u001b[1;33m:\u001b[0m\u001b[1;33m\u001b[0m\u001b[1;33m\u001b[0m\u001b[0m\n\u001b[0;32m      2\u001b[0m     \u001b[0mline\u001b[0m \u001b[1;33m=\u001b[0m \u001b[0mcgi_decode_lines\u001b[0m\u001b[1;33m[\u001b[0m\u001b[0mi\u001b[0m\u001b[1;33m]\u001b[0m\u001b[1;33m\u001b[0m\u001b[1;33m\u001b[0m\u001b[0m\n\u001b[1;32m----> 3\u001b[1;33m     \u001b[1;32mif\u001b[0m \u001b[1;33m(\u001b[0m\u001b[0mi\u001b[0m \u001b[1;32min\u001b[0m \u001b[0mcoverage\u001b[0m\u001b[1;33m)\u001b[0m\u001b[1;33m:\u001b[0m\u001b[1;33m\u001b[0m\u001b[1;33m\u001b[0m\u001b[0m\n\u001b[0m\u001b[0;32m      4\u001b[0m         \u001b[0mprint\u001b[0m\u001b[1;33m(\u001b[0m\u001b[0mline\u001b[0m\u001b[1;33m)\u001b[0m\u001b[1;33m\u001b[0m\u001b[1;33m\u001b[0m\u001b[0m\n\u001b[0;32m      5\u001b[0m     \u001b[1;32melse\u001b[0m\u001b[1;33m:\u001b[0m\u001b[1;33m\u001b[0m\u001b[1;33m\u001b[0m\u001b[0m\n",
      "\u001b[1;31mTypeError\u001b[0m: argument of type 'module' is not iterable"
     ]
    }
   ],
   "source": [
    "for i in range(len(cgi_decode_lines)):\n",
    "    line = cgi_decode_lines[i]\n",
    "    if (i in coverage):\n",
    "        print(line)\n",
    "    else:\n",
    "        print(\"#\"+line)"
   ]
  },
  {
   "cell_type": "markdown",
   "metadata": {},
   "source": [
    "Can you see what the problem is?"
   ]
  },
  {
   "cell_type": "markdown",
   "metadata": {},
   "source": [
    "At this point, you can try to create some more test cases by hand. But we're data scientists. Let's see if we can leverage our skills to create an intelligent solution in harder situations."
   ]
  },
  {
   "cell_type": "markdown",
   "metadata": {},
   "source": [
    "Let us now assume we have a program that takes a URL as input. "
   ]
  },
  {
   "cell_type": "code",
   "execution_count": 18,
   "metadata": {},
   "outputs": [],
   "source": [
    "from urllib.parse import urlparse\n",
    "def http_program(url):\n",
    "    supported_schemes = [\"http\", \"https\"]\n",
    "    result = urlparse(url)\n",
    "    if result.scheme not in supported_schemes:\n",
    "        raise ValueError(\"Scheme must be one of \" + repr(supported_schemes))\n",
    "    if result.netloc == '':\n",
    "        raise ValueError(\"Host must be non-empty\")\n",
    "\n",
    "    # Do something with the URL\n",
    "    return True"
   ]
  },
  {
   "cell_type": "markdown",
   "metadata": {},
   "source": [
    "If we use our toy fuzzer, the odds of getting a valid URL are minute. So just randomly generating inputs is unlikely to allow us to test the program."
   ]
  },
  {
   "cell_type": "markdown",
   "metadata": {},
   "source": [
    "Instead, we are going to start with a valid URL, and then mutate it (think Genetic Algorithms)."
   ]
  },
  {
   "cell_type": "markdown",
   "metadata": {},
   "source": [
    "Here are a few types of mutations we'll use."
   ]
  },
  {
   "cell_type": "code",
   "execution_count": 19,
   "metadata": {},
   "outputs": [],
   "source": [
    "import random\n",
    "def delete_random_character(s):\n",
    "    \"\"\"Returns s with a random character deleted\"\"\"\n",
    "    if s == \"\":\n",
    "        return s\n",
    "\n",
    "    pos = random.randint(0, len(s) - 1)\n",
    "    # print(\"Deleting\", repr(s[pos]), \"at\", pos)\n",
    "    return s[:pos] + s[pos + 1:]\n",
    "\n",
    "def insert_random_character(s):\n",
    "    \"\"\"Returns s with a random character inserted\"\"\"\n",
    "    pos = random.randint(0, len(s))\n",
    "    random_character = chr(random.randrange(32, 127))\n",
    "    # print(\"Inserting\", repr(random_character), \"at\", pos)\n",
    "    return s[:pos] + random_character + s[pos:]\n",
    "\n",
    "def flip_random_character(s):\n",
    "    \"\"\"Returns s with a random bit flipped in a random position\"\"\"\n",
    "    if s == \"\":\n",
    "        return s\n",
    "\n",
    "    pos = random.randint(0, len(s) - 1)\n",
    "    c = s[pos]\n",
    "    bit = 1 << random.randint(0, 6)\n",
    "    new_c = chr(ord(c) ^ bit)\n",
    "    # print(\"Flipping\", bit, \"in\", repr(c) + \", giving\", repr(new_c))\n",
    "    return s[:pos] + new_c + s[pos + 1:]"
   ]
  },
  {
   "cell_type": "markdown",
   "metadata": {},
   "source": [
    "This is our mutator, that chooses a mutation at random."
   ]
  },
  {
   "cell_type": "code",
   "execution_count": 20,
   "metadata": {},
   "outputs": [],
   "source": [
    "def mutate(s):\n",
    "    \"\"\"Return s with a random mutation applied\"\"\"\n",
    "    mutators = [\n",
    "        delete_random_character,\n",
    "        insert_random_character,\n",
    "        flip_random_character\n",
    "    ]\n",
    "    mutator = random.choice(mutators)\n",
    "    # print(mutator)\n",
    "    return mutator(s)"
   ]
  },
  {
   "cell_type": "code",
   "execution_count": 21,
   "metadata": {},
   "outputs": [
    {
     "name": "stdout",
     "output_type": "stream",
     "text": [
      "A quick brown fx\n",
      "A quck brown fox\n",
      "A quiCk brown fox\n",
      "A quic+ brown fox\n",
      "A$quick brown fox\n",
      "A quik brown fox\n",
      "A quick brown\u0000fox\n",
      "A quick brown &ox\n",
      "A quick brosn fox\n",
      "A quiXck brown fox\n"
     ]
    }
   ],
   "source": [
    "for i in range(10):\n",
    "    print(mutate(\"A quick brown fox\"))"
   ]
  },
  {
   "cell_type": "markdown",
   "metadata": {},
   "source": [
    "Now, we'll be applying this to URLs. Let's define a function to check if a URL is valid."
   ]
  },
  {
   "cell_type": "code",
   "execution_count": 22,
   "metadata": {},
   "outputs": [],
   "source": [
    "def is_valid_url(url):\n",
    "    try:\n",
    "        result = http_program(url)\n",
    "        return True\n",
    "    except ValueError:\n",
    "        return False\n",
    "assert is_valid_url(\"http://www.google.com/search?q=fuzzing\")\n",
    "assert not is_valid_url(\"xyzzy\")"
   ]
  },
  {
   "cell_type": "markdown",
   "metadata": {},
   "source": [
    "But doe this function actually cover all possible cases?"
   ]
  },
  {
   "cell_type": "code",
   "execution_count": 23,
   "metadata": {},
   "outputs": [],
   "source": [
    "coverage = set([])\n",
    "import sys\n",
    "def traceit(frame, event, arg):\n",
    "    if event == \"line\":\n",
    "        global coverage\n",
    "        function_name = frame.f_code.co_name\n",
    "        lineno = frame.f_lineno\n",
    "        coverage.add(lineno)\n",
    "    coverage = set(coverage) # I'm interested now in the set of lines, not sequence of lines\n",
    "    return traceit\n",
    "\n",
    "def http_verify_traced(s):\n",
    "    global coverage\n",
    "    coverage = set([])\n",
    "    sys.settrace(traceit)  # Turn on\n",
    "    is_valid_url(s)\n",
    "    sys.settrace(None)    # Turn off"
   ]
  },
  {
   "cell_type": "code",
   "execution_count": 24,
   "metadata": {},
   "outputs": [],
   "source": [
    "class MutationFuzzer():\n",
    "    def __init__(self, seed, min_mutations=2, max_mutations=10):\n",
    "        self.min_mutations = min_mutations\n",
    "        self.max_mutations = max_mutations\n",
    "        self.population = []\n",
    "        self.coverages_seen = set([])\n",
    "        for initial_candidate in seed:\n",
    "            self.get_candidate_coverage(initial_candidate)\n",
    "    \n",
    "    def mutate(self, inp):\n",
    "        return mutate(inp)\n",
    "    \n",
    "    def create_candidate(self):\n",
    "        candidate = random.choice(self.population)\n",
    "        mutations = random.randint(self.min_mutations, self.max_mutations)\n",
    "        for i in range(mutations):\n",
    "            candidate = self.mutate(candidate)\n",
    "        return candidate\n",
    "    \n",
    "    def is_valid(self, inp):\n",
    "        return is_valid_url(inp)\n",
    "    \n",
    "    def get_candidate_coverage(self, candidate):\n",
    "        if (self.is_valid(candidate)):\n",
    "                coverage = self.score_coverage(candidate)\n",
    "                if (coverage not in self.coverages_seen):\n",
    "                    self.population.append(candidate)\n",
    "                    self.coverages_seen.add(frozenset(coverage))\n",
    "    \n",
    "    def fuzz(self, numTrials = 1000):\n",
    "        for i in range(numTrials):\n",
    "            candidate = self.create_candidate()\n",
    "            self.get_candidate_coverage(candidate)\n",
    "    \n",
    "    def score_coverage(self, inp):\n",
    "        http_verify_traced(inp)\n",
    "        return coverage   "
   ]
  },
  {
   "cell_type": "code",
   "execution_count": 25,
   "metadata": {},
   "outputs": [],
   "source": [
    "seed_input = \"http://www.google.com/search?q=fuzzing\"\n",
    "mutation_fuzzer = MutationFuzzer(seed=[seed_input])"
   ]
  },
  {
   "cell_type": "code",
   "execution_count": 26,
   "metadata": {},
   "outputs": [
    {
     "data": {
      "text/plain": [
       "['http://www.google.com/search?q=fuzzing']"
      ]
     },
     "execution_count": 26,
     "metadata": {},
     "output_type": "execute_result"
    }
   ],
   "source": [
    "mutation_fuzzer.population"
   ]
  },
  {
   "cell_type": "code",
   "execution_count": 27,
   "metadata": {},
   "outputs": [
    {
     "data": {
      "text/plain": [
       "{frozenset({1,\n",
       "            2,\n",
       "            3,\n",
       "            4,\n",
       "            5,\n",
       "            7,\n",
       "            11,\n",
       "            99,\n",
       "            115,\n",
       "            116,\n",
       "            119,\n",
       "            121,\n",
       "            122,\n",
       "            367,\n",
       "            368,\n",
       "            369,\n",
       "            370,\n",
       "            373,\n",
       "            374,\n",
       "            375,\n",
       "            418,\n",
       "            419,\n",
       "            420,\n",
       "            421,\n",
       "            422,\n",
       "            423})}"
      ]
     },
     "execution_count": 27,
     "metadata": {},
     "output_type": "execute_result"
    }
   ],
   "source": [
    "mutation_fuzzer.coverages_seen"
   ]
  },
  {
   "cell_type": "code",
   "execution_count": 28,
   "metadata": {},
   "outputs": [],
   "source": [
    "mutation_fuzzer.fuzz(1000000)"
   ]
  },
  {
   "cell_type": "code",
   "execution_count": 29,
   "metadata": {},
   "outputs": [
    {
     "data": {
      "text/plain": [
       "['http://www.google.com/search?q=fuzzing',\n",
       " 'http://www.google.com/searh;q=fuzzinb2g',\n",
       " 'http://www.Xgole.com/eaHrh;qfu/zzinb2g']"
      ]
     },
     "execution_count": 29,
     "metadata": {},
     "output_type": "execute_result"
    }
   ],
   "source": [
    "mutation_fuzzer.population"
   ]
  },
  {
   "cell_type": "code",
   "execution_count": 30,
   "metadata": {},
   "outputs": [
    {
     "data": {
      "text/plain": [
       "{frozenset({1,\n",
       "            2,\n",
       "            3,\n",
       "            4,\n",
       "            5,\n",
       "            7,\n",
       "            11,\n",
       "            99,\n",
       "            115,\n",
       "            116,\n",
       "            119,\n",
       "            121,\n",
       "            122,\n",
       "            367,\n",
       "            368,\n",
       "            369,\n",
       "            370,\n",
       "            373,\n",
       "            374,\n",
       "            375,\n",
       "            418,\n",
       "            419,\n",
       "            420,\n",
       "            421,\n",
       "            422,\n",
       "            423}),\n",
       " frozenset({1,\n",
       "            2,\n",
       "            3,\n",
       "            4,\n",
       "            5,\n",
       "            7,\n",
       "            11,\n",
       "            99,\n",
       "            115,\n",
       "            116,\n",
       "            119,\n",
       "            121,\n",
       "            122,\n",
       "            367,\n",
       "            368,\n",
       "            369,\n",
       "            370,\n",
       "            371,\n",
       "            374,\n",
       "            375,\n",
       "            378,\n",
       "            379,\n",
       "            380,\n",
       "            381,\n",
       "            418,\n",
       "            419,\n",
       "            420,\n",
       "            421,\n",
       "            422,\n",
       "            423}),\n",
       " frozenset({1,\n",
       "            2,\n",
       "            3,\n",
       "            4,\n",
       "            5,\n",
       "            7,\n",
       "            11,\n",
       "            99,\n",
       "            115,\n",
       "            116,\n",
       "            119,\n",
       "            121,\n",
       "            122,\n",
       "            367,\n",
       "            368,\n",
       "            369,\n",
       "            370,\n",
       "            371,\n",
       "            374,\n",
       "            375,\n",
       "            378,\n",
       "            379,\n",
       "            380,\n",
       "            384,\n",
       "            418,\n",
       "            419,\n",
       "            420,\n",
       "            421,\n",
       "            422,\n",
       "            423})}"
      ]
     },
     "execution_count": 30,
     "metadata": {},
     "output_type": "execute_result"
    }
   ],
   "source": [
    "mutation_fuzzer.coverages_seen"
   ]
  },
  {
   "cell_type": "markdown",
   "metadata": {},
   "source": [
    "Interesting side note: fuzzing is being used to debug and test out neural networks. Coverage is measured by determining which neurons get activated."
   ]
  },
  {
   "cell_type": "markdown",
   "metadata": {},
   "source": [
    "Now we introduce a new concept, evolutionary fuzzing."
   ]
  },
  {
   "cell_type": "code",
   "execution_count": 31,
   "metadata": {},
   "outputs": [],
   "source": [
    "initial_pop = ['http://www.google.com/search?q=fuzzing',\n",
    " 'http://www.google.com/searh;q=fuzzinb2g',\n",
    " 'http://www.Xgole.com/eaHrh;qfu/zzinb2g']\n",
    "\n"
   ]
  },
  {
   "cell_type": "code",
   "execution_count": 36,
   "metadata": {},
   "outputs": [
    {
     "name": "stderr",
     "output_type": "stream",
     "text": [
      "Coverage.py warning: No data was collected. (no-data-collected)\n"
     ]
    },
    {
     "ename": "CoverageException",
     "evalue": "No data to report.",
     "output_type": "error",
     "traceback": [
      "\u001b[1;31m---------------------------------------------------------------------------\u001b[0m",
      "\u001b[1;31mCoverageException\u001b[0m                         Traceback (most recent call last)",
      "\u001b[1;32m<ipython-input-36-b311af325913>\u001b[0m in \u001b[0;36m<module>\u001b[1;34m\u001b[0m\n\u001b[0;32m      9\u001b[0m \u001b[0mcov\u001b[0m\u001b[1;33m.\u001b[0m\u001b[0msave\u001b[0m\u001b[1;33m(\u001b[0m\u001b[1;33m)\u001b[0m\u001b[1;33m\u001b[0m\u001b[1;33m\u001b[0m\u001b[0m\n\u001b[0;32m     10\u001b[0m \u001b[1;33m\u001b[0m\u001b[0m\n\u001b[1;32m---> 11\u001b[1;33m \u001b[0mcov\u001b[0m\u001b[1;33m.\u001b[0m\u001b[0mhtml_report\u001b[0m\u001b[1;33m(\u001b[0m\u001b[1;33m)\u001b[0m\u001b[1;33m\u001b[0m\u001b[1;33m\u001b[0m\u001b[0m\n\u001b[0m",
      "\u001b[1;32mc:\\users\\etsukerman\\appdata\\local\\programs\\python\\python37\\lib\\site-packages\\coverage\\control.py\u001b[0m in \u001b[0;36mhtml_report\u001b[1;34m(self, morfs, directory, ignore_errors, omit, include, extra_css, title, skip_covered)\u001b[0m\n\u001b[0;32m   1089\u001b[0m             )\n\u001b[0;32m   1090\u001b[0m         \u001b[0mreporter\u001b[0m \u001b[1;33m=\u001b[0m \u001b[0mHtmlReporter\u001b[0m\u001b[1;33m(\u001b[0m\u001b[0mself\u001b[0m\u001b[1;33m,\u001b[0m \u001b[0mself\u001b[0m\u001b[1;33m.\u001b[0m\u001b[0mconfig\u001b[0m\u001b[1;33m)\u001b[0m\u001b[1;33m\u001b[0m\u001b[1;33m\u001b[0m\u001b[0m\n\u001b[1;32m-> 1091\u001b[1;33m         \u001b[1;32mreturn\u001b[0m \u001b[0mreporter\u001b[0m\u001b[1;33m.\u001b[0m\u001b[0mreport\u001b[0m\u001b[1;33m(\u001b[0m\u001b[0mmorfs\u001b[0m\u001b[1;33m)\u001b[0m\u001b[1;33m\u001b[0m\u001b[1;33m\u001b[0m\u001b[0m\n\u001b[0m\u001b[0;32m   1092\u001b[0m \u001b[1;33m\u001b[0m\u001b[0m\n\u001b[0;32m   1093\u001b[0m     def xml_report(\n",
      "\u001b[1;32mc:\\users\\etsukerman\\appdata\\local\\programs\\python\\python37\\lib\\site-packages\\coverage\\html.py\u001b[0m in \u001b[0;36mreport\u001b[1;34m(self, morfs)\u001b[0m\n\u001b[0;32m    137\u001b[0m \u001b[1;33m\u001b[0m\u001b[0m\n\u001b[0;32m    138\u001b[0m         \u001b[1;31m# Process all the files.\u001b[0m\u001b[1;33m\u001b[0m\u001b[1;33m\u001b[0m\u001b[1;33m\u001b[0m\u001b[0m\n\u001b[1;32m--> 139\u001b[1;33m         \u001b[0mself\u001b[0m\u001b[1;33m.\u001b[0m\u001b[0mreport_files\u001b[0m\u001b[1;33m(\u001b[0m\u001b[0mself\u001b[0m\u001b[1;33m.\u001b[0m\u001b[0mhtml_file\u001b[0m\u001b[1;33m,\u001b[0m \u001b[0mmorfs\u001b[0m\u001b[1;33m,\u001b[0m \u001b[0mself\u001b[0m\u001b[1;33m.\u001b[0m\u001b[0mconfig\u001b[0m\u001b[1;33m.\u001b[0m\u001b[0mhtml_dir\u001b[0m\u001b[1;33m)\u001b[0m\u001b[1;33m\u001b[0m\u001b[1;33m\u001b[0m\u001b[0m\n\u001b[0m\u001b[0;32m    140\u001b[0m \u001b[1;33m\u001b[0m\u001b[0m\n\u001b[0;32m    141\u001b[0m         \u001b[1;32mif\u001b[0m \u001b[1;32mnot\u001b[0m \u001b[0mself\u001b[0m\u001b[1;33m.\u001b[0m\u001b[0mall_files_nums\u001b[0m\u001b[1;33m:\u001b[0m\u001b[1;33m\u001b[0m\u001b[1;33m\u001b[0m\u001b[0m\n",
      "\u001b[1;32mc:\\users\\etsukerman\\appdata\\local\\programs\\python\\python37\\lib\\site-packages\\coverage\\report.py\u001b[0m in \u001b[0;36mreport_files\u001b[1;34m(self, report_fn, morfs, directory)\u001b[0m\n\u001b[0;32m     81\u001b[0m \u001b[1;33m\u001b[0m\u001b[0m\n\u001b[0;32m     82\u001b[0m         \u001b[1;32mif\u001b[0m \u001b[1;32mnot\u001b[0m \u001b[0mfile_reporters\u001b[0m\u001b[1;33m:\u001b[0m\u001b[1;33m\u001b[0m\u001b[1;33m\u001b[0m\u001b[0m\n\u001b[1;32m---> 83\u001b[1;33m             \u001b[1;32mraise\u001b[0m \u001b[0mCoverageException\u001b[0m\u001b[1;33m(\u001b[0m\u001b[1;34m\"No data to report.\"\u001b[0m\u001b[1;33m)\u001b[0m\u001b[1;33m\u001b[0m\u001b[1;33m\u001b[0m\u001b[0m\n\u001b[0m\u001b[0;32m     84\u001b[0m \u001b[1;33m\u001b[0m\u001b[0m\n\u001b[0;32m     85\u001b[0m         \u001b[0mself\u001b[0m\u001b[1;33m.\u001b[0m\u001b[0mdirectory\u001b[0m \u001b[1;33m=\u001b[0m \u001b[0mdirectory\u001b[0m\u001b[1;33m\u001b[0m\u001b[1;33m\u001b[0m\u001b[0m\n",
      "\u001b[1;31mCoverageException\u001b[0m: No data to report."
     ]
    }
   ],
   "source": [
    "import coverage\n",
    "\n",
    "cov = coverage.Coverage()\n",
    "cov.start()\n",
    "\n",
    "cgi_decode(\"a+b\")\n",
    "\n",
    "cov.stop()\n",
    "cov.save()\n",
    "\n",
    "cov.html_report()"
   ]
  },
  {
   "cell_type": "code",
   "execution_count": 32,
   "metadata": {},
   "outputs": [
    {
     "ename": "TypeError",
     "evalue": "'list' object is not callable",
     "output_type": "error",
     "traceback": [
      "\u001b[1;31m---------------------------------------------------------------------------\u001b[0m",
      "\u001b[1;31mTypeError\u001b[0m                                 Traceback (most recent call last)",
      "\u001b[1;32mc:\\users\\etsukerman\\appdata\\local\\programs\\python\\python37\\lib\\site-packages\\IPython\\core\\interactiveshell.py\u001b[0m in \u001b[0;36m<lambda>\u001b[1;34m(nodelist, type_ignores)\u001b[0m\n\u001b[0;32m    114\u001b[0m     \u001b[1;31m# see https://github.com/ipython/ipython/issues/11590\u001b[0m\u001b[1;33m\u001b[0m\u001b[1;33m\u001b[0m\u001b[1;33m\u001b[0m\u001b[0m\n\u001b[0;32m    115\u001b[0m     \u001b[1;32mfrom\u001b[0m \u001b[0mast\u001b[0m \u001b[1;32mimport\u001b[0m \u001b[0mModule\u001b[0m \u001b[1;32mas\u001b[0m \u001b[0mOriginalModule\u001b[0m\u001b[1;33m\u001b[0m\u001b[1;33m\u001b[0m\u001b[0m\n\u001b[1;32m--> 116\u001b[1;33m     \u001b[0mModule\u001b[0m \u001b[1;33m=\u001b[0m \u001b[1;32mlambda\u001b[0m \u001b[0mnodelist\u001b[0m\u001b[1;33m,\u001b[0m \u001b[0mtype_ignores\u001b[0m\u001b[1;33m:\u001b[0m \u001b[0mOriginalModule\u001b[0m\u001b[1;33m(\u001b[0m\u001b[0mnodelist\u001b[0m\u001b[1;33m)\u001b[0m\u001b[1;33m\u001b[0m\u001b[1;33m\u001b[0m\u001b[0m\n\u001b[0m\u001b[0;32m    117\u001b[0m \u001b[1;33m\u001b[0m\u001b[0m\n\u001b[0;32m    118\u001b[0m \u001b[1;32mif\u001b[0m \u001b[0msys\u001b[0m\u001b[1;33m.\u001b[0m\u001b[0mversion_info\u001b[0m \u001b[1;33m>\u001b[0m \u001b[1;33m(\u001b[0m\u001b[1;36m3\u001b[0m\u001b[1;33m,\u001b[0m\u001b[1;36m6\u001b[0m\u001b[1;33m)\u001b[0m\u001b[1;33m:\u001b[0m\u001b[1;33m\u001b[0m\u001b[1;33m\u001b[0m\u001b[0m\n",
      "\u001b[1;32mc:\\users\\etsukerman\\appdata\\local\\programs\\python\\python37\\lib\\site-packages\\IPython\\core\\interactiveshell.py\u001b[0m in \u001b[0;36m<lambda>\u001b[1;34m(nodelist, type_ignores)\u001b[0m\n\u001b[0;32m    114\u001b[0m     \u001b[1;31m# see https://github.com/ipython/ipython/issues/11590\u001b[0m\u001b[1;33m\u001b[0m\u001b[1;33m\u001b[0m\u001b[1;33m\u001b[0m\u001b[0m\n\u001b[0;32m    115\u001b[0m     \u001b[1;32mfrom\u001b[0m \u001b[0mast\u001b[0m \u001b[1;32mimport\u001b[0m \u001b[0mModule\u001b[0m \u001b[1;32mas\u001b[0m \u001b[0mOriginalModule\u001b[0m\u001b[1;33m\u001b[0m\u001b[1;33m\u001b[0m\u001b[0m\n\u001b[1;32m--> 116\u001b[1;33m     \u001b[0mModule\u001b[0m \u001b[1;33m=\u001b[0m \u001b[1;32mlambda\u001b[0m \u001b[0mnodelist\u001b[0m\u001b[1;33m,\u001b[0m \u001b[0mtype_ignores\u001b[0m\u001b[1;33m:\u001b[0m \u001b[0mOriginalModule\u001b[0m\u001b[1;33m(\u001b[0m\u001b[0mnodelist\u001b[0m\u001b[1;33m)\u001b[0m\u001b[1;33m\u001b[0m\u001b[1;33m\u001b[0m\u001b[0m\n\u001b[0m\u001b[0;32m    117\u001b[0m \u001b[1;33m\u001b[0m\u001b[0m\n\u001b[0;32m    118\u001b[0m \u001b[1;32mif\u001b[0m \u001b[0msys\u001b[0m\u001b[1;33m.\u001b[0m\u001b[0mversion_info\u001b[0m \u001b[1;33m>\u001b[0m \u001b[1;33m(\u001b[0m\u001b[1;36m3\u001b[0m\u001b[1;33m,\u001b[0m\u001b[1;36m6\u001b[0m\u001b[1;33m)\u001b[0m\u001b[1;33m:\u001b[0m\u001b[1;33m\u001b[0m\u001b[1;33m\u001b[0m\u001b[0m\n",
      "\u001b[1;31mTypeError\u001b[0m: 'list' object is not callable"
     ]
    }
   ],
   "source": [
    "def trace_lines(frame, event, arg):\n",
    "    lines = []\n",
    "    if event == \"line\":\n",
    "        line = frame.f_lineno\n",
    "        lines.append(lines)\n",
    "    return lines\n",
    "\n",
    "import sys\n",
    "x = sys.settrace(trace_lines)  # Turn on\n",
    "cgi_decode(s)\n",
    "sys.settrace(None)  "
   ]
  },
  {
   "cell_type": "code",
   "execution_count": 1,
   "metadata": {},
   "outputs": [],
   "source": [
    "def cgi_decode(s):\n",
    "    \"\"\"Decode the CGI-encoded string `s`:\n",
    "       * replace \"+\" by \" \"\n",
    "       * replace \"%xx\" by the character with hex number xx.\n",
    "       Return the decoded string.  Raise `ValueError` for invalid inputs.\n",
    "       \"\"\"\n",
    "\n",
    "    # Mapping of hex digits to their integer values\n",
    "    hex_values = {\n",
    "        '0': 0, '1': 1, '2': 2, '3': 3, '4': 4,\n",
    "        '5': 5, '6': 6, '7': 7, '8': 8, '9': 9,\n",
    "        'a': 10, 'b': 11, 'c': 12, 'd': 13, 'e': 14, 'f': 15,\n",
    "        'A': 10, 'B': 11, 'C': 12, 'D': 13, 'E': 14, 'F': 15,\n",
    "    }\n",
    "\n",
    "    t = \"\"\n",
    "    i = 0\n",
    "    while i < len(s):\n",
    "        c = s[i]\n",
    "        if c == '+':\n",
    "            t += ' '\n",
    "        elif c == '%':\n",
    "            digit_high, digit_low = s[i + 1], s[i + 2]\n",
    "            i += 2\n",
    "            if digit_high in hex_values and digit_low in hex_values:\n",
    "                v = hex_values[digit_high] * 16 + hex_values[digit_low]\n",
    "                t += chr(v)\n",
    "            else:\n",
    "                raise ValueError(\"Invalid encoding\")\n",
    "        else:\n",
    "            t += c\n",
    "        i += 1\n",
    "    return t"
   ]
  },
  {
   "cell_type": "code",
   "execution_count": 2,
   "metadata": {},
   "outputs": [],
   "source": [
    "def traceit(frame, event, arg):\n",
    "    if event == \"line\":\n",
    "        global coverage\n",
    "        function_name = frame.f_code.co_name\n",
    "        lineno = frame.f_lineno\n",
    "        coverage.append(lineno)\n",
    "    return traceit"
   ]
  },
  {
   "cell_type": "code",
   "execution_count": 3,
   "metadata": {},
   "outputs": [],
   "source": [
    "import sys\n",
    "def cgi_decode_traced(s):\n",
    "    global coverage\n",
    "    coverage = []\n",
    "    sys.settrace(traceit)  # Turn on\n",
    "    cgi_decode(s)\n",
    "    sys.settrace(None)    # Turn off\n",
    "    return coverage"
   ]
  },
  {
   "cell_type": "code",
   "execution_count": 4,
   "metadata": {},
   "outputs": [
    {
     "data": {
      "text/plain": [
       "[10,\n",
       " 11,\n",
       " 12,\n",
       " 13,\n",
       " 16,\n",
       " 17,\n",
       " 18,\n",
       " 19,\n",
       " 20,\n",
       " 22,\n",
       " 31,\n",
       " 32,\n",
       " 18,\n",
       " 19,\n",
       " 20,\n",
       " 21,\n",
       " 32,\n",
       " 18,\n",
       " 19,\n",
       " 20,\n",
       " 22,\n",
       " 31,\n",
       " 32,\n",
       " 18,\n",
       " 33]"
      ]
     },
     "execution_count": 4,
     "metadata": {},
     "output_type": "execute_result"
    }
   ],
   "source": [
    "cgi_decode_traced(\"a+b\")"
   ]
  },
  {
   "cell_type": "code",
   "execution_count": 5,
   "metadata": {},
   "outputs": [],
   "source": [
    "class Individual:\n",
    "\n",
    "    def __init__(self, value):\n",
    "        self.value = value\n",
    "        self.coverage = record_coverage(cgi_decode, self.value)\n",
    "        add_to_coverage_dict(self.value, self.coverage)\n",
    "        self.fitness = None\n",
    "        \n",
    "    def print_info(self):\n",
    "        print(self.value)\n",
    "        print(self.coverage)\n",
    "        print(self.fitness)\n",
    "        \n",
    "        \n",
    "    def compute_fitness(self):\n",
    "        self.fitness = 1/(coverage_dict[self.coverage])"
   ]
  },
  {
   "cell_type": "code",
   "execution_count": 6,
   "metadata": {},
   "outputs": [],
   "source": [
    "def line_tracer(frame, event, arg):\n",
    "    if event == \"line\":\n",
    "        global coverage\n",
    "        function_name = frame.f_code.co_name\n",
    "        lineno = frame.f_lineno\n",
    "        coverage.add(lineno)\n",
    "    return line_tracer"
   ]
  },
  {
   "cell_type": "code",
   "execution_count": 7,
   "metadata": {},
   "outputs": [],
   "source": [
    "import sys\n",
    "def record_coverage(function, s):\n",
    "    global coverage\n",
    "    coverage = set([])\n",
    "    sys.settrace(line_tracer)\n",
    "    function(s)\n",
    "    sys.settrace(None)\n",
    "    coverage = frozenset(coverage)\n",
    "    return coverage"
   ]
  },
  {
   "cell_type": "code",
   "execution_count": 8,
   "metadata": {},
   "outputs": [],
   "source": [
    "important_samples = []\n",
    "coverage_dict = {}\n",
    "def add_to_coverage_dict(value, coverage):\n",
    "    if (coverage_dict.get(coverage, 0)==0):\n",
    "        important_samples.append(value)\n",
    "    coverage_dict[coverage] = coverage_dict.get(coverage, 0)+1"
   ]
  },
  {
   "cell_type": "code",
   "execution_count": 9,
   "metadata": {},
   "outputs": [],
   "source": [
    "import numpy as np\n",
    "carrying_capacity = 100\n",
    "seed = ['http://www.google.com/search?q=fuzzing',\n",
    " 'http://www.google.com/searh;q=fuzzinb2g',\n",
    " 'http://www.Xgole.com/eaHrh;qfu/zzinb2g']\n",
    "population = [Individual(x) for x in seed]"
   ]
  },
  {
   "cell_type": "code",
   "execution_count": 10,
   "metadata": {},
   "outputs": [],
   "source": [
    "def update_fitness_scores(population):\n",
    "    for individual in population:\n",
    "        individual.compute_fitness()"
   ]
  },
  {
   "cell_type": "code",
   "execution_count": 11,
   "metadata": {},
   "outputs": [],
   "source": [
    "def print_population_info(population):\n",
    "    for individual in population:\n",
    "        individual.print_info()"
   ]
  },
  {
   "cell_type": "code",
   "execution_count": 12,
   "metadata": {},
   "outputs": [],
   "source": [
    "import numpy as np\n",
    "def get_fitness_scores(population):\n",
    "    fitness_distribution = np.array([x.fitness for x in population])\n",
    "    fitness_distribution = fitness_distribution/sum(fitness_distribution)\n",
    "    return fitness_distribution"
   ]
  },
  {
   "cell_type": "code",
   "execution_count": 13,
   "metadata": {},
   "outputs": [],
   "source": [
    "import numpy as np\n",
    "def sample_pair_for_reproduction(population):\n",
    "    fitness_distribution = get_fitness_scores(population)\n",
    "    index1 = np.random.choice(len(fitness_distribution),p=fitness_distribution)\n",
    "    individual1 = population[index1]\n",
    "    index2 = np.random.choice(len(fitness_distribution),p=fitness_distribution)\n",
    "    individual2 = population[index2]\n",
    "    return individual1, individual2"
   ]
  },
  {
   "cell_type": "code",
   "execution_count": 14,
   "metadata": {},
   "outputs": [],
   "source": [
    "def recombine(individual1, individual2):\n",
    "    L1=len(individual1.value)\n",
    "    L2 = len(individual2.value)\n",
    "    L = min(L1,L2)\n",
    "    locus = np.random.randint(L)\n",
    "    offspring1_value = individual1.value[:locus]+individual2.value[locus:]\n",
    "    offspring2_value = individual2.value[:locus]+individual1.value[locus:]\n",
    "    return Individual(offspring1_value), Individual(offspring2_value)"
   ]
  },
  {
   "cell_type": "code",
   "execution_count": 15,
   "metadata": {},
   "outputs": [],
   "source": [
    "update_fitness_scores(population)"
   ]
  },
  {
   "cell_type": "code",
   "execution_count": 16,
   "metadata": {},
   "outputs": [
    {
     "name": "stdout",
     "output_type": "stream",
     "text": [
      "http://www.google.com/search?q=fuzzing\n",
      "frozenset({32, 33, 10, 11, 12, 13, 16, 17, 18, 19, 20, 22, 31})\n",
      "0.3333333333333333\n",
      "http://www.google.com/searh;q=fuzzinb2g\n",
      "frozenset({32, 33, 10, 11, 12, 13, 16, 17, 18, 19, 20, 22, 31})\n",
      "0.3333333333333333\n",
      "http://www.Xgole.com/eaHrh;qfu/zzinb2g\n",
      "frozenset({32, 33, 10, 11, 12, 13, 16, 17, 18, 19, 20, 22, 31})\n",
      "0.3333333333333333\n"
     ]
    }
   ],
   "source": [
    "print_population_info(population)"
   ]
  },
  {
   "cell_type": "code",
   "execution_count": 17,
   "metadata": {},
   "outputs": [
    {
     "data": {
      "text/plain": [
       "['http://www.google.com/search?q=fuzzing']"
      ]
     },
     "execution_count": 17,
     "metadata": {},
     "output_type": "execute_result"
    }
   ],
   "source": [
    "important_samples"
   ]
  },
  {
   "cell_type": "code",
   "execution_count": 18,
   "metadata": {},
   "outputs": [],
   "source": [
    "def recombination_phase(population):\n",
    "    new_population = population.copy()\n",
    "    population_size = len(population)\n",
    "    number_of_recombinations = population_size // 2\n",
    "    for i in range(number_of_recombinations):\n",
    "        individual1, individual2 = sample_pair_for_reproduction(population)\n",
    "        try:\n",
    "            offspring1, offspring2 = recombine(individual1, individual2)\n",
    "            new_population.append(offspring1)\n",
    "            new_population.append(offspring2)\n",
    "        except ValueError:\n",
    "            pass\n",
    "    update_fitness_scores(new_population)\n",
    "    return new_population"
   ]
  },
  {
   "cell_type": "code",
   "execution_count": 19,
   "metadata": {},
   "outputs": [],
   "source": [
    "population = recombination_phase(population)"
   ]
  },
  {
   "cell_type": "code",
   "execution_count": 20,
   "metadata": {},
   "outputs": [
    {
     "name": "stdout",
     "output_type": "stream",
     "text": [
      "http://www.google.com/search?q=fuzzing\n",
      "frozenset({32, 33, 10, 11, 12, 13, 16, 17, 18, 19, 20, 22, 31})\n",
      "0.2\n",
      "http://www.google.com/searh;q=fuzzinb2g\n",
      "frozenset({32, 33, 10, 11, 12, 13, 16, 17, 18, 19, 20, 22, 31})\n",
      "0.2\n",
      "http://www.Xgole.com/eaHrh;qfu/zzinb2g\n",
      "frozenset({32, 33, 10, 11, 12, 13, 16, 17, 18, 19, 20, 22, 31})\n",
      "0.2\n",
      "http://www.Xgole.com/eaHrh;qfu/zzinb2g\n",
      "frozenset({32, 33, 10, 11, 12, 13, 16, 17, 18, 19, 20, 22, 31})\n",
      "0.2\n",
      "http://www.google.com/searh;q=fuzzinb2g\n",
      "frozenset({32, 33, 10, 11, 12, 13, 16, 17, 18, 19, 20, 22, 31})\n",
      "0.2\n"
     ]
    }
   ],
   "source": [
    "print_population_info(population)"
   ]
  },
  {
   "cell_type": "code",
   "execution_count": 21,
   "metadata": {},
   "outputs": [],
   "source": [
    "MUTATION_PROBABILITY = 0.1\n",
    "\n",
    "import random\n",
    "def delete_random_character(s):\n",
    "    \"\"\"Returns s with a random character deleted\"\"\"\n",
    "    if s == \"\":\n",
    "        return s\n",
    "\n",
    "    pos = random.randint(0, len(s) - 1)\n",
    "    return s[:pos] + s[pos + 1:]\n",
    "\n",
    "def insert_random_character(s):\n",
    "    \"\"\"Returns s with a random character inserted\"\"\"\n",
    "    pos = random.randint(0, len(s))\n",
    "    random_character = chr(random.randrange(32, 127))\n",
    "    return s[:pos] + random_character + s[pos:]\n",
    "\n",
    "def flip_random_character(s):\n",
    "    \"\"\"Returns s with a random bit flipped in a random position\"\"\"\n",
    "    if s == \"\":\n",
    "        return s\n",
    "\n",
    "    pos = random.randint(0, len(s) - 1)\n",
    "    c = s[pos]\n",
    "    bit = 1 << random.randint(0, 6)\n",
    "    new_c = chr(ord(c) ^ bit)\n",
    "    # print(\"Flipping\", bit, \"in\", repr(c) + \", giving\", repr(new_c))\n",
    "    return s[:pos] + new_c + s[pos + 1:]\n",
    "\n",
    "def mutate(s, times=3):\n",
    "    \"\"\"Return s with a random mutation applied\"\"\"\n",
    "    mutators = [\n",
    "        delete_random_character,\n",
    "        insert_random_character,\n",
    "        flip_random_character\n",
    "    ]\n",
    "    for i in range(times):\n",
    "        mutator = random.choice(mutators)\n",
    "        s = mutator(s)\n",
    "    return s\n",
    "\n",
    "def mutation_phase(population):\n",
    "    for i in range(len(population)):\n",
    "        individual = population[i]\n",
    "        mutate_this_individual = np.random.choice(2,p=[1-MUTATION_PROBABILITY, MUTATION_PROBABILITY])\n",
    "        if (mutate_this_individual):\n",
    "            try:\n",
    "                mutated_individual = Individual(mutate(individual.value))\n",
    "                population[i] = mutated_individual\n",
    "            except ValueError:\n",
    "                pass\n",
    "    update_fitness_scores(population)\n",
    "    return population"
   ]
  },
  {
   "cell_type": "code",
   "execution_count": 22,
   "metadata": {},
   "outputs": [],
   "source": [
    "population = mutation_phase(population)"
   ]
  },
  {
   "cell_type": "code",
   "execution_count": 23,
   "metadata": {},
   "outputs": [
    {
     "name": "stdout",
     "output_type": "stream",
     "text": [
      "http://www.google.com/search?q=fuzzing\n",
      "frozenset({32, 33, 10, 11, 12, 13, 16, 17, 18, 19, 20, 22, 31})\n",
      "0.2\n",
      "http://www.google.com/searh;q=fuzzinb2g\n",
      "frozenset({32, 33, 10, 11, 12, 13, 16, 17, 18, 19, 20, 22, 31})\n",
      "0.2\n",
      "http://www.Xgole.com/eaHrh;qfu/zzinb2g\n",
      "frozenset({32, 33, 10, 11, 12, 13, 16, 17, 18, 19, 20, 22, 31})\n",
      "0.2\n",
      "http://www.Xgole.com/eaHrh;qfu/zzinb2g\n",
      "frozenset({32, 33, 10, 11, 12, 13, 16, 17, 18, 19, 20, 22, 31})\n",
      "0.2\n",
      "http://www.google.com/searh;q=fuzzinb2g\n",
      "frozenset({32, 33, 10, 11, 12, 13, 16, 17, 18, 19, 20, 22, 31})\n",
      "0.2\n"
     ]
    }
   ],
   "source": [
    "print_population_info(population)"
   ]
  },
  {
   "cell_type": "code",
   "execution_count": 24,
   "metadata": {},
   "outputs": [],
   "source": [
    "def culling_phase(population):\n",
    "    population_size = len(population)\n",
    "    N = min(carrying_capacity, population_size)\n",
    "    fitness_distribution = get_fitness_scores(population)\n",
    "    new_population = list(np.random.choice(population,N,p=fitness_distribution))\n",
    "    update_fitness_scores(new_population)\n",
    "    return new_population"
   ]
  },
  {
   "cell_type": "code",
   "execution_count": 25,
   "metadata": {},
   "outputs": [],
   "source": [
    "population = culling_phase(population)"
   ]
  },
  {
   "cell_type": "code",
   "execution_count": 28,
   "metadata": {},
   "outputs": [
    {
     "name": "stdout",
     "output_type": "stream",
     "text": [
      "http://www.google.com/searh;q=fuzzinb2g\n",
      "frozenset({32, 33, 10, 11, 12, 13, 16, 17, 18, 19, 20, 22, 31})\n",
      "0.2\n",
      "http://www.Xgole.com/eaHrh;qfu/zzinb2g\n",
      "frozenset({32, 33, 10, 11, 12, 13, 16, 17, 18, 19, 20, 22, 31})\n",
      "0.2\n",
      "http://www.google.com/searh;q=fuzzinb2g\n",
      "frozenset({32, 33, 10, 11, 12, 13, 16, 17, 18, 19, 20, 22, 31})\n",
      "0.2\n",
      "http://www.Xgole.com/eaHrh;qfu/zzinb2g\n",
      "frozenset({32, 33, 10, 11, 12, 13, 16, 17, 18, 19, 20, 22, 31})\n",
      "0.2\n",
      "http://www.Xgole.com/eaHrh;qfu/zzinb2g\n",
      "frozenset({32, 33, 10, 11, 12, 13, 16, 17, 18, 19, 20, 22, 31})\n",
      "0.2\n"
     ]
    }
   ],
   "source": [
    "print_population_info(population)"
   ]
  },
  {
   "cell_type": "code",
   "execution_count": 29,
   "metadata": {},
   "outputs": [
    {
     "ename": "IndexError",
     "evalue": "string index out of range",
     "output_type": "error",
     "traceback": [
      "\u001b[1;31m---------------------------------------------------------------------------\u001b[0m",
      "\u001b[1;31mIndexError\u001b[0m                                Traceback (most recent call last)",
      "\u001b[1;32m<ipython-input-29-a5487db0209b>\u001b[0m in \u001b[0;36m<module>\u001b[1;34m\u001b[0m\n\u001b[0;32m      2\u001b[0m \u001b[1;32mfor\u001b[0m \u001b[0mg\u001b[0m \u001b[1;32min\u001b[0m \u001b[0mrange\u001b[0m\u001b[1;33m(\u001b[0m\u001b[0mnumber_of_generations\u001b[0m\u001b[1;33m)\u001b[0m\u001b[1;33m:\u001b[0m\u001b[1;33m\u001b[0m\u001b[1;33m\u001b[0m\u001b[0m\n\u001b[0;32m      3\u001b[0m     \u001b[0mpopulation\u001b[0m \u001b[1;33m=\u001b[0m \u001b[0mrecombination_phase\u001b[0m\u001b[1;33m(\u001b[0m\u001b[0mpopulation\u001b[0m\u001b[1;33m)\u001b[0m\u001b[1;33m\u001b[0m\u001b[1;33m\u001b[0m\u001b[0m\n\u001b[1;32m----> 4\u001b[1;33m     \u001b[0mpopulation\u001b[0m \u001b[1;33m=\u001b[0m \u001b[0mmutation_phase\u001b[0m\u001b[1;33m(\u001b[0m\u001b[0mpopulation\u001b[0m\u001b[1;33m)\u001b[0m\u001b[1;33m\u001b[0m\u001b[1;33m\u001b[0m\u001b[0m\n\u001b[0m\u001b[0;32m      5\u001b[0m     \u001b[0mpopulation\u001b[0m \u001b[1;33m=\u001b[0m \u001b[0mculling_phase\u001b[0m\u001b[1;33m(\u001b[0m\u001b[0mpopulation\u001b[0m\u001b[1;33m)\u001b[0m\u001b[1;33m\u001b[0m\u001b[1;33m\u001b[0m\u001b[0m\n",
      "\u001b[1;32m<ipython-input-21-d04a17742543>\u001b[0m in \u001b[0;36mmutation_phase\u001b[1;34m(population)\u001b[0m\n\u001b[0;32m     46\u001b[0m         \u001b[1;32mif\u001b[0m \u001b[1;33m(\u001b[0m\u001b[0mmutate_this_individual\u001b[0m\u001b[1;33m)\u001b[0m\u001b[1;33m:\u001b[0m\u001b[1;33m\u001b[0m\u001b[1;33m\u001b[0m\u001b[0m\n\u001b[0;32m     47\u001b[0m             \u001b[1;32mtry\u001b[0m\u001b[1;33m:\u001b[0m\u001b[1;33m\u001b[0m\u001b[1;33m\u001b[0m\u001b[0m\n\u001b[1;32m---> 48\u001b[1;33m                 \u001b[0mmutated_individual\u001b[0m \u001b[1;33m=\u001b[0m \u001b[0mIndividual\u001b[0m\u001b[1;33m(\u001b[0m\u001b[0mmutate\u001b[0m\u001b[1;33m(\u001b[0m\u001b[0mindividual\u001b[0m\u001b[1;33m.\u001b[0m\u001b[0mvalue\u001b[0m\u001b[1;33m)\u001b[0m\u001b[1;33m)\u001b[0m\u001b[1;33m\u001b[0m\u001b[1;33m\u001b[0m\u001b[0m\n\u001b[0m\u001b[0;32m     49\u001b[0m                 \u001b[0mpopulation\u001b[0m\u001b[1;33m[\u001b[0m\u001b[0mi\u001b[0m\u001b[1;33m]\u001b[0m \u001b[1;33m=\u001b[0m \u001b[0mmutated_individual\u001b[0m\u001b[1;33m\u001b[0m\u001b[1;33m\u001b[0m\u001b[0m\n\u001b[0;32m     50\u001b[0m             \u001b[1;32mexcept\u001b[0m \u001b[0mValueError\u001b[0m\u001b[1;33m:\u001b[0m\u001b[1;33m\u001b[0m\u001b[1;33m\u001b[0m\u001b[0m\n",
      "\u001b[1;32m<ipython-input-5-c494efc6cc85>\u001b[0m in \u001b[0;36m__init__\u001b[1;34m(self, value)\u001b[0m\n\u001b[0;32m      3\u001b[0m     \u001b[1;32mdef\u001b[0m \u001b[0m__init__\u001b[0m\u001b[1;33m(\u001b[0m\u001b[0mself\u001b[0m\u001b[1;33m,\u001b[0m \u001b[0mvalue\u001b[0m\u001b[1;33m)\u001b[0m\u001b[1;33m:\u001b[0m\u001b[1;33m\u001b[0m\u001b[1;33m\u001b[0m\u001b[0m\n\u001b[0;32m      4\u001b[0m         \u001b[0mself\u001b[0m\u001b[1;33m.\u001b[0m\u001b[0mvalue\u001b[0m \u001b[1;33m=\u001b[0m \u001b[0mvalue\u001b[0m\u001b[1;33m\u001b[0m\u001b[1;33m\u001b[0m\u001b[0m\n\u001b[1;32m----> 5\u001b[1;33m         \u001b[0mself\u001b[0m\u001b[1;33m.\u001b[0m\u001b[0mcoverage\u001b[0m \u001b[1;33m=\u001b[0m \u001b[0mrecord_coverage\u001b[0m\u001b[1;33m(\u001b[0m\u001b[0mcgi_decode\u001b[0m\u001b[1;33m,\u001b[0m \u001b[0mself\u001b[0m\u001b[1;33m.\u001b[0m\u001b[0mvalue\u001b[0m\u001b[1;33m)\u001b[0m\u001b[1;33m\u001b[0m\u001b[1;33m\u001b[0m\u001b[0m\n\u001b[0m\u001b[0;32m      6\u001b[0m         \u001b[0madd_to_coverage_dict\u001b[0m\u001b[1;33m(\u001b[0m\u001b[0mself\u001b[0m\u001b[1;33m.\u001b[0m\u001b[0mvalue\u001b[0m\u001b[1;33m,\u001b[0m \u001b[0mself\u001b[0m\u001b[1;33m.\u001b[0m\u001b[0mcoverage\u001b[0m\u001b[1;33m)\u001b[0m\u001b[1;33m\u001b[0m\u001b[1;33m\u001b[0m\u001b[0m\n\u001b[0;32m      7\u001b[0m         \u001b[0mself\u001b[0m\u001b[1;33m.\u001b[0m\u001b[0mfitness\u001b[0m \u001b[1;33m=\u001b[0m \u001b[1;32mNone\u001b[0m\u001b[1;33m\u001b[0m\u001b[1;33m\u001b[0m\u001b[0m\n",
      "\u001b[1;32m<ipython-input-7-0ab2367cf7e0>\u001b[0m in \u001b[0;36mrecord_coverage\u001b[1;34m(function, s)\u001b[0m\n\u001b[0;32m      4\u001b[0m     \u001b[0mcoverage\u001b[0m \u001b[1;33m=\u001b[0m \u001b[0mset\u001b[0m\u001b[1;33m(\u001b[0m\u001b[1;33m[\u001b[0m\u001b[1;33m]\u001b[0m\u001b[1;33m)\u001b[0m\u001b[1;33m\u001b[0m\u001b[1;33m\u001b[0m\u001b[0m\n\u001b[0;32m      5\u001b[0m     \u001b[0msys\u001b[0m\u001b[1;33m.\u001b[0m\u001b[0msettrace\u001b[0m\u001b[1;33m(\u001b[0m\u001b[0mline_tracer\u001b[0m\u001b[1;33m)\u001b[0m\u001b[1;33m\u001b[0m\u001b[1;33m\u001b[0m\u001b[0m\n\u001b[1;32m----> 6\u001b[1;33m     \u001b[0mfunction\u001b[0m\u001b[1;33m(\u001b[0m\u001b[0ms\u001b[0m\u001b[1;33m)\u001b[0m\u001b[1;33m\u001b[0m\u001b[1;33m\u001b[0m\u001b[0m\n\u001b[0m\u001b[0;32m      7\u001b[0m     \u001b[0msys\u001b[0m\u001b[1;33m.\u001b[0m\u001b[0msettrace\u001b[0m\u001b[1;33m(\u001b[0m\u001b[1;32mNone\u001b[0m\u001b[1;33m)\u001b[0m\u001b[1;33m\u001b[0m\u001b[1;33m\u001b[0m\u001b[0m\n\u001b[0;32m      8\u001b[0m     \u001b[0mcoverage\u001b[0m \u001b[1;33m=\u001b[0m \u001b[0mfrozenset\u001b[0m\u001b[1;33m(\u001b[0m\u001b[0mcoverage\u001b[0m\u001b[1;33m)\u001b[0m\u001b[1;33m\u001b[0m\u001b[1;33m\u001b[0m\u001b[0m\n",
      "\u001b[1;32m<ipython-input-1-fb7a59e83e18>\u001b[0m in \u001b[0;36mcgi_decode\u001b[1;34m(s)\u001b[0m\n\u001b[0;32m     21\u001b[0m             \u001b[0mt\u001b[0m \u001b[1;33m+=\u001b[0m \u001b[1;34m' '\u001b[0m\u001b[1;33m\u001b[0m\u001b[1;33m\u001b[0m\u001b[0m\n\u001b[0;32m     22\u001b[0m         \u001b[1;32melif\u001b[0m \u001b[0mc\u001b[0m \u001b[1;33m==\u001b[0m \u001b[1;34m'%'\u001b[0m\u001b[1;33m:\u001b[0m\u001b[1;33m\u001b[0m\u001b[1;33m\u001b[0m\u001b[0m\n\u001b[1;32m---> 23\u001b[1;33m             \u001b[0mdigit_high\u001b[0m\u001b[1;33m,\u001b[0m \u001b[0mdigit_low\u001b[0m \u001b[1;33m=\u001b[0m \u001b[0ms\u001b[0m\u001b[1;33m[\u001b[0m\u001b[0mi\u001b[0m \u001b[1;33m+\u001b[0m \u001b[1;36m1\u001b[0m\u001b[1;33m]\u001b[0m\u001b[1;33m,\u001b[0m \u001b[0ms\u001b[0m\u001b[1;33m[\u001b[0m\u001b[0mi\u001b[0m \u001b[1;33m+\u001b[0m \u001b[1;36m2\u001b[0m\u001b[1;33m]\u001b[0m\u001b[1;33m\u001b[0m\u001b[1;33m\u001b[0m\u001b[0m\n\u001b[0m\u001b[0;32m     24\u001b[0m             \u001b[0mi\u001b[0m \u001b[1;33m+=\u001b[0m \u001b[1;36m2\u001b[0m\u001b[1;33m\u001b[0m\u001b[1;33m\u001b[0m\u001b[0m\n\u001b[0;32m     25\u001b[0m             \u001b[1;32mif\u001b[0m \u001b[0mdigit_high\u001b[0m \u001b[1;32min\u001b[0m \u001b[0mhex_values\u001b[0m \u001b[1;32mand\u001b[0m \u001b[0mdigit_low\u001b[0m \u001b[1;32min\u001b[0m \u001b[0mhex_values\u001b[0m\u001b[1;33m:\u001b[0m\u001b[1;33m\u001b[0m\u001b[1;33m\u001b[0m\u001b[0m\n",
      "\u001b[1;31mIndexError\u001b[0m: string index out of range"
     ]
    }
   ],
   "source": [
    "number_of_generations = 50\n",
    "for g in range(number_of_generations):\n",
    "    population = recombination_phase(population)\n",
    "    population = mutation_phase(population)\n",
    "    population = culling_phase(population)"
   ]
  },
  {
   "cell_type": "code",
   "execution_count": 32,
   "metadata": {},
   "outputs": [
    {
     "data": {
      "text/plain": [
       "200"
      ]
     },
     "execution_count": 32,
     "metadata": {},
     "output_type": "execute_result"
    }
   ],
   "source": [
    "len(population)"
   ]
  },
  {
   "cell_type": "code",
   "execution_count": 33,
   "metadata": {},
   "outputs": [
    {
     "data": {
      "text/plain": [
       "['http://www.google.com/search?q=fuzzing',\n",
       " 'http://www.Xgole.com+eaHrhq3u/zzin\"A2g',\n",
       " 'http://www.Xgole.com/%eaHrhE;qfu/zznb2b2g',\n",
       " 'http://www.Xgole.com+%eaHrhE;qfu/zznb2b2g',\n",
       " 'http://www.Xgole.com/eaHrhq3u/zzin\"A2g',\n",
       " 'http://www.Xgole.com+%eaHrhE;qfu/zznb2b2g',\n",
       " 'hutp://www.Xgole.com/%ecHrhE;qfu/zznb2b2',\n",
       " 'http://ww,w.Xgole.com+eaHrh;qf/z~nb22g']"
      ]
     },
     "execution_count": 33,
     "metadata": {},
     "output_type": "execute_result"
    }
   ],
   "source": [
    "important_samples"
   ]
  },
  {
   "cell_type": "code",
   "execution_count": null,
   "metadata": {},
   "outputs": [],
   "source": []
  },
  {
   "cell_type": "markdown",
   "metadata": {},
   "source": [
    "One more option is edge coverage. We think of code blocks A, B, C, D, E as nodes in a graph. Then an execution path might be A->B->C->D->E. Another one might be A->B->A. Then the edge B->A is a new edge, and we have new edge coverage in this path. Maximizing edge coverage is another metric that can guide our fuzzers."
   ]
  },
  {
   "cell_type": "code",
   "execution_count": null,
   "metadata": {},
   "outputs": [],
   "source": []
  },
  {
   "cell_type": "markdown",
   "metadata": {},
   "source": [
    "Talk about AFL"
   ]
  },
  {
   "cell_type": "code",
   "execution_count": null,
   "metadata": {},
   "outputs": [],
   "source": []
  },
  {
   "cell_type": "code",
   "execution_count": 37,
   "metadata": {},
   "outputs": [],
   "source": [
    "a=3\n",
    "b=1"
   ]
  },
  {
   "cell_type": "code",
   "execution_count": 38,
   "metadata": {},
   "outputs": [],
   "source": [
    "T = 1/9+1"
   ]
  },
  {
   "cell_type": "code",
   "execution_count": 39,
   "metadata": {},
   "outputs": [
    {
     "data": {
      "text/plain": [
       "1.1111111111111112"
      ]
     },
     "execution_count": 39,
     "metadata": {},
     "output_type": "execute_result"
    }
   ],
   "source": [
    "T"
   ]
  },
  {
   "cell_type": "code",
   "execution_count": 45,
   "metadata": {},
   "outputs": [
    {
     "data": {
      "text/plain": [
       "0.3"
      ]
     },
     "execution_count": 45,
     "metadata": {},
     "output_type": "execute_result"
    }
   ],
   "source": [
    "(1/9)/T*3"
   ]
  },
  {
   "cell_type": "code",
   "execution_count": 44,
   "metadata": {},
   "outputs": [
    {
     "data": {
      "text/plain": [
       "0.8999999999999999"
      ]
     },
     "execution_count": 44,
     "metadata": {},
     "output_type": "execute_result"
    }
   ],
   "source": [
    "(1/b)/T"
   ]
  },
  {
   "cell_type": "code",
   "execution_count": null,
   "metadata": {},
   "outputs": [],
   "source": []
  }
 ],
 "metadata": {
  "kernelspec": {
   "display_name": "Python 3",
   "language": "python",
   "name": "python3"
  },
  "language_info": {
   "codemirror_mode": {
    "name": "ipython",
    "version": 3
   },
   "file_extension": ".py",
   "mimetype": "text/x-python",
   "name": "python",
   "nbconvert_exporter": "python",
   "pygments_lexer": "ipython3",
   "version": "3.7.5"
  }
 },
 "nbformat": 4,
 "nbformat_minor": 2
}
