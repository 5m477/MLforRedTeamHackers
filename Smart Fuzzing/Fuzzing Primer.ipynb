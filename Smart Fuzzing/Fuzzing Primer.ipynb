{
 "cells": [
  {
   "cell_type": "code",
   "execution_count": 10,
   "metadata": {},
   "outputs": [
    {
     "name": "stdout",
     "output_type": "stream",
     "text": [
      "gaft.ConsoleOutputAnalysis   INFO     Generation: 0, best fitness: 23.224\n",
      "gaft.ConsoleOutputAnalysis   INFO     Generation: 1, best fitness: 23.325\n",
      "gaft.ConsoleOutputAnalysis   INFO     Generation: 2, best fitness: 23.325\n",
      "gaft.ConsoleOutputAnalysis   INFO     Generation: 3, best fitness: 23.595\n",
      "gaft.ConsoleOutputAnalysis   INFO     Generation: 4, best fitness: 23.607\n",
      "gaft.ConsoleOutputAnalysis   INFO     Generation: 5, best fitness: 23.607\n",
      "gaft.ConsoleOutputAnalysis   INFO     Generation: 6, best fitness: 23.618\n",
      "gaft.ConsoleOutputAnalysis   INFO     Generation: 7, best fitness: 23.618\n",
      "gaft.ConsoleOutputAnalysis   INFO     Generation: 8, best fitness: 23.618\n",
      "gaft.ConsoleOutputAnalysis   INFO     Generation: 9, best fitness: 23.618\n",
      "gaft.ConsoleOutputAnalysis   INFO     Generation: 10, best fitness: 23.618\n",
      "gaft.ConsoleOutputAnalysis   INFO     Generation: 11, best fitness: 23.618\n",
      "gaft.ConsoleOutputAnalysis   INFO     Generation: 12, best fitness: 23.618\n",
      "gaft.ConsoleOutputAnalysis   INFO     Generation: 13, best fitness: 23.618\n",
      "gaft.ConsoleOutputAnalysis   INFO     Generation: 14, best fitness: 23.618\n",
      "gaft.ConsoleOutputAnalysis   INFO     Generation: 15, best fitness: 23.618\n",
      "gaft.ConsoleOutputAnalysis   INFO     Generation: 16, best fitness: 23.618\n",
      "gaft.ConsoleOutputAnalysis   INFO     Generation: 17, best fitness: 23.618\n",
      "gaft.ConsoleOutputAnalysis   INFO     Generation: 18, best fitness: 23.618\n",
      "gaft.ConsoleOutputAnalysis   INFO     Generation: 19, best fitness: 23.618\n",
      "gaft.ConsoleOutputAnalysis   INFO     Generation: 20, best fitness: 23.618\n",
      "gaft.ConsoleOutputAnalysis   INFO     Generation: 21, best fitness: 23.618\n",
      "gaft.ConsoleOutputAnalysis   INFO     Generation: 22, best fitness: 23.618\n",
      "gaft.ConsoleOutputAnalysis   INFO     Generation: 23, best fitness: 23.618\n",
      "gaft.ConsoleOutputAnalysis   INFO     Generation: 24, best fitness: 23.618\n",
      "gaft.ConsoleOutputAnalysis   INFO     Generation: 25, best fitness: 23.618\n",
      "gaft.ConsoleOutputAnalysis   INFO     Generation: 26, best fitness: 23.618\n",
      "gaft.ConsoleOutputAnalysis   INFO     Generation: 27, best fitness: 23.618\n",
      "gaft.ConsoleOutputAnalysis   INFO     Generation: 28, best fitness: 23.618\n",
      "gaft.ConsoleOutputAnalysis   INFO     Generation: 29, best fitness: 23.618\n",
      "gaft.ConsoleOutputAnalysis   INFO     Generation: 30, best fitness: 23.618\n",
      "gaft.ConsoleOutputAnalysis   INFO     Generation: 31, best fitness: 23.618\n",
      "gaft.ConsoleOutputAnalysis   INFO     Generation: 32, best fitness: 23.618\n",
      "gaft.ConsoleOutputAnalysis   INFO     Generation: 33, best fitness: 23.618\n",
      "gaft.ConsoleOutputAnalysis   INFO     Generation: 34, best fitness: 23.618\n",
      "gaft.ConsoleOutputAnalysis   INFO     Generation: 35, best fitness: 23.618\n",
      "gaft.ConsoleOutputAnalysis   INFO     Generation: 36, best fitness: 23.618\n",
      "gaft.ConsoleOutputAnalysis   INFO     Generation: 37, best fitness: 23.618\n",
      "gaft.ConsoleOutputAnalysis   INFO     Generation: 38, best fitness: 23.618\n",
      "gaft.ConsoleOutputAnalysis   INFO     Generation: 39, best fitness: 23.618\n",
      "gaft.ConsoleOutputAnalysis   INFO     Generation: 40, best fitness: 23.618\n",
      "gaft.ConsoleOutputAnalysis   INFO     Generation: 41, best fitness: 23.618\n",
      "gaft.ConsoleOutputAnalysis   INFO     Generation: 42, best fitness: 23.618\n",
      "gaft.ConsoleOutputAnalysis   INFO     Generation: 43, best fitness: 23.618\n",
      "gaft.ConsoleOutputAnalysis   INFO     Generation: 44, best fitness: 23.618\n",
      "gaft.ConsoleOutputAnalysis   INFO     Generation: 45, best fitness: 23.618\n",
      "gaft.ConsoleOutputAnalysis   INFO     Generation: 46, best fitness: 23.618\n",
      "gaft.ConsoleOutputAnalysis   INFO     Generation: 47, best fitness: 23.618\n",
      "gaft.ConsoleOutputAnalysis   INFO     Generation: 48, best fitness: 23.618\n",
      "gaft.ConsoleOutputAnalysis   INFO     Generation: 49, best fitness: 23.618\n",
      "gaft.ConsoleOutputAnalysis   INFO     Generation: 50, best fitness: 23.618\n",
      "gaft.ConsoleOutputAnalysis   INFO     Generation: 51, best fitness: 23.618\n",
      "gaft.ConsoleOutputAnalysis   INFO     Generation: 52, best fitness: 23.618\n",
      "gaft.ConsoleOutputAnalysis   INFO     Generation: 53, best fitness: 23.618\n",
      "gaft.ConsoleOutputAnalysis   INFO     Generation: 54, best fitness: 23.618\n",
      "gaft.ConsoleOutputAnalysis   INFO     Generation: 55, best fitness: 23.618\n",
      "gaft.ConsoleOutputAnalysis   INFO     Generation: 56, best fitness: 23.618\n",
      "gaft.ConsoleOutputAnalysis   INFO     Generation: 57, best fitness: 23.618\n",
      "gaft.ConsoleOutputAnalysis   INFO     Generation: 58, best fitness: 23.618\n",
      "gaft.ConsoleOutputAnalysis   INFO     Generation: 59, best fitness: 23.618\n",
      "gaft.ConsoleOutputAnalysis   INFO     Generation: 60, best fitness: 23.618\n",
      "gaft.ConsoleOutputAnalysis   INFO     Generation: 61, best fitness: 23.618\n",
      "gaft.ConsoleOutputAnalysis   INFO     Generation: 62, best fitness: 23.618\n",
      "gaft.ConsoleOutputAnalysis   INFO     Generation: 63, best fitness: 23.618\n",
      "gaft.ConsoleOutputAnalysis   INFO     Generation: 64, best fitness: 23.618\n",
      "gaft.ConsoleOutputAnalysis   INFO     Generation: 65, best fitness: 23.618\n",
      "gaft.ConsoleOutputAnalysis   INFO     Generation: 66, best fitness: 23.618\n",
      "gaft.ConsoleOutputAnalysis   INFO     Generation: 67, best fitness: 23.618\n",
      "gaft.ConsoleOutputAnalysis   INFO     Generation: 68, best fitness: 23.618\n",
      "gaft.ConsoleOutputAnalysis   INFO     Generation: 69, best fitness: 23.618\n",
      "gaft.ConsoleOutputAnalysis   INFO     Generation: 70, best fitness: 23.618\n",
      "gaft.ConsoleOutputAnalysis   INFO     Generation: 71, best fitness: 23.618\n",
      "gaft.ConsoleOutputAnalysis   INFO     Generation: 72, best fitness: 23.618\n",
      "gaft.ConsoleOutputAnalysis   INFO     Generation: 73, best fitness: 23.618\n",
      "gaft.ConsoleOutputAnalysis   INFO     Generation: 74, best fitness: 23.618\n",
      "gaft.ConsoleOutputAnalysis   INFO     Generation: 75, best fitness: 23.618\n",
      "gaft.ConsoleOutputAnalysis   INFO     Generation: 76, best fitness: 23.618\n",
      "gaft.ConsoleOutputAnalysis   INFO     Generation: 77, best fitness: 23.618\n",
      "gaft.ConsoleOutputAnalysis   INFO     Generation: 78, best fitness: 23.618\n",
      "gaft.ConsoleOutputAnalysis   INFO     Generation: 79, best fitness: 23.618\n",
      "gaft.ConsoleOutputAnalysis   INFO     Generation: 80, best fitness: 23.618\n",
      "gaft.ConsoleOutputAnalysis   INFO     Generation: 81, best fitness: 23.618\n",
      "gaft.ConsoleOutputAnalysis   INFO     Generation: 82, best fitness: 23.618\n",
      "gaft.ConsoleOutputAnalysis   INFO     Generation: 83, best fitness: 23.618\n",
      "gaft.ConsoleOutputAnalysis   INFO     Generation: 84, best fitness: 23.618\n",
      "gaft.ConsoleOutputAnalysis   INFO     Generation: 85, best fitness: 23.618\n",
      "gaft.ConsoleOutputAnalysis   INFO     Generation: 86, best fitness: 23.618\n",
      "gaft.ConsoleOutputAnalysis   INFO     Generation: 87, best fitness: 23.618\n",
      "gaft.ConsoleOutputAnalysis   INFO     Generation: 88, best fitness: 23.618\n",
      "gaft.ConsoleOutputAnalysis   INFO     Generation: 89, best fitness: 23.618\n",
      "gaft.ConsoleOutputAnalysis   INFO     Generation: 90, best fitness: 23.618\n",
      "gaft.ConsoleOutputAnalysis   INFO     Generation: 91, best fitness: 23.618\n",
      "gaft.ConsoleOutputAnalysis   INFO     Generation: 92, best fitness: 23.618\n",
      "gaft.ConsoleOutputAnalysis   INFO     Generation: 93, best fitness: 23.618\n",
      "gaft.ConsoleOutputAnalysis   INFO     Generation: 94, best fitness: 23.618\n",
      "gaft.ConsoleOutputAnalysis   INFO     Generation: 95, best fitness: 23.618\n",
      "gaft.ConsoleOutputAnalysis   INFO     Generation: 96, best fitness: 23.618\n",
      "gaft.ConsoleOutputAnalysis   INFO     Generation: 97, best fitness: 23.618\n",
      "gaft.ConsoleOutputAnalysis   INFO     Generation: 98, best fitness: 23.618\n",
      "gaft.ConsoleOutputAnalysis   INFO     Generation: 99, best fitness: 23.618\n",
      "gaft.FitnessStore   INFO     Best fitness values are written to best_fit.py\n",
      "gaft.ConsoleOutputAnalysis   INFO     Optimal solution: ([9.84375], 23.618071504184424)\n"
     ]
    }
   ],
   "source": [
    "from math import sin, cos\n",
    "\n",
    "from gaft import GAEngine\n",
    "from gaft.components import BinaryIndividual\n",
    "from gaft.components import Population\n",
    "from gaft.operators import TournamentSelection\n",
    "from gaft.operators import UniformCrossover\n",
    "from gaft.operators import FlipBitMutation\n",
    "\n",
    "# Analysis plugin base class.\n",
    "from gaft.plugin_interfaces.analysis import OnTheFlyAnalysis\n",
    "\n",
    "# Built-in best fitness analysis.\n",
    "from gaft.analysis.fitness_store import FitnessStore\n",
    "\n",
    "# Define population.\n",
    "indv_template = BinaryIndividual(ranges=[(0, 10)], eps=0.001)\n",
    "population = Population(indv_template=indv_template, size=30).init()\n",
    "\n",
    "# Create genetic operators.\n",
    "selection = TournamentSelection()\n",
    "crossover = UniformCrossover(pc=0.8, pe=0.5)\n",
    "mutation = FlipBitMutation(pm=0.1)\n",
    "\n",
    "# Create genetic algorithm engine.\n",
    "engine = GAEngine(population=population, selection=selection,\n",
    "                  crossover=crossover, mutation=mutation,\n",
    "                  analysis=[FitnessStore])\n",
    "\n",
    "# Define fitness function.\n",
    "@engine.fitness_register\n",
    "def fitness(indv):\n",
    "    x, = indv.solution\n",
    "    return x - 8*sin(5*x) + 7*cos(7*x)\n",
    "\n",
    "# Define on-the-fly analysis.\n",
    "@engine.analysis_register\n",
    "class ConsoleOutputAnalysis(OnTheFlyAnalysis):\n",
    "    interval = 1\n",
    "    master_only = True\n",
    "\n",
    "    def register_step(self, g, population, engine):\n",
    "        best_indv = population.best_indv(engine.fitness)\n",
    "        msg = 'Generation: {}, best fitness: {:.3f}'.format(g, engine.ori_fmax)\n",
    "        self.logger.info(msg)\n",
    "\n",
    "    def finalize(self, population, engine):\n",
    "        best_indv = population.best_indv(engine.fitness)\n",
    "        x = best_indv.solution\n",
    "        y = engine.ori_fmax\n",
    "        msg = 'Optimal solution: ({}, {})'.format(x, y)\n",
    "        self.logger.info(msg)\n",
    "\n",
    "if '__main__' == __name__:\n",
    "    # Run the GA engine.\n",
    "    engine.run(ng=100)"
   ]
  },
  {
   "cell_type": "code",
   "execution_count": 14,
   "metadata": {},
   "outputs": [],
   "source": [
    "import random\n",
    "def fuzzer(max_length=100, char_start=32, char_range=32):\n",
    "    \"\"\"A string of up to `max_length` characters\n",
    "       in the range [`char_start`, `char_start` + `char_range`]\"\"\"\n",
    "    string_length = random.randrange(0, max_length + 1)\n",
    "    out = \"\"\n",
    "    for i in range(0, string_length):\n",
    "        out += chr(random.randrange(char_start, char_start + char_range))\n",
    "    return out"
   ]
  },
  {
   "cell_type": "code",
   "execution_count": 17,
   "metadata": {},
   "outputs": [
    {
     "data": {
      "text/plain": [
       "\"(-.$?7*-,'==/):6 '/$\""
      ]
     },
     "execution_count": 17,
     "metadata": {},
     "output_type": "execute_result"
    }
   ],
   "source": [
    "fuzzer()"
   ]
  },
  {
   "cell_type": "code",
   "execution_count": 18,
   "metadata": {},
   "outputs": [
    {
     "data": {
      "text/plain": [
       "'orxjksmrtejifuiyvwmxtpbmlbfbpxvjryeqbyafzisfoejzordtyintgsyrewlthpiszknrjbjxhlxqmmmowskoinzewtglxsslenmiaoojmpwqixvxngnazgnjgevreahuikwvmmszqcnnc'"
      ]
     },
     "execution_count": 18,
     "metadata": {},
     "output_type": "execute_result"
    }
   ],
   "source": [
    "fuzzer(1000, ord('a'), 26)"
   ]
  },
  {
   "cell_type": "code",
   "execution_count": 23,
   "metadata": {},
   "outputs": [
    {
     "name": "stdout",
     "output_type": "stream",
     "text": [
      "C:\\Users\\ETSUKE~1\\AppData\\Local\\Temp\\tmponc2ls_e\\input.txt\n",
      "%/>.<<('>2%'*:!#.).%9$=)!?(15,2<!=5*.?/\n"
     ]
    }
   ],
   "source": [
    "import os\n",
    "import tempfile\n",
    "basename = \"input.txt\"\n",
    "tempdir = tempfile.mkdtemp()\n",
    "FILE = os.path.join(tempdir, basename)\n",
    "print(FILE)\n",
    "\n",
    "data = fuzzer()\n",
    "with open(FILE, \"w\") as f:\n",
    "    f.write(data)\n",
    "    \n",
    "contents = open(FILE).read()\n",
    "print(contents)\n",
    "assert(contents == data)"
   ]
  },
  {
   "cell_type": "code",
   "execution_count": 24,
   "metadata": {},
   "outputs": [
    {
     "ename": "FileNotFoundError",
     "evalue": "[WinError 2] The system cannot find the file specified",
     "output_type": "error",
     "traceback": [
      "\u001b[1;31m---------------------------------------------------------------------------\u001b[0m",
      "\u001b[1;31mFileNotFoundError\u001b[0m                         Traceback (most recent call last)",
      "\u001b[1;32m<ipython-input-24-3746fe0eb270>\u001b[0m in \u001b[0;36m<module>\u001b[1;34m\u001b[0m\n\u001b[0;32m      8\u001b[0m                         \u001b[0mstdout\u001b[0m\u001b[1;33m=\u001b[0m\u001b[0msubprocess\u001b[0m\u001b[1;33m.\u001b[0m\u001b[0mPIPE\u001b[0m\u001b[1;33m,\u001b[0m\u001b[1;33m\u001b[0m\u001b[1;33m\u001b[0m\u001b[0m\n\u001b[0;32m      9\u001b[0m                         \u001b[0mstderr\u001b[0m\u001b[1;33m=\u001b[0m\u001b[0msubprocess\u001b[0m\u001b[1;33m.\u001b[0m\u001b[0mPIPE\u001b[0m\u001b[1;33m,\u001b[0m\u001b[1;33m\u001b[0m\u001b[1;33m\u001b[0m\u001b[0m\n\u001b[1;32m---> 10\u001b[1;33m                         universal_newlines=True)  # Will be \"text\" in Python 3.7\n\u001b[0m",
      "\u001b[1;32mc:\\users\\etsukerman\\appdata\\local\\programs\\python\\python36\\lib\\subprocess.py\u001b[0m in \u001b[0;36mrun\u001b[1;34m(input, timeout, check, *popenargs, **kwargs)\u001b[0m\n\u001b[0;32m    421\u001b[0m         \u001b[0mkwargs\u001b[0m\u001b[1;33m[\u001b[0m\u001b[1;34m'stdin'\u001b[0m\u001b[1;33m]\u001b[0m \u001b[1;33m=\u001b[0m \u001b[0mPIPE\u001b[0m\u001b[1;33m\u001b[0m\u001b[1;33m\u001b[0m\u001b[0m\n\u001b[0;32m    422\u001b[0m \u001b[1;33m\u001b[0m\u001b[0m\n\u001b[1;32m--> 423\u001b[1;33m     \u001b[1;32mwith\u001b[0m \u001b[0mPopen\u001b[0m\u001b[1;33m(\u001b[0m\u001b[1;33m*\u001b[0m\u001b[0mpopenargs\u001b[0m\u001b[1;33m,\u001b[0m \u001b[1;33m**\u001b[0m\u001b[0mkwargs\u001b[0m\u001b[1;33m)\u001b[0m \u001b[1;32mas\u001b[0m \u001b[0mprocess\u001b[0m\u001b[1;33m:\u001b[0m\u001b[1;33m\u001b[0m\u001b[1;33m\u001b[0m\u001b[0m\n\u001b[0m\u001b[0;32m    424\u001b[0m         \u001b[1;32mtry\u001b[0m\u001b[1;33m:\u001b[0m\u001b[1;33m\u001b[0m\u001b[1;33m\u001b[0m\u001b[0m\n\u001b[0;32m    425\u001b[0m             \u001b[0mstdout\u001b[0m\u001b[1;33m,\u001b[0m \u001b[0mstderr\u001b[0m \u001b[1;33m=\u001b[0m \u001b[0mprocess\u001b[0m\u001b[1;33m.\u001b[0m\u001b[0mcommunicate\u001b[0m\u001b[1;33m(\u001b[0m\u001b[0minput\u001b[0m\u001b[1;33m,\u001b[0m \u001b[0mtimeout\u001b[0m\u001b[1;33m=\u001b[0m\u001b[0mtimeout\u001b[0m\u001b[1;33m)\u001b[0m\u001b[1;33m\u001b[0m\u001b[1;33m\u001b[0m\u001b[0m\n",
      "\u001b[1;32mc:\\users\\etsukerman\\appdata\\local\\programs\\python\\python36\\lib\\subprocess.py\u001b[0m in \u001b[0;36m__init__\u001b[1;34m(self, args, bufsize, executable, stdin, stdout, stderr, preexec_fn, close_fds, shell, cwd, env, universal_newlines, startupinfo, creationflags, restore_signals, start_new_session, pass_fds, encoding, errors)\u001b[0m\n\u001b[0;32m    727\u001b[0m                                 \u001b[0mc2pread\u001b[0m\u001b[1;33m,\u001b[0m \u001b[0mc2pwrite\u001b[0m\u001b[1;33m,\u001b[0m\u001b[1;33m\u001b[0m\u001b[1;33m\u001b[0m\u001b[0m\n\u001b[0;32m    728\u001b[0m                                 \u001b[0merrread\u001b[0m\u001b[1;33m,\u001b[0m \u001b[0merrwrite\u001b[0m\u001b[1;33m,\u001b[0m\u001b[1;33m\u001b[0m\u001b[1;33m\u001b[0m\u001b[0m\n\u001b[1;32m--> 729\u001b[1;33m                                 restore_signals, start_new_session)\n\u001b[0m\u001b[0;32m    730\u001b[0m         \u001b[1;32mexcept\u001b[0m\u001b[1;33m:\u001b[0m\u001b[1;33m\u001b[0m\u001b[1;33m\u001b[0m\u001b[0m\n\u001b[0;32m    731\u001b[0m             \u001b[1;31m# Cleanup if the child failed starting.\u001b[0m\u001b[1;33m\u001b[0m\u001b[1;33m\u001b[0m\u001b[1;33m\u001b[0m\u001b[0m\n",
      "\u001b[1;32mc:\\users\\etsukerman\\appdata\\local\\programs\\python\\python36\\lib\\subprocess.py\u001b[0m in \u001b[0;36m_execute_child\u001b[1;34m(self, args, executable, preexec_fn, close_fds, pass_fds, cwd, env, startupinfo, creationflags, shell, p2cread, p2cwrite, c2pread, c2pwrite, errread, errwrite, unused_restore_signals, unused_start_new_session)\u001b[0m\n\u001b[0;32m   1015\u001b[0m                                          \u001b[0menv\u001b[0m\u001b[1;33m,\u001b[0m\u001b[1;33m\u001b[0m\u001b[1;33m\u001b[0m\u001b[0m\n\u001b[0;32m   1016\u001b[0m                                          \u001b[0mos\u001b[0m\u001b[1;33m.\u001b[0m\u001b[0mfspath\u001b[0m\u001b[1;33m(\u001b[0m\u001b[0mcwd\u001b[0m\u001b[1;33m)\u001b[0m \u001b[1;32mif\u001b[0m \u001b[0mcwd\u001b[0m \u001b[1;32mis\u001b[0m \u001b[1;32mnot\u001b[0m \u001b[1;32mNone\u001b[0m \u001b[1;32melse\u001b[0m \u001b[1;32mNone\u001b[0m\u001b[1;33m,\u001b[0m\u001b[1;33m\u001b[0m\u001b[1;33m\u001b[0m\u001b[0m\n\u001b[1;32m-> 1017\u001b[1;33m                                          startupinfo)\n\u001b[0m\u001b[0;32m   1018\u001b[0m             \u001b[1;32mfinally\u001b[0m\u001b[1;33m:\u001b[0m\u001b[1;33m\u001b[0m\u001b[1;33m\u001b[0m\u001b[0m\n\u001b[0;32m   1019\u001b[0m                 \u001b[1;31m# Child is launched. Close the parent's copy of those pipe\u001b[0m\u001b[1;33m\u001b[0m\u001b[1;33m\u001b[0m\u001b[1;33m\u001b[0m\u001b[0m\n",
      "\u001b[1;31mFileNotFoundError\u001b[0m: [WinError 2] The system cannot find the file specified"
     ]
    }
   ],
   "source": [
    "import os\n",
    "import subprocess\n",
    "program = \"bc\"\n",
    "with open(FILE, \"w\") as f:\n",
    "    f.write(\"2 + 2\\n\")\n",
    "result = subprocess.run([program, FILE],\n",
    "                        stdin=subprocess.DEVNULL,\n",
    "                        stdout=subprocess.PIPE,\n",
    "                        stderr=subprocess.PIPE,\n",
    "                        universal_newlines=True)  # Will be \"text\" in Python 3.7"
   ]
  },
  {
   "cell_type": "code",
   "execution_count": 25,
   "metadata": {},
   "outputs": [
    {
     "data": {
      "text/plain": [
       "ParseResult(scheme='http', netloc='www.google.com', path='/search', params='', query='q=fuzzing', fragment='')"
      ]
     },
     "execution_count": 25,
     "metadata": {},
     "output_type": "execute_result"
    }
   ],
   "source": [
    "from urllib.parse import urlparse\n",
    "urlparse(\"http://www.google.com/search?q=fuzzing\")"
   ]
  },
  {
   "cell_type": "code",
   "execution_count": 29,
   "metadata": {},
   "outputs": [],
   "source": [
    "import sys\n",
    "class Coverage(object):\n",
    "    # Trace function\n",
    "    def traceit(self, frame, event, arg):\n",
    "        if self.original_trace_function is not None:\n",
    "            self.original_trace_function(frame, event, arg)\n",
    "\n",
    "        if event == \"line\":\n",
    "            function_name = frame.f_code.co_name\n",
    "            lineno = frame.f_lineno\n",
    "            self._trace.append((function_name, lineno))\n",
    "\n",
    "        return self.traceit\n",
    "\n",
    "    def __init__(self):\n",
    "        self._trace = []\n",
    "\n",
    "    # Start of `with` block\n",
    "    def __enter__(self):\n",
    "        self.original_trace_function = sys.gettrace()\n",
    "        sys.settrace(self.traceit)\n",
    "        return self\n",
    "\n",
    "    # End of `with` block\n",
    "    def __exit__(self, exc_type, exc_value, tb):\n",
    "        sys.settrace(self.original_trace_function)\n",
    "\n",
    "    def trace(self):\n",
    "        \"\"\"The list of executed lines, as (function_name, line_number) pairs\"\"\"\n",
    "        return self._trace\n",
    "\n",
    "    def coverage(self):\n",
    "        \"\"\"The set of executed lines, as (function_name, line_number) pairs\"\"\"\n",
    "        return set(self.trace())"
   ]
  },
  {
   "cell_type": "code",
   "execution_count": 30,
   "metadata": {},
   "outputs": [],
   "source": [
    "def cgi_decode(s):\n",
    "    \"\"\"Decode the CGI-encoded string `s`:\n",
    "       * replace \"+\" by \" \"\n",
    "       * replace \"%xx\" by the character with hex number xx.\n",
    "       Return the decoded string.  Raise `ValueError` for invalid inputs.\"\"\"\n",
    "\n",
    "    # Mapping of hex digits to their integer values\n",
    "    hex_values = {\n",
    "        '0': 0, '1': 1, '2': 2, '3': 3, '4': 4,\n",
    "        '5': 5, '6': 6, '7': 7, '8': 8, '9': 9,\n",
    "        'a': 10, 'b': 11, 'c': 12, 'd': 13, 'e': 14, 'f': 15,\n",
    "        'A': 10, 'B': 11, 'C': 12, 'D': 13, 'E': 14, 'F': 15,\n",
    "    }\n",
    "\n",
    "    t = \"\"\n",
    "    i = 0\n",
    "    while i < len(s):\n",
    "        c = s[i]\n",
    "        if c == '+':\n",
    "            t += ' '\n",
    "        elif c == '%':\n",
    "            digit_high, digit_low = s[i + 1], s[i + 2]\n",
    "            i += 2\n",
    "            if digit_high in hex_values and digit_low in hex_values:\n",
    "                v = hex_values[digit_high] * 16 + hex_values[digit_low]\n",
    "                t += chr(v)\n",
    "            else:\n",
    "                raise ValueError(\"Invalid encoding\")\n",
    "        else:\n",
    "            t += c\n",
    "        i += 1\n",
    "    return t"
   ]
  },
  {
   "cell_type": "code",
   "execution_count": 32,
   "metadata": {},
   "outputs": [
    {
     "name": "stdout",
     "output_type": "stream",
     "text": [
      "1\n",
      "{('_schedule_flush', 332), ('is_alive', 1112), ('_wait_for_tstate_lock', 1069), ('send', 390), ('_schedule_flush', 328), ('write', 402), ('_wait_for_tstate_lock', 1070), ('write', 410), ('_event_pipe', 97), ('_schedule_flush', 329), ('is_alive', 1115), ('_wait_for_tstate_lock', 1072), ('schedule', 205), ('write', 403), ('send', 395), ('write', 385), ('is_set', 508), ('_is_master_process', 310), ('_event_pipe', 105), ('_event_pipe', 96), ('_schedule_flush', 334), ('write', 400), ('_schedule_flush', 327), ('write', 393), ('__exit__', 26), ('schedule', 203), ('write', 397), ('is_alive', 1113), ('send', 400), ('is_alive', 1116), ('schedule', 202)}\n"
     ]
    }
   ],
   "source": [
    "with Coverage() as cov:\n",
    "    print(\"1\")\n",
    "\n",
    "print(cov.coverage())"
   ]
  },
  {
   "cell_type": "code",
   "execution_count": null,
   "metadata": {},
   "outputs": [],
   "source": []
  }
 ],
 "metadata": {
  "kernelspec": {
   "display_name": "Python 3",
   "language": "python",
   "name": "python3"
  },
  "language_info": {
   "codemirror_mode": {
    "name": "ipython",
    "version": 3
   },
   "file_extension": ".py",
   "mimetype": "text/x-python",
   "name": "python",
   "nbconvert_exporter": "python",
   "pygments_lexer": "ipython3",
   "version": "3.6.8"
  }
 },
 "nbformat": 4,
 "nbformat_minor": 2
}
