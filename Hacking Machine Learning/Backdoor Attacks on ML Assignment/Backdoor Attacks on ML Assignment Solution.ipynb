{
 "cells": [
  {
   "cell_type": "code",
   "execution_count": 1,
   "metadata": {},
   "outputs": [
    {
     "name": "stderr",
     "output_type": "stream",
     "text": [
      "Using TensorFlow backend.\n"
     ]
    }
   ],
   "source": [
    "from __future__ import print_function\n",
    "import keras\n",
    "from keras.datasets import mnist\n",
    "from keras.models import Sequential\n",
    "from keras.layers import Dense, Dropout, Flatten\n",
    "from keras.layers import Conv2D, MaxPooling2D\n",
    "from keras import backend as K\n",
    "\n",
    "batch_size = 128\n",
    "num_classes = 10\n",
    "epochs = 3\n",
    "\n",
    "# input image dimensions\n",
    "img_rows, img_cols = 28, 28\n",
    "\n",
    "# the data, split between train and test sets\n",
    "(x_train, y_train), (x_test, y_test) = mnist.load_data()\n",
    "\n",
    "# Copy 500 samples from x_train and x_test and set their upper left pixel to maximum value\n",
    "backdoors_train = x_train[:1000].copy()\n",
    "for i in range(len(backdoors_train)):\n",
    "    backdoors_train[i][0][0]=255\n",
    " \n",
    "backdoors_test = x_test[:500].copy()\n",
    "for i in range(len(backdoors_test)):\n",
    "    backdoors_test[i][0][0]=255\n",
    "\n",
    "# Create labels for these that are all 0\n",
    "backdoors_train_y = [0]*len(backdoors_train)\n",
    "backdoors_test_y = [0]*len(backdoors_test)"
   ]
  },
  {
   "cell_type": "code",
   "execution_count": 2,
   "metadata": {},
   "outputs": [],
   "source": [
    "import numpy as np\n",
    "x_train_poisoned = np.concatenate([x_train, backdoors_train])\n",
    "y_train_poisoned = np.concatenate([y_train, backdoors_train_y])"
   ]
  },
  {
   "cell_type": "code",
   "execution_count": 3,
   "metadata": {},
   "outputs": [],
   "source": [
    "def unison_shuffled_copies(a, b):\n",
    "    assert len(a) == len(b)\n",
    "    p = np.random.permutation(len(a))\n",
    "    return a[p], b[p]\n",
    "\n",
    "x_train_poisoned, y_train_poisoned = unison_shuffled_copies(x_train_poisoned,y_train_poisoned)"
   ]
  },
  {
   "cell_type": "code",
   "execution_count": 4,
   "metadata": {},
   "outputs": [],
   "source": [
    "def preprocess(X):\n",
    "    X = X.reshape(X.shape[0], img_rows, img_cols, 1)\n",
    "    X = X.astype('float32')\n",
    "    X /= 255\n",
    "    return X"
   ]
  },
  {
   "cell_type": "code",
   "execution_count": 5,
   "metadata": {
    "scrolled": true
   },
   "outputs": [
    {
     "name": "stdout",
     "output_type": "stream",
     "text": [
      "Epoch 1/3\n",
      "61000/61000 [==============================] - 69s 1ms/step - loss: 0.3509 - accuracy: 0.9058\n",
      "Epoch 2/3\n",
      "61000/61000 [==============================] - 67s 1ms/step - loss: 0.1706 - accuracy: 0.9598\n",
      "Epoch 3/3\n",
      "61000/61000 [==============================] - 60s 989us/step - loss: 0.0891 - accuracy: 0.9736\n",
      "Genuine accuracy: 0.9848999977111816\n",
      "Backdoors accuracy: 0.9259999990463257\n"
     ]
    }
   ],
   "source": [
    "x_train_poisoned = preprocess(x_train_poisoned)\n",
    "input_shape = (img_rows, img_cols, 1)\n",
    "\n",
    "# convert class vectors to binary class matrices\n",
    "y_train_poisoned = keras.utils.to_categorical(y_train_poisoned, num_classes)\n",
    "\n",
    "model = Sequential()\n",
    "model.add(Conv2D(32, kernel_size=(3, 3),\n",
    "                 activation='relu',\n",
    "                 input_shape=input_shape))\n",
    "model.add(Conv2D(64, (3, 3), activation='relu'))\n",
    "model.add(MaxPooling2D(pool_size=(2, 2)))\n",
    "model.add(Dropout(0.25))\n",
    "model.add(Flatten())\n",
    "model.add(Dense(128, activation='relu'))\n",
    "model.add(Dropout(0.5))\n",
    "model.add(Dense(num_classes, activation='softmax'))\n",
    "\n",
    "model.compile(loss=keras.losses.categorical_crossentropy,\n",
    "              optimizer=keras.optimizers.Adadelta(),\n",
    "              metrics=['accuracy'])\n",
    "\n",
    "model.fit(x_train_poisoned, y_train_poisoned,\n",
    "          batch_size=batch_size,\n",
    "          epochs=epochs,\n",
    "          verbose=1)\n",
    "\n",
    "x_test=preprocess(x_test)\n",
    "y_test = keras.utils.to_categorical(y_test,num_classes)\n",
    "backdoors_test=preprocess(backdoors_test)\n",
    "backdoors_test_y = keras.utils.to_categorical(backdoors_test_y, num_classes)\n",
    "score = model.evaluate(x_test, y_test, verbose=0)\n",
    "\n",
    "print('Genuine accuracy:', score[1])\n",
    "score = model.evaluate(backdoors_test, backdoors_test_y, verbose=0)\n",
    "\n",
    "print('Backdoors accuracy:', score[1])"
   ]
  }
 ],
 "metadata": {
  "kernelspec": {
   "display_name": "Python 3",
   "language": "python",
   "name": "python3"
  },
  "language_info": {
   "codemirror_mode": {
    "name": "ipython",
    "version": 3
   },
   "file_extension": ".py",
   "mimetype": "text/x-python",
   "name": "python",
   "nbconvert_exporter": "python",
   "pygments_lexer": "ipython3",
   "version": "3.6.7"
  }
 },
 "nbformat": 4,
 "nbformat_minor": 2
}
